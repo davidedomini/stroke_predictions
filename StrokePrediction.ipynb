{
  "nbformat": 4,
  "nbformat_minor": 0,
  "metadata": {
    "colab": {
      "name": "StrokePrediction.ipynb",
      "provenance": [],
      "collapsed_sections": [],
      "toc_visible": true,
      "authorship_tag": "ABX9TyO2WcSttkZMwTffKEKpKKsC",
      "include_colab_link": true
    },
    "kernelspec": {
      "name": "python3",
      "display_name": "Python 3"
    },
    "language_info": {
      "name": "python"
    }
  },
  "cells": [
    {
      "cell_type": "markdown",
      "metadata": {
        "id": "view-in-github",
        "colab_type": "text"
      },
      "source": [
        "<a href=\"https://colab.research.google.com/github/davidedomini/stroke_predictions/blob/main/StrokePrediction.ipynb\" target=\"_parent\"><img src=\"https://colab.research.google.com/assets/colab-badge.svg\" alt=\"Open In Colab\"/></a>"
      ]
    },
    {
      "cell_type": "markdown",
      "metadata": {
        "id": "sJccl1lvU5jy"
      },
      "source": [
        "# Stroke Prediction\n",
        "\n",
        "**Davide Domini** <br> \n",
        "davide.domini@studio.unibo.it<br> <br>\n",
        "Programmazione di applicazioni data intensive <br>\n",
        "Laurea in Ingegneria e Scienze Informatiche  \n",
        "DISI - Università di Bologna, Cesena\n",
        "\n",
        "\n"
      ]
    },
    {
      "cell_type": "markdown",
      "metadata": {
        "id": "yyWprJtbWWE9"
      },
      "source": [
        "Citazioni: \n",
        "*   Stroke Preditction Dataset https://www.kaggle.com/fedesoriano/stroke-prediction-dataset\n",
        "\n",
        "\n",
        "\n",
        "\n"
      ]
    },
    {
      "cell_type": "markdown",
      "metadata": {
        "id": "n5iHvB6fYZRM"
      },
      "source": [
        "##Descrizione del problema e comprensione dei dati"
      ]
    },
    {
      "cell_type": "markdown",
      "metadata": {
        "id": "e12KrgYeYr8m"
      },
      "source": [
        "*In questo progetto si vuole realizzare un modello in grado di predire la presenza o meno di un ictus in base ad alcune caratteristiche fisiche e di stile di vita di alcuni pazienti*"
      ]
    },
    {
      "cell_type": "markdown",
      "metadata": {
        "id": "h96nkZHrZhzN"
      },
      "source": [
        "Vengono importate le librerie necessarie\n",
        "- **NumPy** per lavorare agilmente con l'algebra lineare\n",
        "- **Pandas** per gestire meglio i dati in formato tabellare\n",
        "- **Seaborn** per disegnare i grafici (basata su **matplotlib**)\n",
        "- **Urllib** per recuperare il dataset dalla repo github\n",
        "- **Sklearn** per avere i modelli di classificazione\n",
        "- **Imblearn** per applicare l'oversampling alla classe meno numerosa"
      ]
    },
    {
      "cell_type": "code",
      "metadata": {
        "id": "YRpGEfA9XTbr",
        "colab": {
          "base_uri": "https://localhost:8080/"
        },
        "outputId": "3c78db92-0d16-4f1d-c051-7120deea877b"
      },
      "source": [
        "import numpy as np\n",
        "import pandas as pd \n",
        "import matplotlib.pyplot as plt\n",
        "import seaborn as sb\n",
        "import os.path\n",
        "import math\n",
        "from urllib.request import urlretrieve\n",
        "from imblearn.over_sampling import SMOTE\n",
        "from sklearn.linear_model import Perceptron\n",
        "from sklearn.preprocessing import StandardScaler\n",
        "from sklearn.pipeline import Pipeline\n",
        "from sklearn.model_selection import train_test_split\n",
        "from sklearn.preprocessing import StandardScaler\n",
        "from sklearn.metrics import confusion_matrix\n",
        "from sklearn.metrics import precision_score, recall_score, f1_score\n",
        "from sklearn.model_selection import KFold, StratifiedKFold\n",
        "from sklearn.model_selection import GridSearchCV\n",
        "from sklearn.metrics import mean_squared_error\n",
        "from sklearn.linear_model import LogisticRegression\n",
        "from sklearn.svm import SVC\n",
        "from sklearn.tree import DecisionTreeClassifier\n",
        "from sklearn.dummy import DummyClassifier\n",
        "%matplotlib inline"
      ],
      "execution_count": 1,
      "outputs": [
        {
          "output_type": "stream",
          "text": [
            "/usr/local/lib/python3.7/dist-packages/sklearn/externals/six.py:31: FutureWarning: The module is deprecated in version 0.21 and will be removed in version 0.23 since we've dropped support for Python 2.7. Please rely on the official version of six (https://pypi.org/project/six/).\n",
            "  \"(https://pypi.org/project/six/).\", FutureWarning)\n",
            "/usr/local/lib/python3.7/dist-packages/sklearn/utils/deprecation.py:144: FutureWarning: The sklearn.neighbors.base module is  deprecated in version 0.22 and will be removed in version 0.24. The corresponding classes / functions should instead be imported from sklearn.neighbors. Anything that cannot be imported from sklearn.neighbors is now part of the private API.\n",
            "  warnings.warn(message, FutureWarning)\n"
          ],
          "name": "stderr"
        }
      ]
    },
    {
      "cell_type": "markdown",
      "metadata": {
        "id": "U62onaFtaA_E"
      },
      "source": [
        "###Caricamento dei dati e preprocessing\n",
        "\n",
        "Viene recuperato il file del dataset dalla repo GitHub"
      ]
    },
    {
      "cell_type": "code",
      "metadata": {
        "id": "CDd6hs9rXvdy"
      },
      "source": [
        "dataset_url = \"https://raw.githubusercontent.com/davidedomini/stroke_predictions/main/healthcare-dataset-stroke-data.csv\"\n",
        "\n",
        "if not os.path.exists(\"healthcare-dataset-stroke-data.csv\"):\n",
        "    urlretrieve(dataset_url, \"healthcare-dataset-stroke-data.csv\")"
      ],
      "execution_count": 2,
      "outputs": []
    },
    {
      "cell_type": "code",
      "metadata": {
        "colab": {
          "base_uri": "https://localhost:8080/",
          "height": 359
        },
        "id": "XvAK1w64age9",
        "outputId": "d9f05cb0-7937-4a03-f38e-3cbed1fbe39d"
      },
      "source": [
        "stroke_dataset = pd.read_csv(\"healthcare-dataset-stroke-data.csv\", sep=\",\")\n",
        "stroke_dataset.head(10)"
      ],
      "execution_count": 3,
      "outputs": [
        {
          "output_type": "execute_result",
          "data": {
            "text/html": [
              "<div>\n",
              "<style scoped>\n",
              "    .dataframe tbody tr th:only-of-type {\n",
              "        vertical-align: middle;\n",
              "    }\n",
              "\n",
              "    .dataframe tbody tr th {\n",
              "        vertical-align: top;\n",
              "    }\n",
              "\n",
              "    .dataframe thead th {\n",
              "        text-align: right;\n",
              "    }\n",
              "</style>\n",
              "<table border=\"1\" class=\"dataframe\">\n",
              "  <thead>\n",
              "    <tr style=\"text-align: right;\">\n",
              "      <th></th>\n",
              "      <th>id</th>\n",
              "      <th>gender</th>\n",
              "      <th>age</th>\n",
              "      <th>hypertension</th>\n",
              "      <th>heart_disease</th>\n",
              "      <th>ever_married</th>\n",
              "      <th>work_type</th>\n",
              "      <th>Residence_type</th>\n",
              "      <th>avg_glucose_level</th>\n",
              "      <th>bmi</th>\n",
              "      <th>smoking_status</th>\n",
              "      <th>stroke</th>\n",
              "    </tr>\n",
              "  </thead>\n",
              "  <tbody>\n",
              "    <tr>\n",
              "      <th>0</th>\n",
              "      <td>9046</td>\n",
              "      <td>Male</td>\n",
              "      <td>67.0</td>\n",
              "      <td>0</td>\n",
              "      <td>1</td>\n",
              "      <td>Yes</td>\n",
              "      <td>Private</td>\n",
              "      <td>Urban</td>\n",
              "      <td>228.69</td>\n",
              "      <td>36.6</td>\n",
              "      <td>formerly smoked</td>\n",
              "      <td>1</td>\n",
              "    </tr>\n",
              "    <tr>\n",
              "      <th>1</th>\n",
              "      <td>51676</td>\n",
              "      <td>Female</td>\n",
              "      <td>61.0</td>\n",
              "      <td>0</td>\n",
              "      <td>0</td>\n",
              "      <td>Yes</td>\n",
              "      <td>Self-employed</td>\n",
              "      <td>Rural</td>\n",
              "      <td>202.21</td>\n",
              "      <td>NaN</td>\n",
              "      <td>never smoked</td>\n",
              "      <td>1</td>\n",
              "    </tr>\n",
              "    <tr>\n",
              "      <th>2</th>\n",
              "      <td>31112</td>\n",
              "      <td>Male</td>\n",
              "      <td>80.0</td>\n",
              "      <td>0</td>\n",
              "      <td>1</td>\n",
              "      <td>Yes</td>\n",
              "      <td>Private</td>\n",
              "      <td>Rural</td>\n",
              "      <td>105.92</td>\n",
              "      <td>32.5</td>\n",
              "      <td>never smoked</td>\n",
              "      <td>1</td>\n",
              "    </tr>\n",
              "    <tr>\n",
              "      <th>3</th>\n",
              "      <td>60182</td>\n",
              "      <td>Female</td>\n",
              "      <td>49.0</td>\n",
              "      <td>0</td>\n",
              "      <td>0</td>\n",
              "      <td>Yes</td>\n",
              "      <td>Private</td>\n",
              "      <td>Urban</td>\n",
              "      <td>171.23</td>\n",
              "      <td>34.4</td>\n",
              "      <td>smokes</td>\n",
              "      <td>1</td>\n",
              "    </tr>\n",
              "    <tr>\n",
              "      <th>4</th>\n",
              "      <td>1665</td>\n",
              "      <td>Female</td>\n",
              "      <td>79.0</td>\n",
              "      <td>1</td>\n",
              "      <td>0</td>\n",
              "      <td>Yes</td>\n",
              "      <td>Self-employed</td>\n",
              "      <td>Rural</td>\n",
              "      <td>174.12</td>\n",
              "      <td>24.0</td>\n",
              "      <td>never smoked</td>\n",
              "      <td>1</td>\n",
              "    </tr>\n",
              "    <tr>\n",
              "      <th>5</th>\n",
              "      <td>56669</td>\n",
              "      <td>Male</td>\n",
              "      <td>81.0</td>\n",
              "      <td>0</td>\n",
              "      <td>0</td>\n",
              "      <td>Yes</td>\n",
              "      <td>Private</td>\n",
              "      <td>Urban</td>\n",
              "      <td>186.21</td>\n",
              "      <td>29.0</td>\n",
              "      <td>formerly smoked</td>\n",
              "      <td>1</td>\n",
              "    </tr>\n",
              "    <tr>\n",
              "      <th>6</th>\n",
              "      <td>53882</td>\n",
              "      <td>Male</td>\n",
              "      <td>74.0</td>\n",
              "      <td>1</td>\n",
              "      <td>1</td>\n",
              "      <td>Yes</td>\n",
              "      <td>Private</td>\n",
              "      <td>Rural</td>\n",
              "      <td>70.09</td>\n",
              "      <td>27.4</td>\n",
              "      <td>never smoked</td>\n",
              "      <td>1</td>\n",
              "    </tr>\n",
              "    <tr>\n",
              "      <th>7</th>\n",
              "      <td>10434</td>\n",
              "      <td>Female</td>\n",
              "      <td>69.0</td>\n",
              "      <td>0</td>\n",
              "      <td>0</td>\n",
              "      <td>No</td>\n",
              "      <td>Private</td>\n",
              "      <td>Urban</td>\n",
              "      <td>94.39</td>\n",
              "      <td>22.8</td>\n",
              "      <td>never smoked</td>\n",
              "      <td>1</td>\n",
              "    </tr>\n",
              "    <tr>\n",
              "      <th>8</th>\n",
              "      <td>27419</td>\n",
              "      <td>Female</td>\n",
              "      <td>59.0</td>\n",
              "      <td>0</td>\n",
              "      <td>0</td>\n",
              "      <td>Yes</td>\n",
              "      <td>Private</td>\n",
              "      <td>Rural</td>\n",
              "      <td>76.15</td>\n",
              "      <td>NaN</td>\n",
              "      <td>Unknown</td>\n",
              "      <td>1</td>\n",
              "    </tr>\n",
              "    <tr>\n",
              "      <th>9</th>\n",
              "      <td>60491</td>\n",
              "      <td>Female</td>\n",
              "      <td>78.0</td>\n",
              "      <td>0</td>\n",
              "      <td>0</td>\n",
              "      <td>Yes</td>\n",
              "      <td>Private</td>\n",
              "      <td>Urban</td>\n",
              "      <td>58.57</td>\n",
              "      <td>24.2</td>\n",
              "      <td>Unknown</td>\n",
              "      <td>1</td>\n",
              "    </tr>\n",
              "  </tbody>\n",
              "</table>\n",
              "</div>"
            ],
            "text/plain": [
              "      id  gender   age  ...   bmi   smoking_status stroke\n",
              "0   9046    Male  67.0  ...  36.6  formerly smoked      1\n",
              "1  51676  Female  61.0  ...   NaN     never smoked      1\n",
              "2  31112    Male  80.0  ...  32.5     never smoked      1\n",
              "3  60182  Female  49.0  ...  34.4           smokes      1\n",
              "4   1665  Female  79.0  ...  24.0     never smoked      1\n",
              "5  56669    Male  81.0  ...  29.0  formerly smoked      1\n",
              "6  53882    Male  74.0  ...  27.4     never smoked      1\n",
              "7  10434  Female  69.0  ...  22.8     never smoked      1\n",
              "8  27419  Female  59.0  ...   NaN          Unknown      1\n",
              "9  60491  Female  78.0  ...  24.2          Unknown      1\n",
              "\n",
              "[10 rows x 12 columns]"
            ]
          },
          "metadata": {
            "tags": []
          },
          "execution_count": 3
        }
      ]
    },
    {
      "cell_type": "markdown",
      "metadata": {
        "id": "WoWkZXzraoOC"
      },
      "source": [
        "Osservando il dataframe notiamo che il campo `id` è solo un identificatore univoco del paziente, non avendo nessuna importanza ai fini del modello lo impostiamo come index"
      ]
    },
    {
      "cell_type": "code",
      "metadata": {
        "colab": {
          "base_uri": "https://localhost:8080/",
          "height": 390
        },
        "id": "Y9MtX-Ula2d5",
        "outputId": "41f2a86f-3b79-4317-aaa0-53f1bdf06783"
      },
      "source": [
        "stroke_dataset.set_index(\"id\", inplace=True)\n",
        "stroke_dataset.head(10)"
      ],
      "execution_count": 4,
      "outputs": [
        {
          "output_type": "execute_result",
          "data": {
            "text/html": [
              "<div>\n",
              "<style scoped>\n",
              "    .dataframe tbody tr th:only-of-type {\n",
              "        vertical-align: middle;\n",
              "    }\n",
              "\n",
              "    .dataframe tbody tr th {\n",
              "        vertical-align: top;\n",
              "    }\n",
              "\n",
              "    .dataframe thead th {\n",
              "        text-align: right;\n",
              "    }\n",
              "</style>\n",
              "<table border=\"1\" class=\"dataframe\">\n",
              "  <thead>\n",
              "    <tr style=\"text-align: right;\">\n",
              "      <th></th>\n",
              "      <th>gender</th>\n",
              "      <th>age</th>\n",
              "      <th>hypertension</th>\n",
              "      <th>heart_disease</th>\n",
              "      <th>ever_married</th>\n",
              "      <th>work_type</th>\n",
              "      <th>Residence_type</th>\n",
              "      <th>avg_glucose_level</th>\n",
              "      <th>bmi</th>\n",
              "      <th>smoking_status</th>\n",
              "      <th>stroke</th>\n",
              "    </tr>\n",
              "    <tr>\n",
              "      <th>id</th>\n",
              "      <th></th>\n",
              "      <th></th>\n",
              "      <th></th>\n",
              "      <th></th>\n",
              "      <th></th>\n",
              "      <th></th>\n",
              "      <th></th>\n",
              "      <th></th>\n",
              "      <th></th>\n",
              "      <th></th>\n",
              "      <th></th>\n",
              "    </tr>\n",
              "  </thead>\n",
              "  <tbody>\n",
              "    <tr>\n",
              "      <th>9046</th>\n",
              "      <td>Male</td>\n",
              "      <td>67.0</td>\n",
              "      <td>0</td>\n",
              "      <td>1</td>\n",
              "      <td>Yes</td>\n",
              "      <td>Private</td>\n",
              "      <td>Urban</td>\n",
              "      <td>228.69</td>\n",
              "      <td>36.6</td>\n",
              "      <td>formerly smoked</td>\n",
              "      <td>1</td>\n",
              "    </tr>\n",
              "    <tr>\n",
              "      <th>51676</th>\n",
              "      <td>Female</td>\n",
              "      <td>61.0</td>\n",
              "      <td>0</td>\n",
              "      <td>0</td>\n",
              "      <td>Yes</td>\n",
              "      <td>Self-employed</td>\n",
              "      <td>Rural</td>\n",
              "      <td>202.21</td>\n",
              "      <td>NaN</td>\n",
              "      <td>never smoked</td>\n",
              "      <td>1</td>\n",
              "    </tr>\n",
              "    <tr>\n",
              "      <th>31112</th>\n",
              "      <td>Male</td>\n",
              "      <td>80.0</td>\n",
              "      <td>0</td>\n",
              "      <td>1</td>\n",
              "      <td>Yes</td>\n",
              "      <td>Private</td>\n",
              "      <td>Rural</td>\n",
              "      <td>105.92</td>\n",
              "      <td>32.5</td>\n",
              "      <td>never smoked</td>\n",
              "      <td>1</td>\n",
              "    </tr>\n",
              "    <tr>\n",
              "      <th>60182</th>\n",
              "      <td>Female</td>\n",
              "      <td>49.0</td>\n",
              "      <td>0</td>\n",
              "      <td>0</td>\n",
              "      <td>Yes</td>\n",
              "      <td>Private</td>\n",
              "      <td>Urban</td>\n",
              "      <td>171.23</td>\n",
              "      <td>34.4</td>\n",
              "      <td>smokes</td>\n",
              "      <td>1</td>\n",
              "    </tr>\n",
              "    <tr>\n",
              "      <th>1665</th>\n",
              "      <td>Female</td>\n",
              "      <td>79.0</td>\n",
              "      <td>1</td>\n",
              "      <td>0</td>\n",
              "      <td>Yes</td>\n",
              "      <td>Self-employed</td>\n",
              "      <td>Rural</td>\n",
              "      <td>174.12</td>\n",
              "      <td>24.0</td>\n",
              "      <td>never smoked</td>\n",
              "      <td>1</td>\n",
              "    </tr>\n",
              "    <tr>\n",
              "      <th>56669</th>\n",
              "      <td>Male</td>\n",
              "      <td>81.0</td>\n",
              "      <td>0</td>\n",
              "      <td>0</td>\n",
              "      <td>Yes</td>\n",
              "      <td>Private</td>\n",
              "      <td>Urban</td>\n",
              "      <td>186.21</td>\n",
              "      <td>29.0</td>\n",
              "      <td>formerly smoked</td>\n",
              "      <td>1</td>\n",
              "    </tr>\n",
              "    <tr>\n",
              "      <th>53882</th>\n",
              "      <td>Male</td>\n",
              "      <td>74.0</td>\n",
              "      <td>1</td>\n",
              "      <td>1</td>\n",
              "      <td>Yes</td>\n",
              "      <td>Private</td>\n",
              "      <td>Rural</td>\n",
              "      <td>70.09</td>\n",
              "      <td>27.4</td>\n",
              "      <td>never smoked</td>\n",
              "      <td>1</td>\n",
              "    </tr>\n",
              "    <tr>\n",
              "      <th>10434</th>\n",
              "      <td>Female</td>\n",
              "      <td>69.0</td>\n",
              "      <td>0</td>\n",
              "      <td>0</td>\n",
              "      <td>No</td>\n",
              "      <td>Private</td>\n",
              "      <td>Urban</td>\n",
              "      <td>94.39</td>\n",
              "      <td>22.8</td>\n",
              "      <td>never smoked</td>\n",
              "      <td>1</td>\n",
              "    </tr>\n",
              "    <tr>\n",
              "      <th>27419</th>\n",
              "      <td>Female</td>\n",
              "      <td>59.0</td>\n",
              "      <td>0</td>\n",
              "      <td>0</td>\n",
              "      <td>Yes</td>\n",
              "      <td>Private</td>\n",
              "      <td>Rural</td>\n",
              "      <td>76.15</td>\n",
              "      <td>NaN</td>\n",
              "      <td>Unknown</td>\n",
              "      <td>1</td>\n",
              "    </tr>\n",
              "    <tr>\n",
              "      <th>60491</th>\n",
              "      <td>Female</td>\n",
              "      <td>78.0</td>\n",
              "      <td>0</td>\n",
              "      <td>0</td>\n",
              "      <td>Yes</td>\n",
              "      <td>Private</td>\n",
              "      <td>Urban</td>\n",
              "      <td>58.57</td>\n",
              "      <td>24.2</td>\n",
              "      <td>Unknown</td>\n",
              "      <td>1</td>\n",
              "    </tr>\n",
              "  </tbody>\n",
              "</table>\n",
              "</div>"
            ],
            "text/plain": [
              "       gender   age  hypertension  ...   bmi   smoking_status stroke\n",
              "id                                 ...                              \n",
              "9046     Male  67.0             0  ...  36.6  formerly smoked      1\n",
              "51676  Female  61.0             0  ...   NaN     never smoked      1\n",
              "31112    Male  80.0             0  ...  32.5     never smoked      1\n",
              "60182  Female  49.0             0  ...  34.4           smokes      1\n",
              "1665   Female  79.0             1  ...  24.0     never smoked      1\n",
              "56669    Male  81.0             0  ...  29.0  formerly smoked      1\n",
              "53882    Male  74.0             1  ...  27.4     never smoked      1\n",
              "10434  Female  69.0             0  ...  22.8     never smoked      1\n",
              "27419  Female  59.0             0  ...   NaN          Unknown      1\n",
              "60491  Female  78.0             0  ...  24.2          Unknown      1\n",
              "\n",
              "[10 rows x 11 columns]"
            ]
          },
          "metadata": {
            "tags": []
          },
          "execution_count": 4
        }
      ]
    },
    {
      "cell_type": "markdown",
      "metadata": {
        "id": "_pFF4QYlbsPI"
      },
      "source": [
        "###Comprensione delle feature"
      ]
    },
    {
      "cell_type": "markdown",
      "metadata": {
        "id": "BBjtADbWbwvK"
      },
      "source": [
        "Descrizione:\n",
        "\n",
        "1. **id**: identificatore univoco del paziente\n",
        "2. **gender**: [Nominale] genere del paziente, può essere \"Male\", \"Female\" o \"Other\"\n",
        "3. **age**: [Intervallo] età del paziente\n",
        "4. **hypertension**: [Nominale] rappresenta la presenza di ipertensione nel paziente, assume valore 0 se non presente e valore 1 se presente\n",
        "5. **heart_disease**: [Nominale] rappresenta la presenza di cardiopatia nel paziente, assume valore 0 se non presente e valore 1 se presente\n",
        "6. **ever_married**: [Nominale] indica se il paziente è mai stato sposato, assume valore \"Yes\" o \"No\"\n",
        "7. **work_type**: [Nominale] indica il tipo di lavoro del paziente, assume valori \"children\", \"Govt_jov\", \"Never_Worked\", \"Private\" o \"Self-employed\"\n",
        "8. **Residence_type**: [Nominale] indica la zona di residenza del paziente, assume valori \"Rural\" o \"Urban\"\n",
        "9. **avg_glucose_level**: [Intervallo] indica il livello di glucosio medio nel sangue\n",
        "10. **bmi**: [Intervallo] indica l'indice di massa corporea, si calcola come: $$ \\frac{massa}{altezza^2} $$ \n",
        "11. **smoking_status**: [Nominale] indica le abitudini del paziente con il fumo, assume valori \"formerly smoked\", \"never smoked\", \"smokes\" o \"Unknown\"\n",
        "12. **stroke**: [Nominale] indica se il paziente ha avuto un ictus, assume valore 0 oppure 1\n"
      ]
    },
    {
      "cell_type": "markdown",
      "metadata": {
        "id": "uMzz0DT8l2oe"
      },
      "source": [
        "###Esplorazione delle singole feature"
      ]
    },
    {
      "cell_type": "code",
      "metadata": {
        "colab": {
          "base_uri": "https://localhost:8080/",
          "height": 297
        },
        "id": "CqViM8SDhk-a",
        "outputId": "e0560e4b-e7f9-47c5-b95d-953fd7ecbe6d"
      },
      "source": [
        "stroke_dataset.describe()"
      ],
      "execution_count": 5,
      "outputs": [
        {
          "output_type": "execute_result",
          "data": {
            "text/html": [
              "<div>\n",
              "<style scoped>\n",
              "    .dataframe tbody tr th:only-of-type {\n",
              "        vertical-align: middle;\n",
              "    }\n",
              "\n",
              "    .dataframe tbody tr th {\n",
              "        vertical-align: top;\n",
              "    }\n",
              "\n",
              "    .dataframe thead th {\n",
              "        text-align: right;\n",
              "    }\n",
              "</style>\n",
              "<table border=\"1\" class=\"dataframe\">\n",
              "  <thead>\n",
              "    <tr style=\"text-align: right;\">\n",
              "      <th></th>\n",
              "      <th>age</th>\n",
              "      <th>hypertension</th>\n",
              "      <th>heart_disease</th>\n",
              "      <th>avg_glucose_level</th>\n",
              "      <th>bmi</th>\n",
              "      <th>stroke</th>\n",
              "    </tr>\n",
              "  </thead>\n",
              "  <tbody>\n",
              "    <tr>\n",
              "      <th>count</th>\n",
              "      <td>5110.000000</td>\n",
              "      <td>5110.000000</td>\n",
              "      <td>5110.000000</td>\n",
              "      <td>5110.000000</td>\n",
              "      <td>4909.000000</td>\n",
              "      <td>5110.000000</td>\n",
              "    </tr>\n",
              "    <tr>\n",
              "      <th>mean</th>\n",
              "      <td>43.226614</td>\n",
              "      <td>0.097456</td>\n",
              "      <td>0.054012</td>\n",
              "      <td>106.147677</td>\n",
              "      <td>28.893237</td>\n",
              "      <td>0.048728</td>\n",
              "    </tr>\n",
              "    <tr>\n",
              "      <th>std</th>\n",
              "      <td>22.612647</td>\n",
              "      <td>0.296607</td>\n",
              "      <td>0.226063</td>\n",
              "      <td>45.283560</td>\n",
              "      <td>7.854067</td>\n",
              "      <td>0.215320</td>\n",
              "    </tr>\n",
              "    <tr>\n",
              "      <th>min</th>\n",
              "      <td>0.080000</td>\n",
              "      <td>0.000000</td>\n",
              "      <td>0.000000</td>\n",
              "      <td>55.120000</td>\n",
              "      <td>10.300000</td>\n",
              "      <td>0.000000</td>\n",
              "    </tr>\n",
              "    <tr>\n",
              "      <th>25%</th>\n",
              "      <td>25.000000</td>\n",
              "      <td>0.000000</td>\n",
              "      <td>0.000000</td>\n",
              "      <td>77.245000</td>\n",
              "      <td>23.500000</td>\n",
              "      <td>0.000000</td>\n",
              "    </tr>\n",
              "    <tr>\n",
              "      <th>50%</th>\n",
              "      <td>45.000000</td>\n",
              "      <td>0.000000</td>\n",
              "      <td>0.000000</td>\n",
              "      <td>91.885000</td>\n",
              "      <td>28.100000</td>\n",
              "      <td>0.000000</td>\n",
              "    </tr>\n",
              "    <tr>\n",
              "      <th>75%</th>\n",
              "      <td>61.000000</td>\n",
              "      <td>0.000000</td>\n",
              "      <td>0.000000</td>\n",
              "      <td>114.090000</td>\n",
              "      <td>33.100000</td>\n",
              "      <td>0.000000</td>\n",
              "    </tr>\n",
              "    <tr>\n",
              "      <th>max</th>\n",
              "      <td>82.000000</td>\n",
              "      <td>1.000000</td>\n",
              "      <td>1.000000</td>\n",
              "      <td>271.740000</td>\n",
              "      <td>97.600000</td>\n",
              "      <td>1.000000</td>\n",
              "    </tr>\n",
              "  </tbody>\n",
              "</table>\n",
              "</div>"
            ],
            "text/plain": [
              "               age  hypertension  ...          bmi       stroke\n",
              "count  5110.000000   5110.000000  ...  4909.000000  5110.000000\n",
              "mean     43.226614      0.097456  ...    28.893237     0.048728\n",
              "std      22.612647      0.296607  ...     7.854067     0.215320\n",
              "min       0.080000      0.000000  ...    10.300000     0.000000\n",
              "25%      25.000000      0.000000  ...    23.500000     0.000000\n",
              "50%      45.000000      0.000000  ...    28.100000     0.000000\n",
              "75%      61.000000      0.000000  ...    33.100000     0.000000\n",
              "max      82.000000      1.000000  ...    97.600000     1.000000\n",
              "\n",
              "[8 rows x 6 columns]"
            ]
          },
          "metadata": {
            "tags": []
          },
          "execution_count": 5
        }
      ]
    },
    {
      "cell_type": "markdown",
      "metadata": {
        "id": "fjaaqMIIh5nG"
      },
      "source": [
        "Con il metodo describe possiamo ottenere varie informazioni sulle feature presenti nel dataset:\n",
        "\n",
        "\n",
        "* L'età media dei pazienti è circa 43 anni, il più giovane ha meno di un anno mentre il più anziano ne ha 82, inoltre possiamo notare che comunque il 50% ha più di 45 anni\n",
        "* Il livello di glucosio medio nel sangue è circa 106, di solito questo valore dovrebbe stare nell'intervallo [70;100], dal 75-esimo percentile possiamo notare che circa il 25% dei pazienti ha livelli preoccupanti che denotano una probabile presenza di diabete\n",
        "* La media dei valori del BMI assume valore 28, leggermente troppo alto in quanto una persona con peso regolare dovrebbe stare nell'intervallo [18;25], inoltre abbiamo 10 come valore minimo e 97 come valore massimo il che indica che abbiamo alcuni casi di grave magrezza e grave obesità\n",
        "\n"
      ]
    },
    {
      "cell_type": "markdown",
      "metadata": {
        "id": "NYIjJdUuesgg"
      },
      "source": [
        "Inoltre dal riassunto precedente del dataframe possiamo notare che ci sono alcuni valori NaN quindi controlliamo meglio"
      ]
    },
    {
      "cell_type": "code",
      "metadata": {
        "colab": {
          "base_uri": "https://localhost:8080/"
        },
        "id": "L9E-p9TXe2qa",
        "outputId": "c07fa6aa-270d-4da7-dc8c-2f48eecf5b0e"
      },
      "source": [
        "stroke_dataset.isna().sum()"
      ],
      "execution_count": 6,
      "outputs": [
        {
          "output_type": "execute_result",
          "data": {
            "text/plain": [
              "gender                 0\n",
              "age                    0\n",
              "hypertension           0\n",
              "heart_disease          0\n",
              "ever_married           0\n",
              "work_type              0\n",
              "Residence_type         0\n",
              "avg_glucose_level      0\n",
              "bmi                  201\n",
              "smoking_status         0\n",
              "stroke                 0\n",
              "dtype: int64"
            ]
          },
          "metadata": {
            "tags": []
          },
          "execution_count": 6
        }
      ]
    },
    {
      "cell_type": "markdown",
      "metadata": {
        "id": "gz4Q1NXJe9W3"
      },
      "source": [
        "Vista la presenza di 201 valori mancanti nella colonna bmi procediamo alla rimozione"
      ]
    },
    {
      "cell_type": "code",
      "metadata": {
        "colab": {
          "base_uri": "https://localhost:8080/"
        },
        "id": "NY2NACvZfEtO",
        "outputId": "096849c8-1665-456d-e2a1-3e1a94b9fbbf"
      },
      "source": [
        "stroke_dataset.dropna(inplace=True)\n",
        "stroke_dataset.isna().sum()"
      ],
      "execution_count": 7,
      "outputs": [
        {
          "output_type": "execute_result",
          "data": {
            "text/plain": [
              "gender               0\n",
              "age                  0\n",
              "hypertension         0\n",
              "heart_disease        0\n",
              "ever_married         0\n",
              "work_type            0\n",
              "Residence_type       0\n",
              "avg_glucose_level    0\n",
              "bmi                  0\n",
              "smoking_status       0\n",
              "stroke               0\n",
              "dtype: int64"
            ]
          },
          "metadata": {
            "tags": []
          },
          "execution_count": 7
        }
      ]
    },
    {
      "cell_type": "code",
      "metadata": {
        "colab": {
          "base_uri": "https://localhost:8080/",
          "height": 248
        },
        "id": "T2QD-YSbm2Dq",
        "outputId": "49c26d18-a3b5-46b8-d7fa-b604eb420ae4"
      },
      "source": [
        "stroke_dataset[\"stroke\"].value_counts().plot.pie(autopct=\"%.1f%%\");"
      ],
      "execution_count": 8,
      "outputs": [
        {
          "output_type": "display_data",
          "data": {
            "image/png": "[encoded data removed]",
            "text/plain": [
              "<Figure size 432x288 with 1 Axes>"
            ]
          },
          "metadata": {
            "tags": []
          }
        }
      ]
    },
    {
      "cell_type": "markdown",
      "metadata": {
        "id": "ZdCW3Swzn5d7"
      },
      "source": [
        "Dal grafico a torta della feature `stroke` notiamo che le due classi sono estremamente sbilanciate, questo protrebbe creare problemi in seguito quindi nelle prossime sezioni verranno applicate tecniche come dare un peso diverso alle due classi oppure under/over -sampling di una delle due classi"
      ]
    },
    {
      "cell_type": "code",
      "metadata": {
        "colab": {
          "base_uri": "https://localhost:8080/",
          "height": 699
        },
        "id": "nZlvLNIiiWvC",
        "outputId": "05dfb697-e18b-408c-af32-ac140c3043cc"
      },
      "source": [
        "plt.figure(figsize=(20,10))\n",
        "\n",
        "plt.subplot(2,2,1)\n",
        "sb.histplot(x=\"gender\", data=stroke_dataset);\n",
        "\n",
        "plt.subplot(2,2,2)\n",
        "sb.histplot(x=\"age\", data=stroke_dataset);\n",
        "\n",
        "plt.subplot(2,2,3)\n",
        "sb.distplot(stroke_dataset[\"avg_glucose_level\"]);\n",
        "\n",
        "plt.subplot(2,2,4)\n",
        "sb.distplot(stroke_dataset[\"bmi\"]);"
      ],
      "execution_count": 14,
      "outputs": [
        {
          "output_type": "stream",
          "text": [
            "/usr/local/lib/python3.7/dist-packages/seaborn/distributions.py:2557: FutureWarning: `distplot` is a deprecated function and will be removed in a future version. Please adapt your code to use either `displot` (a figure-level function with similar flexibility) or `histplot` (an axes-level function for histograms).\n",
            "  warnings.warn(msg, FutureWarning)\n",
            "/usr/local/lib/python3.7/dist-packages/seaborn/distributions.py:2557: FutureWarning: `distplot` is a deprecated function and will be removed in a future version. Please adapt your code to use either `displot` (a figure-level function with similar flexibility) or `histplot` (an axes-level function for histograms).\n",
            "  warnings.warn(msg, FutureWarning)\n"
          ],
          "name": "stderr"
        },
        {
          "output_type": "display_data",
          "data": {
            "image/png": "[encoded data removed]",
            "text/plain": [
              "<Figure size 1440x720 with 4 Axes>"
            ]
          },
          "metadata": {
            "tags": [],
            "needs_background": "light"
          }
        }
      ]
    },
    {
      "cell_type": "markdown",
      "metadata": {
        "id": "aUGFVGiWlLwn"
      },
      "source": [
        "Da questi istogrammi possiamo notare che:\n",
        "\n",
        "\n",
        "* I pazienti sono più donne che uomini\n",
        "* Il numero di pazienti ha due picchi intorno ai 40 anni e agli 80 anni\n",
        "* Il livello medio di glucosio è molto concentrato nell'intervallo che va circa da 60 a 100\n",
        "* Il bmi è molto concentrato nell'intevallo [20;40]\n",
        "\n"
      ]
    },
    {
      "cell_type": "code",
      "metadata": {
        "colab": {
          "base_uri": "https://localhost:8080/",
          "height": 607
        },
        "id": "6ND2Sr53jWAH",
        "outputId": "bc296be0-aeb2-4962-ca00-ac63663bf586"
      },
      "source": [
        "plt.figure(figsize=(20,10))\n",
        "\n",
        "plt.subplot(3,2,1)\n",
        "sb.countplot(x=\"hypertension\", data=stroke_dataset);\n",
        "\n",
        "plt.subplot(3,2,2)\n",
        "sb.countplot(x=\"ever_married\", data=stroke_dataset);\n",
        "\n",
        "plt.subplot(3,2,3)\n",
        "sb.countplot(x=\"smoking_status\", data=stroke_dataset);\n",
        "\n",
        "plt.subplot(3,2,4)\n",
        "sb.countplot(x=\"heart_disease\", data=stroke_dataset);\n",
        "\n",
        "plt.subplot(3,2,5)\n",
        "sb.countplot(x=\"Residence_type\", data=stroke_dataset);\n",
        "\n",
        "plt.subplot(3,2,6)\n",
        "sb.countplot(x=\"work_type\", data=stroke_dataset);\n"
      ],
      "execution_count": null,
      "outputs": [
        {
          "output_type": "display_data",
          "data": {
            "image/png": "[encoded data removed]",
            "text/plain": [
              "<Figure size 1440x720 with 6 Axes>"
            ]
          },
          "metadata": {
            "tags": [],
            "needs_background": "light"
          }
        }
      ]
    },
    {
      "cell_type": "markdown",
      "metadata": {
        "id": "B7XmvMmnmjcy"
      },
      "source": [
        "Da questi altri grafici invece notiamo che:\n",
        "\n",
        "\n",
        "* Sono molti di più i pazienti senza ipertensione che quelli che ne soffrono\n",
        "* Abbiamo meno pazienti che non sono mai stati sposati\n",
        "* Molti dei pazienti non hanno mai fumato, però ce ne sono anche molti in cui abbiamo stato sconosciuto, quindi questo potrebbe andare a pareggiare i conti nella realtà\n",
        "* Pochi pazienti sono cardiopatici\n",
        "* La differenza fra chi abita in zone urbane e chi in zone rurali è pressochè nulla \n",
        "\n"
      ]
    },
    {
      "cell_type": "code",
      "metadata": {
        "colab": {
          "base_uri": "https://localhost:8080/",
          "height": 606
        },
        "id": "ArZJDQdAsYat",
        "outputId": "c22b6560-6dda-406a-8328-d9bc02d0e00a"
      },
      "source": [
        "plt.figure(figsize=(20,10))\n",
        "\n",
        "plt.subplot(2,2,1)\n",
        "sb.boxplot(x=\"age\", data=stroke_dataset);\n",
        "\n",
        "plt.subplot(2,2,2)\n",
        "sb.boxplot(x=\"bmi\", data=stroke_dataset);\n",
        "\n",
        "plt.subplot(2,2,3)\n",
        "sb.boxplot(x=\"avg_glucose_level\", data=stroke_dataset);"
      ],
      "execution_count": null,
      "outputs": [
        {
          "output_type": "display_data",
          "data": {
            "image/png": "[encoded data removed]",
            "text/plain": [
              "<Figure size 1440x720 with 3 Axes>"
            ]
          },
          "metadata": {
            "tags": [],
            "needs_background": "light"
          }
        }
      ]
    },
    {
      "cell_type": "markdown",
      "metadata": {
        "id": "2CxoUvt0huNr"
      },
      "source": [
        "Da questi ultimi grafici possiamo notare che la feature `avg_glucose_level` sembra avere molti valori outlier, a primo impatto potremmo pensare di rimuoverne almeno una parte per non avere valori anomali quindi facciamo un'analisi più approfondita per decidere se è il caso di farlo o no"
      ]
    },
    {
      "cell_type": "code",
      "metadata": {
        "colab": {
          "base_uri": "https://localhost:8080/",
          "height": 369
        },
        "id": "T1S_VF9Ngxno",
        "outputId": "f9b3d0f4-8cdd-4ca2-b151-1ce55e475618"
      },
      "source": [
        "sb.displot(x='avg_glucose_level', hue='stroke', data = stroke_dataset, palette=\"pastel\", multiple=\"stack\");"
      ],
      "execution_count": null,
      "outputs": [
        {
          "output_type": "display_data",
          "data": {
            "image/png": "[encoded data removed]",
            "text/plain": [
              "<Figure size 402.375x360 with 1 Axes>"
            ]
          },
          "metadata": {
            "tags": [],
            "needs_background": "light"
          }
        }
      ]
    },
    {
      "cell_type": "code",
      "metadata": {
        "colab": {
          "base_uri": "https://localhost:8080/"
        },
        "id": "jD8tze2jifJL",
        "outputId": "1451ef0e-89bc-4f27-ea93-866154310cef"
      },
      "source": [
        "stroke_avg165 = stroke_dataset[stroke_dataset.avg_glucose_level >= 160].loc[:,\"stroke\"].sum()\n",
        "stroke_tot = stroke_dataset.loc[:,\"stroke\"].sum()\n",
        "stroke_perc = stroke_avg165 / stroke_tot\n",
        "print(f\"Abbiamo {stroke_tot} ictus totali, di cui {stroke_avg165} sono avvenuti in pazienti con un valore di glucosio medio nel sangue non nella norma, in percentuale sono quindi il {stroke_perc:.1%}\")"
      ],
      "execution_count": null,
      "outputs": [
        {
          "output_type": "stream",
          "text": [
            "Abbiamo 209 ictus totali, di cui 76 sono avvenuti in pazienti con un valore di glucosio medio nel sangue non nella norma, in percentuale sono quindi il 36.4%\n"
          ],
          "name": "stdout"
        }
      ]
    },
    {
      "cell_type": "markdown",
      "metadata": {
        "id": "38fg_FgwkzBv"
      },
      "source": [
        "Da questa ulteriore analisi possiamo quindi osservare due cose:\n",
        "\n",
        "\n",
        "1.   Una buona fetta degli ictus totali è presente in persone con il livello medio di glucosio nel sangue non nella norma\n",
        "2.   Se consideriamo due frazioni distinte del dataset, nella prima sezione contenente i pazienti con un livello di glucosio medio inferiore a 160 abbiamo che i casi di ictus sono una piccola frazione dei casi totali mentre nella seconda sezione i casi con ictus sono una frazione molto più grande dei casi totali \n",
        "\n",
        "In virtù di questi risultati decidiamo di tenere anche i dati outlier per la feature `avg_glucose_level`\n",
        "\n",
        "\n"
      ]
    },
    {
      "cell_type": "markdown",
      "metadata": {
        "id": "LotYfgXbuAVW"
      },
      "source": [
        "###Esplorazione dei legami fra le feature"
      ]
    },
    {
      "cell_type": "code",
      "metadata": {
        "colab": {
          "base_uri": "https://localhost:8080/",
          "height": 369
        },
        "id": "viUx5rFyuK0y",
        "outputId": "67e20441-a59f-4955-ce0c-7ce55cccd7d1"
      },
      "source": [
        "sb.displot(x='age', hue='stroke', data = stroke_dataset, palette=\"pastel\", multiple=\"stack\");"
      ],
      "execution_count": null,
      "outputs": [
        {
          "output_type": "display_data",
          "data": {
            "image/png": "[encoded data removed]",
            "text/plain": [
              "<Figure size 402.375x360 with 1 Axes>"
            ]
          },
          "metadata": {
            "tags": [],
            "needs_background": "light"
          }
        }
      ]
    },
    {
      "cell_type": "markdown",
      "metadata": {
        "id": "mpOWcvApuUAO"
      },
      "source": [
        "Un primo legame interessante è quello fra età e presenza di ictus, possiamo notare come praticamente la totalità degli ictus si sia verificata in pazienti con più di 35-40 anni.\n",
        "In particolare abbiamo un picco nei pazienti più anziani intorno agli 80 anni"
      ]
    },
    {
      "cell_type": "code",
      "metadata": {
        "colab": {
          "base_uri": "https://localhost:8080/",
          "height": 866
        },
        "id": "fVInUZS30wKq",
        "outputId": "04bf3095-57b5-4b0a-ff61-83d6f3cd18b6"
      },
      "source": [
        "plt.figure(figsize=(25,20))\n",
        "\n",
        "plt.subplot(4,2,1)\n",
        "sb.countplot(x='hypertension', hue='stroke', data = stroke_dataset, palette=\"pastel\");\n",
        "\n",
        "plt.subplot(4,2,2)\n",
        "sb.countplot(x='heart_disease', hue='stroke', data = stroke_dataset, palette=\"pastel\");\n",
        "\n",
        "plt.subplot(4,2,3)\n",
        "sb.countplot(x='ever_married', hue='stroke', data = stroke_dataset, palette=\"pastel\");\n",
        "\n",
        "plt.subplot(4,2,4)\n",
        "sb.countplot(x='work_type', hue='stroke', data = stroke_dataset, palette=\"pastel\");\n",
        "\n",
        "plt.subplot(4,2,5)\n",
        "sb.countplot(x='Residence_type', hue='stroke', data = stroke_dataset, palette=\"pastel\");\n",
        "\n",
        "plt.subplot(4,2,6)\n",
        "sb.countplot(x='smoking_status', hue='stroke', data = stroke_dataset, palette=\"pastel\");"
      ],
      "execution_count": null,
      "outputs": [
        {
          "output_type": "display_data",
          "data": {
            "image/png": "[encoded data removed]",
            "text/plain": [
              "<Figure size 1800x1440 with 6 Axes>"
            ]
          },
          "metadata": {
            "tags": [],
            "needs_background": "light"
          }
        }
      ]
    },
    {
      "cell_type": "markdown",
      "metadata": {
        "id": "cOV0GB6-1xjs"
      },
      "source": [
        "Notiamo quindi che:\n",
        "\n",
        "\n",
        "*   Ipertensione e cardiopatia sembrano influire abbastanza sugli ictus\n",
        "*   Molti dei pazienti che hanno presentato ictus erano sposati\n",
        "*   La distribuzione rispetto alla zona di residenza è uniforme, circa metà e metà\n",
        "*   Abitudini scorrette con il fumo possono incidere sulla presenza di ictus\n",
        "*   La maggior parte dei pazienti con ictus lavorava nel settore privato o era un lavoratore autonomo\n",
        "\n",
        "\n"
      ]
    },
    {
      "cell_type": "code",
      "metadata": {
        "colab": {
          "base_uri": "https://localhost:8080/",
          "height": 538
        },
        "id": "s5HVYYVBSAiQ",
        "outputId": "aff8adc3-26ed-4b0c-9175-e03770d67854"
      },
      "source": [
        "corr_matrix = stroke_dataset.corr()\n",
        "mask = np.triu(np.ones_like(corr_matrix, dtype=bool))\n",
        "f, ax = plt.subplots(figsize=(11,9))\n",
        "cmap = sb.diverging_palette(230,20,as_cmap=True)\n",
        "sb.heatmap(corr_matrix, mask=mask, cmap=cmap, vmax=.3, center=0, square=True, linewidths=.5, cbar_kws={\"shrink\": .5});\n",
        "\n",
        "#credits: https://seaborn.pydata.org/examples/many_pairwise_correlations.html?highlight=correlation%20matrix"
      ],
      "execution_count": null,
      "outputs": [
        {
          "output_type": "display_data",
          "data": {
            "image/png": "[encoded data removed]",
            "text/plain": [
              "<Figure size 792x648 with 2 Axes>"
            ]
          },
          "metadata": {
            "tags": [],
            "needs_background": "light"
          }
        }
      ]
    },
    {
      "cell_type": "markdown",
      "metadata": {
        "id": "ipIEq4uUTQi6"
      },
      "source": [
        "Da questa matrice di correlazione possiamo osservare che:\n",
        "\n",
        "\n",
        "*   L'età sembra influire sul bmi e sull'ipertensione\n",
        "*   Gli ictus sono correlati in modo più forte con l'età, in minor modo con ipertensione, cardiopatia e glucosio mentre molto meno con il bmi\n",
        "*   È probabile che chi ha un livello medio di glucosio nel sangue più alto abbia anche problemi di ipertensione e/o cardiopatia\n",
        "\n",
        "*Comunque i valori di correlazione non sono molto alti quindi probabilmente sarà necessario usare modelli con feature non lineari*\n",
        "\n"
      ]
    },
    {
      "cell_type": "markdown",
      "metadata": {
        "id": "C6SyvQ29WIed"
      },
      "source": [
        "##Feature Engineering"
      ]
    },
    {
      "cell_type": "markdown",
      "metadata": {
        "id": "jfKArvNOX5Uf"
      },
      "source": [
        "Andiamo ora a trasformare le varie feature categoriche, queste verranno splittate creando tante feature quanti sono i possibili valori che potevano assumere\n",
        "\n",
        "\n",
        "*   Ad esempio la feature `Residence_type` poteva assumere valori *Urban* o *Rural* quindi verranno create due nuove feature `Residence_type_Urban` e `Residence_type_Rural`, se una determinata istanza aveva valore Urban ora avrà valore 1 nella rispettiva feature e valore 0 nell'altra\n",
        "\n",
        "In egual modo vengono trasformate tutte le altre feature categoriche\n",
        "\n",
        "\n"
      ]
    },
    {
      "cell_type": "code",
      "metadata": {
        "id": "SwsRfqLFXPAl"
      },
      "source": [
        "categorical_features = [\"gender\", \"work_type\", \"Residence_type\", \"smoking_status\"]\n",
        "stroke_dataset = pd.get_dummies(stroke_dataset, columns=categorical_features, prefix=categorical_features)"
      ],
      "execution_count": null,
      "outputs": []
    },
    {
      "cell_type": "code",
      "metadata": {
        "colab": {
          "base_uri": "https://localhost:8080/",
          "height": 427
        },
        "id": "O6QwDFydZPzn",
        "outputId": "cd3d7f0d-dd97-4e3c-c852-d02ce10d5f68"
      },
      "source": [
        "stroke_dataset.head(10)"
      ],
      "execution_count": null,
      "outputs": [
        {
          "output_type": "execute_result",
          "data": {
            "text/html": [
              "<div>\n",
              "<style scoped>\n",
              "    .dataframe tbody tr th:only-of-type {\n",
              "        vertical-align: middle;\n",
              "    }\n",
              "\n",
              "    .dataframe tbody tr th {\n",
              "        vertical-align: top;\n",
              "    }\n",
              "\n",
              "    .dataframe thead th {\n",
              "        text-align: right;\n",
              "    }\n",
              "</style>\n",
              "<table border=\"1\" class=\"dataframe\">\n",
              "  <thead>\n",
              "    <tr style=\"text-align: right;\">\n",
              "      <th></th>\n",
              "      <th>age</th>\n",
              "      <th>hypertension</th>\n",
              "      <th>heart_disease</th>\n",
              "      <th>ever_married</th>\n",
              "      <th>avg_glucose_level</th>\n",
              "      <th>bmi</th>\n",
              "      <th>stroke</th>\n",
              "      <th>gender_Female</th>\n",
              "      <th>gender_Male</th>\n",
              "      <th>gender_Other</th>\n",
              "      <th>work_type_Govt_job</th>\n",
              "      <th>work_type_Never_worked</th>\n",
              "      <th>work_type_Private</th>\n",
              "      <th>work_type_Self-employed</th>\n",
              "      <th>work_type_children</th>\n",
              "      <th>Residence_type_Rural</th>\n",
              "      <th>Residence_type_Urban</th>\n",
              "      <th>smoking_status_Unknown</th>\n",
              "      <th>smoking_status_formerly smoked</th>\n",
              "      <th>smoking_status_never smoked</th>\n",
              "      <th>smoking_status_smokes</th>\n",
              "    </tr>\n",
              "    <tr>\n",
              "      <th>id</th>\n",
              "      <th></th>\n",
              "      <th></th>\n",
              "      <th></th>\n",
              "      <th></th>\n",
              "      <th></th>\n",
              "      <th></th>\n",
              "      <th></th>\n",
              "      <th></th>\n",
              "      <th></th>\n",
              "      <th></th>\n",
              "      <th></th>\n",
              "      <th></th>\n",
              "      <th></th>\n",
              "      <th></th>\n",
              "      <th></th>\n",
              "      <th></th>\n",
              "      <th></th>\n",
              "      <th></th>\n",
              "      <th></th>\n",
              "      <th></th>\n",
              "      <th></th>\n",
              "    </tr>\n",
              "  </thead>\n",
              "  <tbody>\n",
              "    <tr>\n",
              "      <th>9046</th>\n",
              "      <td>67.0</td>\n",
              "      <td>0</td>\n",
              "      <td>1</td>\n",
              "      <td>Yes</td>\n",
              "      <td>228.69</td>\n",
              "      <td>36.6</td>\n",
              "      <td>1</td>\n",
              "      <td>0</td>\n",
              "      <td>1</td>\n",
              "      <td>0</td>\n",
              "      <td>0</td>\n",
              "      <td>0</td>\n",
              "      <td>1</td>\n",
              "      <td>0</td>\n",
              "      <td>0</td>\n",
              "      <td>0</td>\n",
              "      <td>1</td>\n",
              "      <td>0</td>\n",
              "      <td>1</td>\n",
              "      <td>0</td>\n",
              "      <td>0</td>\n",
              "    </tr>\n",
              "    <tr>\n",
              "      <th>31112</th>\n",
              "      <td>80.0</td>\n",
              "      <td>0</td>\n",
              "      <td>1</td>\n",
              "      <td>Yes</td>\n",
              "      <td>105.92</td>\n",
              "      <td>32.5</td>\n",
              "      <td>1</td>\n",
              "      <td>0</td>\n",
              "      <td>1</td>\n",
              "      <td>0</td>\n",
              "      <td>0</td>\n",
              "      <td>0</td>\n",
              "      <td>1</td>\n",
              "      <td>0</td>\n",
              "      <td>0</td>\n",
              "      <td>1</td>\n",
              "      <td>0</td>\n",
              "      <td>0</td>\n",
              "      <td>0</td>\n",
              "      <td>1</td>\n",
              "      <td>0</td>\n",
              "    </tr>\n",
              "    <tr>\n",
              "      <th>60182</th>\n",
              "      <td>49.0</td>\n",
              "      <td>0</td>\n",
              "      <td>0</td>\n",
              "      <td>Yes</td>\n",
              "      <td>171.23</td>\n",
              "      <td>34.4</td>\n",
              "      <td>1</td>\n",
              "      <td>1</td>\n",
              "      <td>0</td>\n",
              "      <td>0</td>\n",
              "      <td>0</td>\n",
              "      <td>0</td>\n",
              "      <td>1</td>\n",
              "      <td>0</td>\n",
              "      <td>0</td>\n",
              "      <td>0</td>\n",
              "      <td>1</td>\n",
              "      <td>0</td>\n",
              "      <td>0</td>\n",
              "      <td>0</td>\n",
              "      <td>1</td>\n",
              "    </tr>\n",
              "    <tr>\n",
              "      <th>1665</th>\n",
              "      <td>79.0</td>\n",
              "      <td>1</td>\n",
              "      <td>0</td>\n",
              "      <td>Yes</td>\n",
              "      <td>174.12</td>\n",
              "      <td>24.0</td>\n",
              "      <td>1</td>\n",
              "      <td>1</td>\n",
              "      <td>0</td>\n",
              "      <td>0</td>\n",
              "      <td>0</td>\n",
              "      <td>0</td>\n",
              "      <td>0</td>\n",
              "      <td>1</td>\n",
              "      <td>0</td>\n",
              "      <td>1</td>\n",
              "      <td>0</td>\n",
              "      <td>0</td>\n",
              "      <td>0</td>\n",
              "      <td>1</td>\n",
              "      <td>0</td>\n",
              "    </tr>\n",
              "    <tr>\n",
              "      <th>56669</th>\n",
              "      <td>81.0</td>\n",
              "      <td>0</td>\n",
              "      <td>0</td>\n",
              "      <td>Yes</td>\n",
              "      <td>186.21</td>\n",
              "      <td>29.0</td>\n",
              "      <td>1</td>\n",
              "      <td>0</td>\n",
              "      <td>1</td>\n",
              "      <td>0</td>\n",
              "      <td>0</td>\n",
              "      <td>0</td>\n",
              "      <td>1</td>\n",
              "      <td>0</td>\n",
              "      <td>0</td>\n",
              "      <td>0</td>\n",
              "      <td>1</td>\n",
              "      <td>0</td>\n",
              "      <td>1</td>\n",
              "      <td>0</td>\n",
              "      <td>0</td>\n",
              "    </tr>\n",
              "    <tr>\n",
              "      <th>53882</th>\n",
              "      <td>74.0</td>\n",
              "      <td>1</td>\n",
              "      <td>1</td>\n",
              "      <td>Yes</td>\n",
              "      <td>70.09</td>\n",
              "      <td>27.4</td>\n",
              "      <td>1</td>\n",
              "      <td>0</td>\n",
              "      <td>1</td>\n",
              "      <td>0</td>\n",
              "      <td>0</td>\n",
              "      <td>0</td>\n",
              "      <td>1</td>\n",
              "      <td>0</td>\n",
              "      <td>0</td>\n",
              "      <td>1</td>\n",
              "      <td>0</td>\n",
              "      <td>0</td>\n",
              "      <td>0</td>\n",
              "      <td>1</td>\n",
              "      <td>0</td>\n",
              "    </tr>\n",
              "    <tr>\n",
              "      <th>10434</th>\n",
              "      <td>69.0</td>\n",
              "      <td>0</td>\n",
              "      <td>0</td>\n",
              "      <td>No</td>\n",
              "      <td>94.39</td>\n",
              "      <td>22.8</td>\n",
              "      <td>1</td>\n",
              "      <td>1</td>\n",
              "      <td>0</td>\n",
              "      <td>0</td>\n",
              "      <td>0</td>\n",
              "      <td>0</td>\n",
              "      <td>1</td>\n",
              "      <td>0</td>\n",
              "      <td>0</td>\n",
              "      <td>0</td>\n",
              "      <td>1</td>\n",
              "      <td>0</td>\n",
              "      <td>0</td>\n",
              "      <td>1</td>\n",
              "      <td>0</td>\n",
              "    </tr>\n",
              "    <tr>\n",
              "      <th>60491</th>\n",
              "      <td>78.0</td>\n",
              "      <td>0</td>\n",
              "      <td>0</td>\n",
              "      <td>Yes</td>\n",
              "      <td>58.57</td>\n",
              "      <td>24.2</td>\n",
              "      <td>1</td>\n",
              "      <td>1</td>\n",
              "      <td>0</td>\n",
              "      <td>0</td>\n",
              "      <td>0</td>\n",
              "      <td>0</td>\n",
              "      <td>1</td>\n",
              "      <td>0</td>\n",
              "      <td>0</td>\n",
              "      <td>0</td>\n",
              "      <td>1</td>\n",
              "      <td>1</td>\n",
              "      <td>0</td>\n",
              "      <td>0</td>\n",
              "      <td>0</td>\n",
              "    </tr>\n",
              "    <tr>\n",
              "      <th>12109</th>\n",
              "      <td>81.0</td>\n",
              "      <td>1</td>\n",
              "      <td>0</td>\n",
              "      <td>Yes</td>\n",
              "      <td>80.43</td>\n",
              "      <td>29.7</td>\n",
              "      <td>1</td>\n",
              "      <td>1</td>\n",
              "      <td>0</td>\n",
              "      <td>0</td>\n",
              "      <td>0</td>\n",
              "      <td>0</td>\n",
              "      <td>1</td>\n",
              "      <td>0</td>\n",
              "      <td>0</td>\n",
              "      <td>1</td>\n",
              "      <td>0</td>\n",
              "      <td>0</td>\n",
              "      <td>0</td>\n",
              "      <td>1</td>\n",
              "      <td>0</td>\n",
              "    </tr>\n",
              "    <tr>\n",
              "      <th>12095</th>\n",
              "      <td>61.0</td>\n",
              "      <td>0</td>\n",
              "      <td>1</td>\n",
              "      <td>Yes</td>\n",
              "      <td>120.46</td>\n",
              "      <td>36.8</td>\n",
              "      <td>1</td>\n",
              "      <td>1</td>\n",
              "      <td>0</td>\n",
              "      <td>0</td>\n",
              "      <td>1</td>\n",
              "      <td>0</td>\n",
              "      <td>0</td>\n",
              "      <td>0</td>\n",
              "      <td>0</td>\n",
              "      <td>1</td>\n",
              "      <td>0</td>\n",
              "      <td>0</td>\n",
              "      <td>0</td>\n",
              "      <td>0</td>\n",
              "      <td>1</td>\n",
              "    </tr>\n",
              "  </tbody>\n",
              "</table>\n",
              "</div>"
            ],
            "text/plain": [
              "        age  hypertension  ...  smoking_status_never smoked smoking_status_smokes\n",
              "id                         ...                                                   \n",
              "9046   67.0             0  ...                            0                     0\n",
              "31112  80.0             0  ...                            1                     0\n",
              "60182  49.0             0  ...                            0                     1\n",
              "1665   79.0             1  ...                            1                     0\n",
              "56669  81.0             0  ...                            0                     0\n",
              "53882  74.0             1  ...                            1                     0\n",
              "10434  69.0             0  ...                            1                     0\n",
              "60491  78.0             0  ...                            0                     0\n",
              "12109  81.0             1  ...                            1                     0\n",
              "12095  61.0             0  ...                            0                     1\n",
              "\n",
              "[10 rows x 21 columns]"
            ]
          },
          "metadata": {
            "tags": []
          },
          "execution_count": 203
        }
      ]
    },
    {
      "cell_type": "markdown",
      "metadata": {
        "id": "_yczoCkUZShQ"
      },
      "source": [
        "Un altro aspetto da considerare è che la feature `ever_married` assume valori *Yes* e *No*, quindi andremo a modificarla applicando la seguente trasformazione:\n",
        "* Yes = 1\n",
        "* No = 0"
      ]
    },
    {
      "cell_type": "code",
      "metadata": {
        "id": "hpUh-h50Zj3m"
      },
      "source": [
        "stroke_dataset[\"ever_married\"] = np.where(stroke_dataset[\"ever_married\"] == \"Yes\", 1, 0)"
      ],
      "execution_count": null,
      "outputs": []
    },
    {
      "cell_type": "code",
      "metadata": {
        "id": "h04z_w0pauJg",
        "colab": {
          "base_uri": "https://localhost:8080/",
          "height": 427
        },
        "outputId": "9e269b76-5b43-4dd1-c7af-3e1bf1dc2e19"
      },
      "source": [
        "stroke_dataset.head(10)"
      ],
      "execution_count": null,
      "outputs": [
        {
          "output_type": "execute_result",
          "data": {
            "text/html": [
              "<div>\n",
              "<style scoped>\n",
              "    .dataframe tbody tr th:only-of-type {\n",
              "        vertical-align: middle;\n",
              "    }\n",
              "\n",
              "    .dataframe tbody tr th {\n",
              "        vertical-align: top;\n",
              "    }\n",
              "\n",
              "    .dataframe thead th {\n",
              "        text-align: right;\n",
              "    }\n",
              "</style>\n",
              "<table border=\"1\" class=\"dataframe\">\n",
              "  <thead>\n",
              "    <tr style=\"text-align: right;\">\n",
              "      <th></th>\n",
              "      <th>age</th>\n",
              "      <th>hypertension</th>\n",
              "      <th>heart_disease</th>\n",
              "      <th>ever_married</th>\n",
              "      <th>avg_glucose_level</th>\n",
              "      <th>bmi</th>\n",
              "      <th>stroke</th>\n",
              "      <th>gender_Female</th>\n",
              "      <th>gender_Male</th>\n",
              "      <th>gender_Other</th>\n",
              "      <th>work_type_Govt_job</th>\n",
              "      <th>work_type_Never_worked</th>\n",
              "      <th>work_type_Private</th>\n",
              "      <th>work_type_Self-employed</th>\n",
              "      <th>work_type_children</th>\n",
              "      <th>Residence_type_Rural</th>\n",
              "      <th>Residence_type_Urban</th>\n",
              "      <th>smoking_status_Unknown</th>\n",
              "      <th>smoking_status_formerly smoked</th>\n",
              "      <th>smoking_status_never smoked</th>\n",
              "      <th>smoking_status_smokes</th>\n",
              "    </tr>\n",
              "    <tr>\n",
              "      <th>id</th>\n",
              "      <th></th>\n",
              "      <th></th>\n",
              "      <th></th>\n",
              "      <th></th>\n",
              "      <th></th>\n",
              "      <th></th>\n",
              "      <th></th>\n",
              "      <th></th>\n",
              "      <th></th>\n",
              "      <th></th>\n",
              "      <th></th>\n",
              "      <th></th>\n",
              "      <th></th>\n",
              "      <th></th>\n",
              "      <th></th>\n",
              "      <th></th>\n",
              "      <th></th>\n",
              "      <th></th>\n",
              "      <th></th>\n",
              "      <th></th>\n",
              "      <th></th>\n",
              "    </tr>\n",
              "  </thead>\n",
              "  <tbody>\n",
              "    <tr>\n",
              "      <th>9046</th>\n",
              "      <td>67.0</td>\n",
              "      <td>0</td>\n",
              "      <td>1</td>\n",
              "      <td>1</td>\n",
              "      <td>228.69</td>\n",
              "      <td>36.6</td>\n",
              "      <td>1</td>\n",
              "      <td>0</td>\n",
              "      <td>1</td>\n",
              "      <td>0</td>\n",
              "      <td>0</td>\n",
              "      <td>0</td>\n",
              "      <td>1</td>\n",
              "      <td>0</td>\n",
              "      <td>0</td>\n",
              "      <td>0</td>\n",
              "      <td>1</td>\n",
              "      <td>0</td>\n",
              "      <td>1</td>\n",
              "      <td>0</td>\n",
              "      <td>0</td>\n",
              "    </tr>\n",
              "    <tr>\n",
              "      <th>31112</th>\n",
              "      <td>80.0</td>\n",
              "      <td>0</td>\n",
              "      <td>1</td>\n",
              "      <td>1</td>\n",
              "      <td>105.92</td>\n",
              "      <td>32.5</td>\n",
              "      <td>1</td>\n",
              "      <td>0</td>\n",
              "      <td>1</td>\n",
              "      <td>0</td>\n",
              "      <td>0</td>\n",
              "      <td>0</td>\n",
              "      <td>1</td>\n",
              "      <td>0</td>\n",
              "      <td>0</td>\n",
              "      <td>1</td>\n",
              "      <td>0</td>\n",
              "      <td>0</td>\n",
              "      <td>0</td>\n",
              "      <td>1</td>\n",
              "      <td>0</td>\n",
              "    </tr>\n",
              "    <tr>\n",
              "      <th>60182</th>\n",
              "      <td>49.0</td>\n",
              "      <td>0</td>\n",
              "      <td>0</td>\n",
              "      <td>1</td>\n",
              "      <td>171.23</td>\n",
              "      <td>34.4</td>\n",
              "      <td>1</td>\n",
              "      <td>1</td>\n",
              "      <td>0</td>\n",
              "      <td>0</td>\n",
              "      <td>0</td>\n",
              "      <td>0</td>\n",
              "      <td>1</td>\n",
              "      <td>0</td>\n",
              "      <td>0</td>\n",
              "      <td>0</td>\n",
              "      <td>1</td>\n",
              "      <td>0</td>\n",
              "      <td>0</td>\n",
              "      <td>0</td>\n",
              "      <td>1</td>\n",
              "    </tr>\n",
              "    <tr>\n",
              "      <th>1665</th>\n",
              "      <td>79.0</td>\n",
              "      <td>1</td>\n",
              "      <td>0</td>\n",
              "      <td>1</td>\n",
              "      <td>174.12</td>\n",
              "      <td>24.0</td>\n",
              "      <td>1</td>\n",
              "      <td>1</td>\n",
              "      <td>0</td>\n",
              "      <td>0</td>\n",
              "      <td>0</td>\n",
              "      <td>0</td>\n",
              "      <td>0</td>\n",
              "      <td>1</td>\n",
              "      <td>0</td>\n",
              "      <td>1</td>\n",
              "      <td>0</td>\n",
              "      <td>0</td>\n",
              "      <td>0</td>\n",
              "      <td>1</td>\n",
              "      <td>0</td>\n",
              "    </tr>\n",
              "    <tr>\n",
              "      <th>56669</th>\n",
              "      <td>81.0</td>\n",
              "      <td>0</td>\n",
              "      <td>0</td>\n",
              "      <td>1</td>\n",
              "      <td>186.21</td>\n",
              "      <td>29.0</td>\n",
              "      <td>1</td>\n",
              "      <td>0</td>\n",
              "      <td>1</td>\n",
              "      <td>0</td>\n",
              "      <td>0</td>\n",
              "      <td>0</td>\n",
              "      <td>1</td>\n",
              "      <td>0</td>\n",
              "      <td>0</td>\n",
              "      <td>0</td>\n",
              "      <td>1</td>\n",
              "      <td>0</td>\n",
              "      <td>1</td>\n",
              "      <td>0</td>\n",
              "      <td>0</td>\n",
              "    </tr>\n",
              "    <tr>\n",
              "      <th>53882</th>\n",
              "      <td>74.0</td>\n",
              "      <td>1</td>\n",
              "      <td>1</td>\n",
              "      <td>1</td>\n",
              "      <td>70.09</td>\n",
              "      <td>27.4</td>\n",
              "      <td>1</td>\n",
              "      <td>0</td>\n",
              "      <td>1</td>\n",
              "      <td>0</td>\n",
              "      <td>0</td>\n",
              "      <td>0</td>\n",
              "      <td>1</td>\n",
              "      <td>0</td>\n",
              "      <td>0</td>\n",
              "      <td>1</td>\n",
              "      <td>0</td>\n",
              "      <td>0</td>\n",
              "      <td>0</td>\n",
              "      <td>1</td>\n",
              "      <td>0</td>\n",
              "    </tr>\n",
              "    <tr>\n",
              "      <th>10434</th>\n",
              "      <td>69.0</td>\n",
              "      <td>0</td>\n",
              "      <td>0</td>\n",
              "      <td>0</td>\n",
              "      <td>94.39</td>\n",
              "      <td>22.8</td>\n",
              "      <td>1</td>\n",
              "      <td>1</td>\n",
              "      <td>0</td>\n",
              "      <td>0</td>\n",
              "      <td>0</td>\n",
              "      <td>0</td>\n",
              "      <td>1</td>\n",
              "      <td>0</td>\n",
              "      <td>0</td>\n",
              "      <td>0</td>\n",
              "      <td>1</td>\n",
              "      <td>0</td>\n",
              "      <td>0</td>\n",
              "      <td>1</td>\n",
              "      <td>0</td>\n",
              "    </tr>\n",
              "    <tr>\n",
              "      <th>60491</th>\n",
              "      <td>78.0</td>\n",
              "      <td>0</td>\n",
              "      <td>0</td>\n",
              "      <td>1</td>\n",
              "      <td>58.57</td>\n",
              "      <td>24.2</td>\n",
              "      <td>1</td>\n",
              "      <td>1</td>\n",
              "      <td>0</td>\n",
              "      <td>0</td>\n",
              "      <td>0</td>\n",
              "      <td>0</td>\n",
              "      <td>1</td>\n",
              "      <td>0</td>\n",
              "      <td>0</td>\n",
              "      <td>0</td>\n",
              "      <td>1</td>\n",
              "      <td>1</td>\n",
              "      <td>0</td>\n",
              "      <td>0</td>\n",
              "      <td>0</td>\n",
              "    </tr>\n",
              "    <tr>\n",
              "      <th>12109</th>\n",
              "      <td>81.0</td>\n",
              "      <td>1</td>\n",
              "      <td>0</td>\n",
              "      <td>1</td>\n",
              "      <td>80.43</td>\n",
              "      <td>29.7</td>\n",
              "      <td>1</td>\n",
              "      <td>1</td>\n",
              "      <td>0</td>\n",
              "      <td>0</td>\n",
              "      <td>0</td>\n",
              "      <td>0</td>\n",
              "      <td>1</td>\n",
              "      <td>0</td>\n",
              "      <td>0</td>\n",
              "      <td>1</td>\n",
              "      <td>0</td>\n",
              "      <td>0</td>\n",
              "      <td>0</td>\n",
              "      <td>1</td>\n",
              "      <td>0</td>\n",
              "    </tr>\n",
              "    <tr>\n",
              "      <th>12095</th>\n",
              "      <td>61.0</td>\n",
              "      <td>0</td>\n",
              "      <td>1</td>\n",
              "      <td>1</td>\n",
              "      <td>120.46</td>\n",
              "      <td>36.8</td>\n",
              "      <td>1</td>\n",
              "      <td>1</td>\n",
              "      <td>0</td>\n",
              "      <td>0</td>\n",
              "      <td>1</td>\n",
              "      <td>0</td>\n",
              "      <td>0</td>\n",
              "      <td>0</td>\n",
              "      <td>0</td>\n",
              "      <td>1</td>\n",
              "      <td>0</td>\n",
              "      <td>0</td>\n",
              "      <td>0</td>\n",
              "      <td>0</td>\n",
              "      <td>1</td>\n",
              "    </tr>\n",
              "  </tbody>\n",
              "</table>\n",
              "</div>"
            ],
            "text/plain": [
              "        age  hypertension  ...  smoking_status_never smoked  smoking_status_smokes\n",
              "id                         ...                                                    \n",
              "9046   67.0             0  ...                            0                      0\n",
              "31112  80.0             0  ...                            1                      0\n",
              "60182  49.0             0  ...                            0                      1\n",
              "1665   79.0             1  ...                            1                      0\n",
              "56669  81.0             0  ...                            0                      0\n",
              "53882  74.0             1  ...                            1                      0\n",
              "10434  69.0             0  ...                            1                      0\n",
              "60491  78.0             0  ...                            0                      0\n",
              "12109  81.0             1  ...                            1                      0\n",
              "12095  61.0             0  ...                            0                      1\n",
              "\n",
              "[10 rows x 21 columns]"
            ]
          },
          "metadata": {
            "tags": []
          },
          "execution_count": 205
        }
      ]
    },
    {
      "cell_type": "markdown",
      "metadata": {
        "id": "uuXScT43I4Rb"
      },
      "source": [
        "In questo modo abbiamo ottenuto tutte feature numeriche su cui possiamo lavorare agilmente"
      ]
    },
    {
      "cell_type": "markdown",
      "metadata": {
        "id": "VARNXETCrpIc"
      },
      "source": [
        "Applichiamo una tecnica di oversampling al dataset per ottenere un bilanciamento delle classi"
      ]
    },
    {
      "cell_type": "code",
      "metadata": {
        "colab": {
          "base_uri": "https://localhost:8080/"
        },
        "id": "t8XRsECEX6PO",
        "outputId": "290490fa-2989-4527-e53a-e873f0633001"
      },
      "source": [
        "sm = SMOTE(random_state=42)\n",
        "y = stroke_dataset[\"stroke\"]\n",
        "X = stroke_dataset.drop(\"stroke\", axis=1)\n",
        "X_res, y_res = sm.fit_resample(X, y)"
      ],
      "execution_count": null,
      "outputs": [
        {
          "output_type": "stream",
          "text": [
            "/usr/local/lib/python3.7/dist-packages/sklearn/utils/deprecation.py:87: FutureWarning: Function safe_indexing is deprecated; safe_indexing is deprecated in version 0.22 and will be removed in version 0.24.\n",
            "  warnings.warn(msg, category=FutureWarning)\n"
          ],
          "name": "stderr"
        }
      ]
    },
    {
      "cell_type": "markdown",
      "metadata": {
        "id": "2Z5Ob17QK6EZ"
      },
      "source": [
        "Dal seguente grafico notiamo che ora le classi sono bilanciate"
      ]
    },
    {
      "cell_type": "code",
      "metadata": {
        "colab": {
          "base_uri": "https://localhost:8080/",
          "height": 264
        },
        "id": "fHdsrY04KIyf",
        "outputId": "d4845baa-a711-4a5d-f091-31dd20fa682c"
      },
      "source": [
        "pd.value_counts(y_res).plot.pie(autopct=\"%.1f%%\", title=\"Stroke\");"
      ],
      "execution_count": null,
      "outputs": [
        {
          "output_type": "display_data",
          "data": {
            "image/png": "[encoded data removed]",
            "text/plain": [
              "<Figure size 432x288 with 1 Axes>"
            ]
          },
          "metadata": {
            "tags": []
          }
        }
      ]
    },
    {
      "cell_type": "markdown",
      "metadata": {
        "id": "jp78YFGUKbKK"
      },
      "source": [
        "Andiamo ora a suddividere i dati in training set e validations set"
      ]
    },
    {
      "cell_type": "code",
      "metadata": {
        "id": "8gg2a3pvKhrm"
      },
      "source": [
        "X_train, X_val, y_train, y_val = train_test_split(\n",
        "    X_res,y_res,\n",
        "    test_size = 1/3,\n",
        "    random_state = 42\n",
        ")"
      ],
      "execution_count": null,
      "outputs": []
    },
    {
      "cell_type": "markdown",
      "metadata": {
        "id": "6mV65CxObBY6"
      },
      "source": [
        "Applichiamo una standardiddazione dei dati"
      ]
    },
    {
      "cell_type": "code",
      "metadata": {
        "id": "-soNIeU1bE5n"
      },
      "source": [
        "scaler = StandardScaler()\n",
        "X_train_S = scaler.fit_transform(X_train)\n",
        "X_val_S = scaler.transform(X_val)"
      ],
      "execution_count": null,
      "outputs": []
    },
    {
      "cell_type": "markdown",
      "metadata": {
        "id": "7I3o_5ePHRDZ"
      },
      "source": [
        "In tutti i modelli in cui verrà applicata la `Grid Search` useremo una divisione con la classe `StratifiedKFold` in modo da avere in ogni sub-fold la stessa distribuzione per i dati"
      ]
    },
    {
      "cell_type": "markdown",
      "metadata": {
        "id": "XUne0_O4_0To"
      },
      "source": [
        "La seguente funzione calcola l'intervallo di accuratezza per un modello di classificazione con confidenza al 95% dato l'f-1 score secondo la seguente formula: \n",
        "$$ p = \\frac{f + \\frac{z^2}{2N} \\pm z \\sqrt{\\frac{f}{N} - \\frac{f^2}{N} + \\frac{z^2}{4N^2}  }  }{1+\\frac{z^2}{N}}  $$\n"
      ]
    },
    {
      "cell_type": "code",
      "metadata": {
        "id": "7sbUjYcJ9-Jz"
      },
      "source": [
        "def accuracy_interval(f):\n",
        "  N = len(y_val)\n",
        "  n_min = f + ( 1.96**2/(2*N) - 1.96 * np.sqrt( (f/N) - (f**2/N) + (1.96**2/(4*N**2) ) ) ) \n",
        "  n_max = f + ( 1.96**2/(2*N) + 1.96 * np.sqrt( (f/N) - (f**2/N) + (1.96**2/(4*N**2) ) ) ) \n",
        "  d = 1 + (1.96**2 / N)\n",
        "  e_min = n_min / d\n",
        "  e_max = n_max / d\n",
        "  return e_min, e_max"
      ],
      "execution_count": null,
      "outputs": []
    },
    {
      "cell_type": "markdown",
      "metadata": {
        "id": "-2Nr-MhZNe07"
      },
      "source": [
        "Creo un dizionario vuoto in cui man mano inserirò i valori f1-score di ogni modello in modo da poter fare un confronto finale"
      ]
    },
    {
      "cell_type": "code",
      "metadata": {
        "id": "pVQBkYkxIzb8"
      },
      "source": [
        "accuracy = {}"
      ],
      "execution_count": null,
      "outputs": []
    },
    {
      "cell_type": "markdown",
      "metadata": {
        "id": "zvd-onAwJ7Bt"
      },
      "source": [
        "##Perceptron"
      ]
    },
    {
      "cell_type": "code",
      "metadata": {
        "colab": {
          "base_uri": "https://localhost:8080/"
        },
        "id": "B-aUZ8s1bvzl",
        "outputId": "aa84f4a6-f438-47e8-db93-19ddcd104a10"
      },
      "source": [
        "model = Perceptron(random_state=42)\n",
        "model.fit(X_train_S, y_train)"
      ],
      "execution_count": null,
      "outputs": [
        {
          "output_type": "execute_result",
          "data": {
            "text/plain": [
              "Perceptron(alpha=0.0001, class_weight=None, early_stopping=False, eta0=1.0,\n",
              "           fit_intercept=True, max_iter=1000, n_iter_no_change=5, n_jobs=None,\n",
              "           penalty=None, random_state=42, shuffle=True, tol=0.001,\n",
              "           validation_fraction=0.1, verbose=0, warm_start=False)"
            ]
          },
          "metadata": {
            "tags": []
          },
          "execution_count": 212
        }
      ]
    },
    {
      "cell_type": "code",
      "metadata": {
        "colab": {
          "base_uri": "https://localhost:8080/",
          "height": 111
        },
        "id": "uU5zLXxub9EF",
        "outputId": "0ebe9330-2d82-4045-ddb4-52d644bdad69"
      },
      "source": [
        "y_pred = model.predict(X_val_S)\n",
        "cm = confusion_matrix(y_val, y_pred)\n",
        "pd.DataFrame(cm, index=model.classes_, columns=model.classes_)"
      ],
      "execution_count": null,
      "outputs": [
        {
          "output_type": "execute_result",
          "data": {
            "text/html": [
              "<div>\n",
              "<style scoped>\n",
              "    .dataframe tbody tr th:only-of-type {\n",
              "        vertical-align: middle;\n",
              "    }\n",
              "\n",
              "    .dataframe tbody tr th {\n",
              "        vertical-align: top;\n",
              "    }\n",
              "\n",
              "    .dataframe thead th {\n",
              "        text-align: right;\n",
              "    }\n",
              "</style>\n",
              "<table border=\"1\" class=\"dataframe\">\n",
              "  <thead>\n",
              "    <tr style=\"text-align: right;\">\n",
              "      <th></th>\n",
              "      <th>0</th>\n",
              "      <th>1</th>\n",
              "    </tr>\n",
              "  </thead>\n",
              "  <tbody>\n",
              "    <tr>\n",
              "      <th>0</th>\n",
              "      <td>1170</td>\n",
              "      <td>417</td>\n",
              "    </tr>\n",
              "    <tr>\n",
              "      <th>1</th>\n",
              "      <td>389</td>\n",
              "      <td>1158</td>\n",
              "    </tr>\n",
              "  </tbody>\n",
              "</table>\n",
              "</div>"
            ],
            "text/plain": [
              "      0     1\n",
              "0  1170   417\n",
              "1   389  1158"
            ]
          },
          "metadata": {
            "tags": []
          },
          "execution_count": 213
        }
      ]
    },
    {
      "cell_type": "code",
      "metadata": {
        "colab": {
          "base_uri": "https://localhost:8080/"
        },
        "id": "GR4VXd8ndsNc",
        "outputId": "7f16797c-a807-43f4-836b-3c11402c8575"
      },
      "source": [
        "precision = precision_score(y_val, y_pred, pos_label=0)\n",
        "recall = recall_score(y_val, y_pred, pos_label=0)\n",
        "f1 = f1_score(y_val, y_pred, average=\"macro\")\n",
        "\n",
        "print(f\"precision: {precision}, recall: {recall}, f1-score: {f1}\")"
      ],
      "execution_count": null,
      "outputs": [
        {
          "output_type": "stream",
          "text": [
            "precision: 0.7504810776138551, recall: 0.7372400756143668, f1-score: 0.7428169058825398\n"
          ],
          "name": "stdout"
        }
      ]
    },
    {
      "cell_type": "code",
      "metadata": {
        "colab": {
          "base_uri": "https://localhost:8080/"
        },
        "id": "ykBfnBLN-RuV",
        "outputId": "bd5cc249-82ed-4cd3-e999-785977faffc0"
      },
      "source": [
        "i = accuracy_interval(f1)\n",
        "accuracy[\"Perceptron\"] = i\n",
        "print(i)"
      ],
      "execution_count": null,
      "outputs": [
        {
          "output_type": "stream",
          "text": [
            "(0.7272233895743632, 0.7578158699190923)\n"
          ],
          "name": "stdout"
        }
      ]
    },
    {
      "cell_type": "markdown",
      "metadata": {
        "id": "uLrOSKXKV1zG"
      },
      "source": [
        "Aggiungiamo GridSearch e CrossValidation"
      ]
    },
    {
      "cell_type": "code",
      "metadata": {
        "colab": {
          "base_uri": "https://localhost:8080/"
        },
        "id": "RGjBRbBjRDSC",
        "outputId": "e2372000-152b-483b-e330-dde691b0d795"
      },
      "source": [
        "model = Perceptron(random_state=42)\n",
        "parameters = {\n",
        "    \"penalty\": [None, \"l1\", \"l2\", \"elasticnet\"],\n",
        "    \"alpha\": np.logspace(-4, 0, 5),\n",
        "    \"tol\": np.logspace(-9, 6, 6)\n",
        "}\n",
        "\n",
        "skf = StratifiedKFold(3, shuffle=True, random_state=42)\n",
        "gs = GridSearchCV(model, parameters, cv=skf)\n",
        "\n",
        "gs.fit(X_train_S, y_train)"
      ],
      "execution_count": null,
      "outputs": [
        {
          "output_type": "execute_result",
          "data": {
            "text/plain": [
              "GridSearchCV(cv=StratifiedKFold(n_splits=3, random_state=42, shuffle=True),\n",
              "             error_score=nan,\n",
              "             estimator=Perceptron(alpha=0.0001, class_weight=None,\n",
              "                                  early_stopping=False, eta0=1.0,\n",
              "                                  fit_intercept=True, max_iter=1000,\n",
              "                                  n_iter_no_change=5, n_jobs=None, penalty=None,\n",
              "                                  random_state=42, shuffle=True, tol=0.001,\n",
              "                                  validation_fraction=0.1, verbose=0,\n",
              "                                  warm_start=False),\n",
              "             iid='deprecated', n_jobs=None,\n",
              "             param_grid={'alpha': array([1.e-04, 1.e-03, 1.e-02, 1.e-01, 1.e+00]),\n",
              "                         'penalty': [None, 'l1', 'l2', 'elasticnet'],\n",
              "                         'tol': array([1.e-09, 1.e-06, 1.e-03, 1.e+00, 1.e+03, 1.e+06])},\n",
              "             pre_dispatch='2*n_jobs', refit=True, return_train_score=False,\n",
              "             scoring=None, verbose=0)"
            ]
          },
          "metadata": {
            "tags": []
          },
          "execution_count": 216
        }
      ]
    },
    {
      "cell_type": "code",
      "metadata": {
        "colab": {
          "base_uri": "https://localhost:8080/",
          "height": 564
        },
        "id": "ECrHP6uTVuGz",
        "outputId": "5e3168f0-dd12-4845-855c-ddca9e59a7c1"
      },
      "source": [
        "pd.DataFrame(gs.cv_results_).sort_values(\"rank_test_score\").head(5)"
      ],
      "execution_count": null,
      "outputs": [
        {
          "output_type": "execute_result",
          "data": {
            "text/html": [
              "<div>\n",
              "<style scoped>\n",
              "    .dataframe tbody tr th:only-of-type {\n",
              "        vertical-align: middle;\n",
              "    }\n",
              "\n",
              "    .dataframe tbody tr th {\n",
              "        vertical-align: top;\n",
              "    }\n",
              "\n",
              "    .dataframe thead th {\n",
              "        text-align: right;\n",
              "    }\n",
              "</style>\n",
              "<table border=\"1\" class=\"dataframe\">\n",
              "  <thead>\n",
              "    <tr style=\"text-align: right;\">\n",
              "      <th></th>\n",
              "      <th>mean_fit_time</th>\n",
              "      <th>std_fit_time</th>\n",
              "      <th>mean_score_time</th>\n",
              "      <th>std_score_time</th>\n",
              "      <th>param_alpha</th>\n",
              "      <th>param_penalty</th>\n",
              "      <th>param_tol</th>\n",
              "      <th>params</th>\n",
              "      <th>split0_test_score</th>\n",
              "      <th>split1_test_score</th>\n",
              "      <th>split2_test_score</th>\n",
              "      <th>mean_test_score</th>\n",
              "      <th>std_test_score</th>\n",
              "      <th>rank_test_score</th>\n",
              "    </tr>\n",
              "  </thead>\n",
              "  <tbody>\n",
              "    <tr>\n",
              "      <th>30</th>\n",
              "      <td>0.018895</td>\n",
              "      <td>0.003922</td>\n",
              "      <td>0.001009</td>\n",
              "      <td>0.000022</td>\n",
              "      <td>0.001</td>\n",
              "      <td>l1</td>\n",
              "      <td>1e-09</td>\n",
              "      <td>{'alpha': 0.001, 'penalty': 'l1', 'tol': 1e-09}</td>\n",
              "      <td>0.757300</td>\n",
              "      <td>0.780756</td>\n",
              "      <td>0.742816</td>\n",
              "      <td>0.760291</td>\n",
              "      <td>0.015633</td>\n",
              "      <td>1</td>\n",
              "    </tr>\n",
              "    <tr>\n",
              "      <th>31</th>\n",
              "      <td>0.017834</td>\n",
              "      <td>0.003115</td>\n",
              "      <td>0.000986</td>\n",
              "      <td>0.000011</td>\n",
              "      <td>0.001</td>\n",
              "      <td>l1</td>\n",
              "      <td>1e-06</td>\n",
              "      <td>{'alpha': 0.001, 'penalty': 'l1', 'tol': 1e-06}</td>\n",
              "      <td>0.757300</td>\n",
              "      <td>0.780756</td>\n",
              "      <td>0.742816</td>\n",
              "      <td>0.760291</td>\n",
              "      <td>0.015633</td>\n",
              "      <td>1</td>\n",
              "    </tr>\n",
              "    <tr>\n",
              "      <th>32</th>\n",
              "      <td>0.022439</td>\n",
              "      <td>0.004186</td>\n",
              "      <td>0.001012</td>\n",
              "      <td>0.000028</td>\n",
              "      <td>0.001</td>\n",
              "      <td>l1</td>\n",
              "      <td>0.001</td>\n",
              "      <td>{'alpha': 0.001, 'penalty': 'l1', 'tol': 0.001}</td>\n",
              "      <td>0.757300</td>\n",
              "      <td>0.780756</td>\n",
              "      <td>0.742816</td>\n",
              "      <td>0.760291</td>\n",
              "      <td>0.015633</td>\n",
              "      <td>1</td>\n",
              "    </tr>\n",
              "    <tr>\n",
              "      <th>47</th>\n",
              "      <td>0.009728</td>\n",
              "      <td>0.000236</td>\n",
              "      <td>0.000966</td>\n",
              "      <td>0.000023</td>\n",
              "      <td>0.001</td>\n",
              "      <td>elasticnet</td>\n",
              "      <td>1e+06</td>\n",
              "      <td>{'alpha': 0.001, 'penalty': 'elasticnet', 'tol...</td>\n",
              "      <td>0.745333</td>\n",
              "      <td>0.732408</td>\n",
              "      <td>0.760057</td>\n",
              "      <td>0.745933</td>\n",
              "      <td>0.011296</td>\n",
              "      <td>4</td>\n",
              "    </tr>\n",
              "    <tr>\n",
              "      <th>46</th>\n",
              "      <td>0.009998</td>\n",
              "      <td>0.000363</td>\n",
              "      <td>0.000952</td>\n",
              "      <td>0.000018</td>\n",
              "      <td>0.001</td>\n",
              "      <td>elasticnet</td>\n",
              "      <td>1000</td>\n",
              "      <td>{'alpha': 0.001, 'penalty': 'elasticnet', 'tol...</td>\n",
              "      <td>0.745333</td>\n",
              "      <td>0.732408</td>\n",
              "      <td>0.760057</td>\n",
              "      <td>0.745933</td>\n",
              "      <td>0.011296</td>\n",
              "      <td>4</td>\n",
              "    </tr>\n",
              "  </tbody>\n",
              "</table>\n",
              "</div>"
            ],
            "text/plain": [
              "    mean_fit_time  std_fit_time  ...  std_test_score  rank_test_score\n",
              "30       0.018895      0.003922  ...        0.015633                1\n",
              "31       0.017834      0.003115  ...        0.015633                1\n",
              "32       0.022439      0.004186  ...        0.015633                1\n",
              "47       0.009728      0.000236  ...        0.011296                4\n",
              "46       0.009998      0.000363  ...        0.011296                4\n",
              "\n",
              "[5 rows x 14 columns]"
            ]
          },
          "metadata": {
            "tags": []
          },
          "execution_count": 217
        }
      ]
    },
    {
      "cell_type": "code",
      "metadata": {
        "colab": {
          "base_uri": "https://localhost:8080/"
        },
        "id": "WtTCXQ2HU0ck",
        "outputId": "48a267a6-9441-4b06-efee-5756d8581e9e"
      },
      "source": [
        "gs.best_params_"
      ],
      "execution_count": null,
      "outputs": [
        {
          "output_type": "execute_result",
          "data": {
            "text/plain": [
              "{'alpha': 0.001, 'penalty': 'l1', 'tol': 1e-09}"
            ]
          },
          "metadata": {
            "tags": []
          },
          "execution_count": 218
        }
      ]
    },
    {
      "cell_type": "code",
      "metadata": {
        "colab": {
          "base_uri": "https://localhost:8080/"
        },
        "id": "oCDPFWtzU3RQ",
        "outputId": "8eb64ac2-4005-4ae8-c49f-8bbd5c499c99"
      },
      "source": [
        "print(f'Best score: {round(gs.best_score_ * 100, 4):.4f}%')"
      ],
      "execution_count": null,
      "outputs": [
        {
          "output_type": "stream",
          "text": [
            "Best score: 76.0291%\n"
          ],
          "name": "stdout"
        }
      ]
    },
    {
      "cell_type": "code",
      "metadata": {
        "colab": {
          "base_uri": "https://localhost:8080/",
          "height": 265
        },
        "id": "c5XXuQ1HWEfo",
        "outputId": "a9248fca-8997-40f1-f193-10b20a151508"
      },
      "source": [
        "pc_imp = pd.Series(gs.best_estimator_.coef_[0], index=X.columns)\n",
        "pc_imp.nlargest(4).plot(kind='barh');"
      ],
      "execution_count": null,
      "outputs": [
        {
          "output_type": "display_data",
          "data": {
            "image/png": "[encoded data removed]",
            "text/plain": [
              "<Figure size 432x288 with 1 Axes>"
            ]
          },
          "metadata": {
            "tags": [],
            "needs_background": "light"
          }
        }
      ]
    },
    {
      "cell_type": "markdown",
      "metadata": {
        "id": "at1Wh_lTW5Xh"
      },
      "source": [
        "A seguito della penalizzazione l1, che la GridSearch identifica come parametro migliore, notiamo che le feature più rilevanti sono:\n",
        "\n",
        "\n",
        "*   Età\n",
        "*   Tipo di lavoro: privato\n",
        "*   Livello medio di glucosio nel sangue\n",
        "\n"
      ]
    },
    {
      "cell_type": "code",
      "metadata": {
        "colab": {
          "base_uri": "https://localhost:8080/",
          "height": 111
        },
        "id": "Ms8qSIF6XSdt",
        "outputId": "3b401bef-cbbb-4ab2-c018-7ffbb469058f"
      },
      "source": [
        "y_pred = gs.predict(X_val_S)\n",
        "cm = confusion_matrix(y_val, y_pred)\n",
        "pd.DataFrame(cm, index=gs.best_estimator_.classes_, columns=gs.best_estimator_.classes_)"
      ],
      "execution_count": null,
      "outputs": [
        {
          "output_type": "execute_result",
          "data": {
            "text/html": [
              "<div>\n",
              "<style scoped>\n",
              "    .dataframe tbody tr th:only-of-type {\n",
              "        vertical-align: middle;\n",
              "    }\n",
              "\n",
              "    .dataframe tbody tr th {\n",
              "        vertical-align: top;\n",
              "    }\n",
              "\n",
              "    .dataframe thead th {\n",
              "        text-align: right;\n",
              "    }\n",
              "</style>\n",
              "<table border=\"1\" class=\"dataframe\">\n",
              "  <thead>\n",
              "    <tr style=\"text-align: right;\">\n",
              "      <th></th>\n",
              "      <th>0</th>\n",
              "      <th>1</th>\n",
              "    </tr>\n",
              "  </thead>\n",
              "  <tbody>\n",
              "    <tr>\n",
              "      <th>0</th>\n",
              "      <td>1315</td>\n",
              "      <td>272</td>\n",
              "    </tr>\n",
              "    <tr>\n",
              "      <th>1</th>\n",
              "      <td>655</td>\n",
              "      <td>892</td>\n",
              "    </tr>\n",
              "  </tbody>\n",
              "</table>\n",
              "</div>"
            ],
            "text/plain": [
              "      0    1\n",
              "0  1315  272\n",
              "1   655  892"
            ]
          },
          "metadata": {
            "tags": []
          },
          "execution_count": 221
        }
      ]
    },
    {
      "cell_type": "code",
      "metadata": {
        "colab": {
          "base_uri": "https://localhost:8080/"
        },
        "id": "n_lOJ3YrXr4f",
        "outputId": "deaf8676-12ee-4a85-caf6-8228a7691f77"
      },
      "source": [
        "precision = precision_score(y_val, y_pred, pos_label=0)\n",
        "recall = recall_score(y_val, y_pred, pos_label=0)\n",
        "f1 = f1_score(y_val, y_pred, average=\"macro\")\n",
        "\n",
        "print(f\"precision: {precision}, recall: {recall}, f1-score: {f1}\")"
      ],
      "execution_count": null,
      "outputs": [
        {
          "output_type": "stream",
          "text": [
            "precision: 0.6675126903553299, recall: 0.8286074354127284, f1-score: 0.6987234402641411\n"
          ],
          "name": "stdout"
        }
      ]
    },
    {
      "cell_type": "code",
      "metadata": {
        "colab": {
          "base_uri": "https://localhost:8080/"
        },
        "id": "9uDLOFq8-qas",
        "outputId": "7fa30b2f-aeb0-4770-b857-c79a80c8b7ed"
      },
      "source": [
        "i = accuracy_interval(f1)\n",
        "accuracy[\"Perceptron with gs\"] = i\n",
        "print(i)"
      ],
      "execution_count": null,
      "outputs": [
        {
          "output_type": "stream",
          "text": [
            "(0.6824245758139634, 0.7145357180312187)\n"
          ],
          "name": "stdout"
        }
      ]
    },
    {
      "cell_type": "code",
      "metadata": {
        "colab": {
          "base_uri": "https://localhost:8080/"
        },
        "id": "rPKAqNvxbFeh",
        "outputId": "5871701d-a669-4c61-e42e-89d0ff3a2f4c"
      },
      "source": [
        "perceptron_mse = mean_squared_error(y_val, y_pred)\n",
        "print('MSE: {}'.format(perceptron_mse))"
      ],
      "execution_count": null,
      "outputs": [
        {
          "output_type": "stream",
          "text": [
            "MSE: 0.295788130185067\n"
          ],
          "name": "stdout"
        }
      ]
    },
    {
      "cell_type": "markdown",
      "metadata": {
        "id": "G73ReVsRKApL"
      },
      "source": [
        "##Logistic regression"
      ]
    },
    {
      "cell_type": "code",
      "metadata": {
        "id": "P13-R9udfbQ1"
      },
      "source": [
        "model = LogisticRegression(random_state=42, solver=\"saga\")"
      ],
      "execution_count": null,
      "outputs": []
    },
    {
      "cell_type": "code",
      "metadata": {
        "colab": {
          "base_uri": "https://localhost:8080/"
        },
        "id": "E3IVo4wgfgac",
        "outputId": "f394cc3f-0dcb-4185-cd2c-37edaea5f14c"
      },
      "source": [
        "model.fit(X_train_S, y_train)"
      ],
      "execution_count": null,
      "outputs": [
        {
          "output_type": "execute_result",
          "data": {
            "text/plain": [
              "LogisticRegression(C=1.0, class_weight=None, dual=False, fit_intercept=True,\n",
              "                   intercept_scaling=1, l1_ratio=None, max_iter=100,\n",
              "                   multi_class='auto', n_jobs=None, penalty='l2',\n",
              "                   random_state=42, solver='saga', tol=0.0001, verbose=0,\n",
              "                   warm_start=False)"
            ]
          },
          "metadata": {
            "tags": []
          },
          "execution_count": 226
        }
      ]
    },
    {
      "cell_type": "code",
      "metadata": {
        "colab": {
          "base_uri": "https://localhost:8080/",
          "height": 111
        },
        "id": "HZpp0gVSfpOl",
        "outputId": "d1427d48-2593-4377-82af-b11b9cc545fd"
      },
      "source": [
        "y_pred = model.predict(X_val_S)\n",
        "cm = confusion_matrix(y_val, y_pred)\n",
        "pd.DataFrame(cm, index=model.classes_, columns=model.classes_)"
      ],
      "execution_count": null,
      "outputs": [
        {
          "output_type": "execute_result",
          "data": {
            "text/html": [
              "<div>\n",
              "<style scoped>\n",
              "    .dataframe tbody tr th:only-of-type {\n",
              "        vertical-align: middle;\n",
              "    }\n",
              "\n",
              "    .dataframe tbody tr th {\n",
              "        vertical-align: top;\n",
              "    }\n",
              "\n",
              "    .dataframe thead th {\n",
              "        text-align: right;\n",
              "    }\n",
              "</style>\n",
              "<table border=\"1\" class=\"dataframe\">\n",
              "  <thead>\n",
              "    <tr style=\"text-align: right;\">\n",
              "      <th></th>\n",
              "      <th>0</th>\n",
              "      <th>1</th>\n",
              "    </tr>\n",
              "  </thead>\n",
              "  <tbody>\n",
              "    <tr>\n",
              "      <th>0</th>\n",
              "      <td>1210</td>\n",
              "      <td>377</td>\n",
              "    </tr>\n",
              "    <tr>\n",
              "      <th>1</th>\n",
              "      <td>295</td>\n",
              "      <td>1252</td>\n",
              "    </tr>\n",
              "  </tbody>\n",
              "</table>\n",
              "</div>"
            ],
            "text/plain": [
              "      0     1\n",
              "0  1210   377\n",
              "1   295  1252"
            ]
          },
          "metadata": {
            "tags": []
          },
          "execution_count": 227
        }
      ]
    },
    {
      "cell_type": "code",
      "metadata": {
        "colab": {
          "base_uri": "https://localhost:8080/"
        },
        "id": "pYn44J5jfvw9",
        "outputId": "047b4335-fedd-4a12-ce24-964f71231740"
      },
      "source": [
        "precision = precision_score(y_val, y_pred, pos_label=0)\n",
        "recall = recall_score(y_val, y_pred, pos_label=0)\n",
        "f1 = f1_score(y_val, y_pred, average=\"macro\")\n",
        "\n",
        "print(f\"precision: {precision}, recall: {recall}, f1-score: {f1}\")"
      ],
      "execution_count": null,
      "outputs": [
        {
          "output_type": "stream",
          "text": [
            "precision: 0.8039867109634552, recall: 0.7624448645242596, f1-score: 0.785539020011014\n"
          ],
          "name": "stdout"
        }
      ]
    },
    {
      "cell_type": "code",
      "metadata": {
        "colab": {
          "base_uri": "https://localhost:8080/"
        },
        "id": "Df6oG0dHJObV",
        "outputId": "75ce621d-81bc-447d-a6e7-bd76e1187747"
      },
      "source": [
        "i = accuracy_interval(f1)\n",
        "accuracy[\"Logistic Regression\"] = i\n",
        "print(i)"
      ],
      "execution_count": null,
      "outputs": [
        {
          "output_type": "stream",
          "text": [
            "(0.7708237261516696, 0.7995551538494866)\n"
          ],
          "name": "stdout"
        }
      ]
    },
    {
      "cell_type": "code",
      "metadata": {
        "colab": {
          "base_uri": "https://localhost:8080/"
        },
        "id": "WVYHV5CRYWlv",
        "outputId": "f6f4582d-8232-415b-d3ff-4f9a83abe050"
      },
      "source": [
        "model = LogisticRegression(random_state=42, solver=\"saga\")\n",
        "parameters = {\n",
        "    \"penalty\": [\"l1\"],\n",
        "    \"C\": [0.3, 0.8, 1],#np.logspace(-4, 0, 5),\n",
        "    \"tol\": np.logspace(-9, 6, 6)\n",
        "}\n",
        "\n",
        "skf = StratifiedKFold(3, shuffle=True, random_state=42)\n",
        "gs = GridSearchCV(model, parameters, cv=skf)\n",
        "\n",
        "gs.fit(X_train_S, y_train)"
      ],
      "execution_count": null,
      "outputs": [
        {
          "output_type": "stream",
          "text": [
            "/usr/local/lib/python3.7/dist-packages/sklearn/linear_model/_sag.py:330: ConvergenceWarning: The max_iter was reached which means the coef_ did not converge\n",
            "  \"the coef_ did not converge\", ConvergenceWarning)\n",
            "/usr/local/lib/python3.7/dist-packages/sklearn/linear_model/_sag.py:330: ConvergenceWarning: The max_iter was reached which means the coef_ did not converge\n",
            "  \"the coef_ did not converge\", ConvergenceWarning)\n",
            "/usr/local/lib/python3.7/dist-packages/sklearn/linear_model/_sag.py:330: ConvergenceWarning: The max_iter was reached which means the coef_ did not converge\n",
            "  \"the coef_ did not converge\", ConvergenceWarning)\n",
            "/usr/local/lib/python3.7/dist-packages/sklearn/linear_model/_sag.py:330: ConvergenceWarning: The max_iter was reached which means the coef_ did not converge\n",
            "  \"the coef_ did not converge\", ConvergenceWarning)\n",
            "/usr/local/lib/python3.7/dist-packages/sklearn/linear_model/_sag.py:330: ConvergenceWarning: The max_iter was reached which means the coef_ did not converge\n",
            "  \"the coef_ did not converge\", ConvergenceWarning)\n",
            "/usr/local/lib/python3.7/dist-packages/sklearn/linear_model/_sag.py:330: ConvergenceWarning: The max_iter was reached which means the coef_ did not converge\n",
            "  \"the coef_ did not converge\", ConvergenceWarning)\n",
            "/usr/local/lib/python3.7/dist-packages/sklearn/linear_model/_sag.py:330: ConvergenceWarning: The max_iter was reached which means the coef_ did not converge\n",
            "  \"the coef_ did not converge\", ConvergenceWarning)\n",
            "/usr/local/lib/python3.7/dist-packages/sklearn/linear_model/_sag.py:330: ConvergenceWarning: The max_iter was reached which means the coef_ did not converge\n",
            "  \"the coef_ did not converge\", ConvergenceWarning)\n",
            "/usr/local/lib/python3.7/dist-packages/sklearn/linear_model/_sag.py:330: ConvergenceWarning: The max_iter was reached which means the coef_ did not converge\n",
            "  \"the coef_ did not converge\", ConvergenceWarning)\n",
            "/usr/local/lib/python3.7/dist-packages/sklearn/linear_model/_sag.py:330: ConvergenceWarning: The max_iter was reached which means the coef_ did not converge\n",
            "  \"the coef_ did not converge\", ConvergenceWarning)\n",
            "/usr/local/lib/python3.7/dist-packages/sklearn/linear_model/_sag.py:330: ConvergenceWarning: The max_iter was reached which means the coef_ did not converge\n",
            "  \"the coef_ did not converge\", ConvergenceWarning)\n",
            "/usr/local/lib/python3.7/dist-packages/sklearn/linear_model/_sag.py:330: ConvergenceWarning: The max_iter was reached which means the coef_ did not converge\n",
            "  \"the coef_ did not converge\", ConvergenceWarning)\n",
            "/usr/local/lib/python3.7/dist-packages/sklearn/linear_model/_sag.py:330: ConvergenceWarning: The max_iter was reached which means the coef_ did not converge\n",
            "  \"the coef_ did not converge\", ConvergenceWarning)\n",
            "/usr/local/lib/python3.7/dist-packages/sklearn/linear_model/_sag.py:330: ConvergenceWarning: The max_iter was reached which means the coef_ did not converge\n",
            "  \"the coef_ did not converge\", ConvergenceWarning)\n",
            "/usr/local/lib/python3.7/dist-packages/sklearn/linear_model/_sag.py:330: ConvergenceWarning: The max_iter was reached which means the coef_ did not converge\n",
            "  \"the coef_ did not converge\", ConvergenceWarning)\n",
            "/usr/local/lib/python3.7/dist-packages/sklearn/linear_model/_sag.py:330: ConvergenceWarning: The max_iter was reached which means the coef_ did not converge\n",
            "  \"the coef_ did not converge\", ConvergenceWarning)\n"
          ],
          "name": "stderr"
        },
        {
          "output_type": "execute_result",
          "data": {
            "text/plain": [
              "GridSearchCV(cv=StratifiedKFold(n_splits=3, random_state=42, shuffle=True),\n",
              "             error_score=nan,\n",
              "             estimator=LogisticRegression(C=1.0, class_weight=None, dual=False,\n",
              "                                          fit_intercept=True,\n",
              "                                          intercept_scaling=1, l1_ratio=None,\n",
              "                                          max_iter=100, multi_class='auto',\n",
              "                                          n_jobs=None, penalty='l2',\n",
              "                                          random_state=42, solver='saga',\n",
              "                                          tol=0.0001, verbose=0,\n",
              "                                          warm_start=False),\n",
              "             iid='deprecated', n_jobs=None,\n",
              "             param_grid={'C': [0.3, 0.8, 1], 'penalty': ['l1'],\n",
              "                         'tol': array([1.e-09, 1.e-06, 1.e-03, 1.e+00, 1.e+03, 1.e+06])},\n",
              "             pre_dispatch='2*n_jobs', refit=True, return_train_score=False,\n",
              "             scoring=None, verbose=0)"
            ]
          },
          "metadata": {
            "tags": []
          },
          "execution_count": 230
        }
      ]
    },
    {
      "cell_type": "code",
      "metadata": {
        "colab": {
          "base_uri": "https://localhost:8080/",
          "height": 479
        },
        "id": "mf0_XF_3ZQi-",
        "outputId": "a29f07a3-1a3b-459a-cb99-9003a026f6d2"
      },
      "source": [
        "pd.DataFrame(gs.cv_results_).sort_values(\"rank_test_score\").head(5)"
      ],
      "execution_count": null,
      "outputs": [
        {
          "output_type": "execute_result",
          "data": {
            "text/html": [
              "<div>\n",
              "<style scoped>\n",
              "    .dataframe tbody tr th:only-of-type {\n",
              "        vertical-align: middle;\n",
              "    }\n",
              "\n",
              "    .dataframe tbody tr th {\n",
              "        vertical-align: top;\n",
              "    }\n",
              "\n",
              "    .dataframe thead th {\n",
              "        text-align: right;\n",
              "    }\n",
              "</style>\n",
              "<table border=\"1\" class=\"dataframe\">\n",
              "  <thead>\n",
              "    <tr style=\"text-align: right;\">\n",
              "      <th></th>\n",
              "      <th>mean_fit_time</th>\n",
              "      <th>std_fit_time</th>\n",
              "      <th>mean_score_time</th>\n",
              "      <th>std_score_time</th>\n",
              "      <th>param_C</th>\n",
              "      <th>param_penalty</th>\n",
              "      <th>param_tol</th>\n",
              "      <th>params</th>\n",
              "      <th>split0_test_score</th>\n",
              "      <th>split1_test_score</th>\n",
              "      <th>split2_test_score</th>\n",
              "      <th>mean_test_score</th>\n",
              "      <th>std_test_score</th>\n",
              "      <th>rank_test_score</th>\n",
              "    </tr>\n",
              "  </thead>\n",
              "  <tbody>\n",
              "    <tr>\n",
              "      <th>8</th>\n",
              "      <td>0.038182</td>\n",
              "      <td>0.003629</td>\n",
              "      <td>0.000952</td>\n",
              "      <td>0.000002</td>\n",
              "      <td>0.8</td>\n",
              "      <td>l1</td>\n",
              "      <td>0.001</td>\n",
              "      <td>{'C': 0.8, 'penalty': 'l1', 'tol': 0.001}</td>\n",
              "      <td>0.791766</td>\n",
              "      <td>0.791288</td>\n",
              "      <td>0.765805</td>\n",
              "      <td>0.782953</td>\n",
              "      <td>0.012127</td>\n",
              "      <td>1</td>\n",
              "    </tr>\n",
              "    <tr>\n",
              "      <th>7</th>\n",
              "      <td>0.201389</td>\n",
              "      <td>0.006021</td>\n",
              "      <td>0.003434</td>\n",
              "      <td>0.002254</td>\n",
              "      <td>0.8</td>\n",
              "      <td>l1</td>\n",
              "      <td>1e-06</td>\n",
              "      <td>{'C': 0.8, 'penalty': 'l1', 'tol': 1e-06}</td>\n",
              "      <td>0.791288</td>\n",
              "      <td>0.791288</td>\n",
              "      <td>0.765805</td>\n",
              "      <td>0.782793</td>\n",
              "      <td>0.012013</td>\n",
              "      <td>2</td>\n",
              "    </tr>\n",
              "    <tr>\n",
              "      <th>6</th>\n",
              "      <td>0.203339</td>\n",
              "      <td>0.001381</td>\n",
              "      <td>0.001663</td>\n",
              "      <td>0.000498</td>\n",
              "      <td>0.8</td>\n",
              "      <td>l1</td>\n",
              "      <td>1e-09</td>\n",
              "      <td>{'C': 0.8, 'penalty': 'l1', 'tol': 1e-09}</td>\n",
              "      <td>0.791288</td>\n",
              "      <td>0.791288</td>\n",
              "      <td>0.765805</td>\n",
              "      <td>0.782793</td>\n",
              "      <td>0.012013</td>\n",
              "      <td>2</td>\n",
              "    </tr>\n",
              "    <tr>\n",
              "      <th>14</th>\n",
              "      <td>0.039959</td>\n",
              "      <td>0.004944</td>\n",
              "      <td>0.000986</td>\n",
              "      <td>0.000011</td>\n",
              "      <td>1</td>\n",
              "      <td>l1</td>\n",
              "      <td>0.001</td>\n",
              "      <td>{'C': 1, 'penalty': 'l1', 'tol': 0.001}</td>\n",
              "      <td>0.791766</td>\n",
              "      <td>0.791288</td>\n",
              "      <td>0.765326</td>\n",
              "      <td>0.782793</td>\n",
              "      <td>0.012353</td>\n",
              "      <td>4</td>\n",
              "    </tr>\n",
              "    <tr>\n",
              "      <th>13</th>\n",
              "      <td>0.201169</td>\n",
              "      <td>0.004854</td>\n",
              "      <td>0.001478</td>\n",
              "      <td>0.000128</td>\n",
              "      <td>1</td>\n",
              "      <td>l1</td>\n",
              "      <td>1e-06</td>\n",
              "      <td>{'C': 1, 'penalty': 'l1', 'tol': 1e-06}</td>\n",
              "      <td>0.791766</td>\n",
              "      <td>0.791288</td>\n",
              "      <td>0.765326</td>\n",
              "      <td>0.782793</td>\n",
              "      <td>0.012353</td>\n",
              "      <td>4</td>\n",
              "    </tr>\n",
              "  </tbody>\n",
              "</table>\n",
              "</div>"
            ],
            "text/plain": [
              "    mean_fit_time  std_fit_time  ...  std_test_score  rank_test_score\n",
              "8        0.038182      0.003629  ...        0.012127                1\n",
              "7        0.201389      0.006021  ...        0.012013                2\n",
              "6        0.203339      0.001381  ...        0.012013                2\n",
              "14       0.039959      0.004944  ...        0.012353                4\n",
              "13       0.201169      0.004854  ...        0.012353                4\n",
              "\n",
              "[5 rows x 14 columns]"
            ]
          },
          "metadata": {
            "tags": []
          },
          "execution_count": 231
        }
      ]
    },
    {
      "cell_type": "code",
      "metadata": {
        "colab": {
          "base_uri": "https://localhost:8080/"
        },
        "id": "SqVH-Kl1ZVPf",
        "outputId": "eccd6c9f-8559-47de-c3db-207f03da1692"
      },
      "source": [
        "gs.best_params_"
      ],
      "execution_count": null,
      "outputs": [
        {
          "output_type": "execute_result",
          "data": {
            "text/plain": [
              "{'C': 0.8, 'penalty': 'l1', 'tol': 0.001}"
            ]
          },
          "metadata": {
            "tags": []
          },
          "execution_count": 232
        }
      ]
    },
    {
      "cell_type": "code",
      "metadata": {
        "colab": {
          "base_uri": "https://localhost:8080/"
        },
        "id": "gvau57tpZZ-b",
        "outputId": "5d1c12c4-a57a-4d4a-d9fa-41cd4559acc7"
      },
      "source": [
        "print(f'Best score: {round(gs.best_score_ * 100, 4):.4f}%')"
      ],
      "execution_count": null,
      "outputs": [
        {
          "output_type": "stream",
          "text": [
            "Best score: 78.2953%\n"
          ],
          "name": "stdout"
        }
      ]
    },
    {
      "cell_type": "code",
      "metadata": {
        "colab": {
          "base_uri": "https://localhost:8080/",
          "height": 265
        },
        "id": "ylFC3gVlZr-Q",
        "outputId": "8e4562d5-5f1a-42f8-b7a7-d76fc1553600"
      },
      "source": [
        "pc_imp = pd.Series(gs.best_estimator_.coef_[0], index=X.columns)\n",
        "pc_imp.nlargest(4).plot(kind='barh');"
      ],
      "execution_count": null,
      "outputs": [
        {
          "output_type": "display_data",
          "data": {
            "image/png": "[encoded data removed]",
            "text/plain": [
              "<Figure size 432x288 with 1 Axes>"
            ]
          },
          "metadata": {
            "tags": [],
            "needs_background": "light"
          }
        }
      ]
    },
    {
      "cell_type": "code",
      "metadata": {
        "colab": {
          "base_uri": "https://localhost:8080/",
          "height": 111
        },
        "id": "zvBU5Y77Zy7H",
        "outputId": "18b5ed6a-d436-47b2-8641-4cf92e4609e5"
      },
      "source": [
        "y_pred = gs.predict(X_val_S)\n",
        "cm = confusion_matrix(y_val, y_pred)\n",
        "pd.DataFrame(cm, index=gs.best_estimator_.classes_, columns=gs.best_estimator_.classes_)"
      ],
      "execution_count": null,
      "outputs": [
        {
          "output_type": "execute_result",
          "data": {
            "text/html": [
              "<div>\n",
              "<style scoped>\n",
              "    .dataframe tbody tr th:only-of-type {\n",
              "        vertical-align: middle;\n",
              "    }\n",
              "\n",
              "    .dataframe tbody tr th {\n",
              "        vertical-align: top;\n",
              "    }\n",
              "\n",
              "    .dataframe thead th {\n",
              "        text-align: right;\n",
              "    }\n",
              "</style>\n",
              "<table border=\"1\" class=\"dataframe\">\n",
              "  <thead>\n",
              "    <tr style=\"text-align: right;\">\n",
              "      <th></th>\n",
              "      <th>0</th>\n",
              "      <th>1</th>\n",
              "    </tr>\n",
              "  </thead>\n",
              "  <tbody>\n",
              "    <tr>\n",
              "      <th>0</th>\n",
              "      <td>1209</td>\n",
              "      <td>378</td>\n",
              "    </tr>\n",
              "    <tr>\n",
              "      <th>1</th>\n",
              "      <td>294</td>\n",
              "      <td>1253</td>\n",
              "    </tr>\n",
              "  </tbody>\n",
              "</table>\n",
              "</div>"
            ],
            "text/plain": [
              "      0     1\n",
              "0  1209   378\n",
              "1   294  1253"
            ]
          },
          "metadata": {
            "tags": []
          },
          "execution_count": 235
        }
      ]
    },
    {
      "cell_type": "code",
      "metadata": {
        "colab": {
          "base_uri": "https://localhost:8080/"
        },
        "id": "PvS0TlieZ00B",
        "outputId": "3bd7b4b5-cd5c-48c2-c91c-569b295a1d7e"
      },
      "source": [
        "precision = precision_score(y_val, y_pred, pos_label=0)\n",
        "recall = recall_score(y_val, y_pred, pos_label=0)\n",
        "f1 = f1_score(y_val, y_pred, average=\"macro\")\n",
        "\n",
        "print(f\"precision: {precision}, recall: {recall}, f1-score: {f1}\")"
      ],
      "execution_count": null,
      "outputs": [
        {
          "output_type": "stream",
          "text": [
            "precision: 0.8043912175648703, recall: 0.7618147448015122, f1-score: 0.7855352636756341\n"
          ],
          "name": "stdout"
        }
      ]
    },
    {
      "cell_type": "code",
      "metadata": {
        "colab": {
          "base_uri": "https://localhost:8080/"
        },
        "id": "5pqGm9_p-zW6",
        "outputId": "a8c5bb8b-f943-42ba-aaf4-a26750d4b3a8"
      },
      "source": [
        "i = accuracy_interval(f1)\n",
        "accuracy[\"Logistic regression with gs\"] = i\n",
        "print(i)"
      ],
      "execution_count": null,
      "outputs": [
        {
          "output_type": "stream",
          "text": [
            "(0.7708198831199977, 0.799551493408019)\n"
          ],
          "name": "stdout"
        }
      ]
    },
    {
      "cell_type": "code",
      "metadata": {
        "colab": {
          "base_uri": "https://localhost:8080/"
        },
        "id": "XXCdBcoObSBY",
        "outputId": "25e0c0cc-26cb-4e6b-f403-0dff2301947a"
      },
      "source": [
        "logisticregression_mse = mean_squared_error(y_val, y_pred)\n",
        "print('MSE: {}'.format(logisticregression_mse))"
      ],
      "execution_count": null,
      "outputs": [
        {
          "output_type": "stream",
          "text": [
            "MSE: 0.21442246330567966\n"
          ],
          "name": "stdout"
        }
      ]
    },
    {
      "cell_type": "markdown",
      "metadata": {
        "id": "ItRC6PZ1ySJk"
      },
      "source": [
        "##SVM"
      ]
    },
    {
      "cell_type": "code",
      "metadata": {
        "colab": {
          "base_uri": "https://localhost:8080/"
        },
        "id": "YZi_QGLuyvPt",
        "outputId": "69c7d5d7-131c-49cc-ada9-67f65b011a6b"
      },
      "source": [
        "model = SVC()\n",
        "parameters = {\n",
        "    \"kernel\": [\"rbf\"],\n",
        "    \"C\": np.logspace(-2, 0, 3)\n",
        "}\n",
        "\n",
        "skf = StratifiedKFold(3, shuffle=True, random_state=42)\n",
        "gs = GridSearchCV(model, parameters, cv=skf)\n",
        "\n",
        "gs.fit(X_train_S, y_train)"
      ],
      "execution_count": null,
      "outputs": [
        {
          "output_type": "execute_result",
          "data": {
            "text/plain": [
              "GridSearchCV(cv=StratifiedKFold(n_splits=3, random_state=42, shuffle=True),\n",
              "             error_score=nan,\n",
              "             estimator=SVC(C=1.0, break_ties=False, cache_size=200,\n",
              "                           class_weight=None, coef0=0.0,\n",
              "                           decision_function_shape='ovr', degree=3,\n",
              "                           gamma='scale', kernel='rbf', max_iter=-1,\n",
              "                           probability=False, random_state=None, shrinking=True,\n",
              "                           tol=0.001, verbose=False),\n",
              "             iid='deprecated', n_jobs=None,\n",
              "             param_grid={'C': array([0.01, 0.1 , 1.  ]), 'kernel': ['rbf']},\n",
              "             pre_dispatch='2*n_jobs', refit=True, return_train_score=False,\n",
              "             scoring=None, verbose=0)"
            ]
          },
          "metadata": {
            "tags": []
          },
          "execution_count": 239
        }
      ]
    },
    {
      "cell_type": "code",
      "metadata": {
        "colab": {
          "base_uri": "https://localhost:8080/",
          "height": 315
        },
        "id": "2hvSycplzWtd",
        "outputId": "a14c4ac0-f445-48bb-b0bc-526fc2f154d8"
      },
      "source": [
        "pd.DataFrame(gs.cv_results_).sort_values(\"rank_test_score\").head(5)"
      ],
      "execution_count": null,
      "outputs": [
        {
          "output_type": "execute_result",
          "data": {
            "text/html": [
              "<div>\n",
              "<style scoped>\n",
              "    .dataframe tbody tr th:only-of-type {\n",
              "        vertical-align: middle;\n",
              "    }\n",
              "\n",
              "    .dataframe tbody tr th {\n",
              "        vertical-align: top;\n",
              "    }\n",
              "\n",
              "    .dataframe thead th {\n",
              "        text-align: right;\n",
              "    }\n",
              "</style>\n",
              "<table border=\"1\" class=\"dataframe\">\n",
              "  <thead>\n",
              "    <tr style=\"text-align: right;\">\n",
              "      <th></th>\n",
              "      <th>mean_fit_time</th>\n",
              "      <th>std_fit_time</th>\n",
              "      <th>mean_score_time</th>\n",
              "      <th>std_score_time</th>\n",
              "      <th>param_C</th>\n",
              "      <th>param_kernel</th>\n",
              "      <th>params</th>\n",
              "      <th>split0_test_score</th>\n",
              "      <th>split1_test_score</th>\n",
              "      <th>split2_test_score</th>\n",
              "      <th>mean_test_score</th>\n",
              "      <th>std_test_score</th>\n",
              "      <th>rank_test_score</th>\n",
              "    </tr>\n",
              "  </thead>\n",
              "  <tbody>\n",
              "    <tr>\n",
              "      <th>2</th>\n",
              "      <td>0.375215</td>\n",
              "      <td>0.007917</td>\n",
              "      <td>0.131605</td>\n",
              "      <td>0.002592</td>\n",
              "      <td>1</td>\n",
              "      <td>rbf</td>\n",
              "      <td>{'C': 1.0, 'kernel': 'rbf'}</td>\n",
              "      <td>0.933940</td>\n",
              "      <td>0.923887</td>\n",
              "      <td>0.924330</td>\n",
              "      <td>0.927385</td>\n",
              "      <td>0.004638</td>\n",
              "      <td>1</td>\n",
              "    </tr>\n",
              "    <tr>\n",
              "      <th>1</th>\n",
              "      <td>0.625062</td>\n",
              "      <td>0.006262</td>\n",
              "      <td>0.223079</td>\n",
              "      <td>0.004900</td>\n",
              "      <td>0.1</td>\n",
              "      <td>rbf</td>\n",
              "      <td>{'C': 0.1, 'kernel': 'rbf'}</td>\n",
              "      <td>0.879847</td>\n",
              "      <td>0.885112</td>\n",
              "      <td>0.861590</td>\n",
              "      <td>0.875516</td>\n",
              "      <td>0.010079</td>\n",
              "      <td>2</td>\n",
              "    </tr>\n",
              "    <tr>\n",
              "      <th>0</th>\n",
              "      <td>0.949984</td>\n",
              "      <td>0.026189</td>\n",
              "      <td>0.350951</td>\n",
              "      <td>0.007269</td>\n",
              "      <td>0.01</td>\n",
              "      <td>rbf</td>\n",
              "      <td>{'C': 0.01, 'kernel': 'rbf'}</td>\n",
              "      <td>0.785543</td>\n",
              "      <td>0.788894</td>\n",
              "      <td>0.780172</td>\n",
              "      <td>0.784870</td>\n",
              "      <td>0.003592</td>\n",
              "      <td>3</td>\n",
              "    </tr>\n",
              "  </tbody>\n",
              "</table>\n",
              "</div>"
            ],
            "text/plain": [
              "   mean_fit_time  std_fit_time  ...  std_test_score  rank_test_score\n",
              "2       0.375215      0.007917  ...        0.004638                1\n",
              "1       0.625062      0.006262  ...        0.010079                2\n",
              "0       0.949984      0.026189  ...        0.003592                3\n",
              "\n",
              "[3 rows x 13 columns]"
            ]
          },
          "metadata": {
            "tags": []
          },
          "execution_count": 240
        }
      ]
    },
    {
      "cell_type": "code",
      "metadata": {
        "colab": {
          "base_uri": "https://localhost:8080/"
        },
        "id": "UjAN1TnpzXG_",
        "outputId": "068dd29c-3992-4462-ec2d-14e3a60e38c1"
      },
      "source": [
        "gs.best_params_"
      ],
      "execution_count": null,
      "outputs": [
        {
          "output_type": "execute_result",
          "data": {
            "text/plain": [
              "{'C': 1.0, 'kernel': 'rbf'}"
            ]
          },
          "metadata": {
            "tags": []
          },
          "execution_count": 241
        }
      ]
    },
    {
      "cell_type": "code",
      "metadata": {
        "colab": {
          "base_uri": "https://localhost:8080/"
        },
        "id": "wz_qTNc3zZuy",
        "outputId": "ce723735-0097-4d57-aaf3-878a0e256e67"
      },
      "source": [
        "print(f'Best score: {round(gs.best_score_ * 100, 4):.4f}%')"
      ],
      "execution_count": null,
      "outputs": [
        {
          "output_type": "stream",
          "text": [
            "Best score: 92.7385%\n"
          ],
          "name": "stdout"
        }
      ]
    },
    {
      "cell_type": "code",
      "metadata": {
        "colab": {
          "base_uri": "https://localhost:8080/",
          "height": 265
        },
        "id": "BOp5uncX2pz2",
        "outputId": "ffea8418-e0de-4e87-f6ad-6ce3e728ab99"
      },
      "source": [
        "svm_imp = pd.Series(gs.best_estimator_.support_vectors_[0], index=X.columns)\n",
        "svm_imp.nlargest(4).plot(kind='barh');"
      ],
      "execution_count": null,
      "outputs": [
        {
          "output_type": "display_data",
          "data": {
            "image/png": "[encoded data removed]",
            "text/plain": [
              "<Figure size 432x288 with 1 Axes>"
            ]
          },
          "metadata": {
            "tags": [],
            "needs_background": "light"
          }
        }
      ]
    },
    {
      "cell_type": "code",
      "metadata": {
        "colab": {
          "base_uri": "https://localhost:8080/",
          "height": 111
        },
        "id": "tbjeZyU_z0gs",
        "outputId": "fbee346d-f585-44f9-b334-cfdd962e0b17"
      },
      "source": [
        "y_pred = gs.predict(X_val_S)\n",
        "cm = confusion_matrix(y_val, y_pred)\n",
        "pd.DataFrame(cm, index=gs.best_estimator_.classes_, columns=gs.best_estimator_.classes_)"
      ],
      "execution_count": null,
      "outputs": [
        {
          "output_type": "execute_result",
          "data": {
            "text/html": [
              "<div>\n",
              "<style scoped>\n",
              "    .dataframe tbody tr th:only-of-type {\n",
              "        vertical-align: middle;\n",
              "    }\n",
              "\n",
              "    .dataframe tbody tr th {\n",
              "        vertical-align: top;\n",
              "    }\n",
              "\n",
              "    .dataframe thead th {\n",
              "        text-align: right;\n",
              "    }\n",
              "</style>\n",
              "<table border=\"1\" class=\"dataframe\">\n",
              "  <thead>\n",
              "    <tr style=\"text-align: right;\">\n",
              "      <th></th>\n",
              "      <th>0</th>\n",
              "      <th>1</th>\n",
              "    </tr>\n",
              "  </thead>\n",
              "  <tbody>\n",
              "    <tr>\n",
              "      <th>0</th>\n",
              "      <td>1536</td>\n",
              "      <td>51</td>\n",
              "    </tr>\n",
              "    <tr>\n",
              "      <th>1</th>\n",
              "      <td>162</td>\n",
              "      <td>1385</td>\n",
              "    </tr>\n",
              "  </tbody>\n",
              "</table>\n",
              "</div>"
            ],
            "text/plain": [
              "      0     1\n",
              "0  1536    51\n",
              "1   162  1385"
            ]
          },
          "metadata": {
            "tags": []
          },
          "execution_count": 244
        }
      ]
    },
    {
      "cell_type": "code",
      "metadata": {
        "colab": {
          "base_uri": "https://localhost:8080/"
        },
        "id": "u7JbykEJz20z",
        "outputId": "4a950988-6fee-47a1-bce1-8e5d86d6ea20"
      },
      "source": [
        "precision = precision_score(y_val, y_pred, pos_label=0)\n",
        "recall = recall_score(y_val, y_pred, pos_label=0)\n",
        "f1 = f1_score(y_val, y_pred, average=\"macro\")\n",
        "\n",
        "print(f\"precision: {precision}, recall: {recall}, f1-score: {f1}\")"
      ],
      "execution_count": null,
      "outputs": [
        {
          "output_type": "stream",
          "text": [
            "precision: 0.9045936395759717, recall: 0.9678638941398866, f1-score: 0.9318775955681893\n"
          ],
          "name": "stdout"
        }
      ]
    },
    {
      "cell_type": "code",
      "metadata": {
        "colab": {
          "base_uri": "https://localhost:8080/"
        },
        "id": "Ig94v053-7Dy",
        "outputId": "b3b600fd-a69a-4b10-a471-0844e2abdd54"
      },
      "source": [
        "i = accuracy_interval(f1)\n",
        "accuracy[\"Support Vector Machines\"] = i\n",
        "print(i)"
      ],
      "execution_count": null,
      "outputs": [
        {
          "output_type": "stream",
          "text": [
            "(0.922517148384615, 0.9401805636418334)\n"
          ],
          "name": "stdout"
        }
      ]
    },
    {
      "cell_type": "code",
      "metadata": {
        "colab": {
          "base_uri": "https://localhost:8080/"
        },
        "id": "St5uh9Poz8q5",
        "outputId": "0fd2d358-9d66-4e2f-fbce-c37d71448537"
      },
      "source": [
        "svm_mse = mean_squared_error(y_val, y_pred)\n",
        "print('MSE: {}'.format(svm_mse))"
      ],
      "execution_count": null,
      "outputs": [
        {
          "output_type": "stream",
          "text": [
            "MSE: 0.06796426292278239\n"
          ],
          "name": "stdout"
        }
      ]
    },
    {
      "cell_type": "markdown",
      "metadata": {
        "id": "rtRTwYxcTJoq"
      },
      "source": [
        "##Decision tree"
      ]
    },
    {
      "cell_type": "markdown",
      "metadata": {
        "id": "O3Jd39oH_CrW"
      },
      "source": [
        "I parametri che andiamo a testare nella grid search sono:\n",
        "- `min_samples_split` che è il numero minimo di campioni che deve avere una foglia per poter essere splittata\n",
        "- `min_samples_leaf` numero minimo di campioni per ogni foglia (i.e. se splittiamo un nodo questo split è valido solo se lascia in ogni foglia che crea almeno min_samples_leaf campioni)\n",
        "- `max_depth` profondità massima che può raggiungere l'albero (con `None` cresce senza limiti su questo parametro)\n",
        "- `max_features` il numero massimo di feature da considerare per ogni split"
      ]
    },
    {
      "cell_type": "code",
      "metadata": {
        "colab": {
          "base_uri": "https://localhost:8080/"
        },
        "id": "9WtaBXAuRvK7",
        "outputId": "6e364328-1396-4061-bcaa-238db20583c9"
      },
      "source": [
        "model = DecisionTreeClassifier(random_state=42)\n",
        "\n",
        "num_features = X_train_S.shape[1]\n",
        "\n",
        "parameters = {\n",
        "             'min_samples_split': range(2, 4, 1),\n",
        "             'min_samples_leaf': range(1, 4, 1), \n",
        "             'max_depth': [None] + [i for i in range(2, 7)],\n",
        "             'max_features': range(2, num_features, 1)}\n",
        "\n",
        "skf = StratifiedKFold(3, shuffle=True, random_state=42)\n",
        "gs = GridSearchCV(model, parameters, cv=skf)\n",
        "\n",
        "gs.fit(X_train_S, y_train)"
      ],
      "execution_count": null,
      "outputs": [
        {
          "output_type": "execute_result",
          "data": {
            "text/plain": [
              "GridSearchCV(cv=StratifiedKFold(n_splits=3, random_state=42, shuffle=True),\n",
              "             error_score=nan,\n",
              "             estimator=DecisionTreeClassifier(ccp_alpha=0.0, class_weight=None,\n",
              "                                              criterion='gini', max_depth=None,\n",
              "                                              max_features=None,\n",
              "                                              max_leaf_nodes=None,\n",
              "                                              min_impurity_decrease=0.0,\n",
              "                                              min_impurity_split=None,\n",
              "                                              min_samples_leaf=1,\n",
              "                                              min_samples_split=2,\n",
              "                                              min_weight_fraction_leaf=0.0,\n",
              "                                              presort='deprecated',\n",
              "                                              random_state=42,\n",
              "                                              splitter='best'),\n",
              "             iid='deprecated', n_jobs=None,\n",
              "             param_grid={'max_depth': [None, 2, 3, 4, 5, 6],\n",
              "                         'max_features': range(2, 20),\n",
              "                         'min_samples_leaf': range(1, 4),\n",
              "                         'min_samples_split': range(2, 4)},\n",
              "             pre_dispatch='2*n_jobs', refit=True, return_train_score=False,\n",
              "             scoring=None, verbose=0)"
            ]
          },
          "metadata": {
            "tags": []
          },
          "execution_count": 248
        }
      ]
    },
    {
      "cell_type": "code",
      "metadata": {
        "colab": {
          "base_uri": "https://localhost:8080/"
        },
        "id": "-fNTHi7VSVm0",
        "outputId": "a59c79ff-1359-4bf2-9717-9f3eed685db3"
      },
      "source": [
        "gs.best_score_"
      ],
      "execution_count": null,
      "outputs": [
        {
          "output_type": "execute_result",
          "data": {
            "text/plain": [
              "0.9521222581092837"
            ]
          },
          "metadata": {
            "tags": []
          },
          "execution_count": 249
        }
      ]
    },
    {
      "cell_type": "code",
      "metadata": {
        "colab": {
          "base_uri": "https://localhost:8080/",
          "height": 111
        },
        "id": "U3Hx35c6Sdeh",
        "outputId": "ae89f1ea-e9c2-494b-d307-01b38812b694"
      },
      "source": [
        "y_pred = gs.predict(X_val_S)\n",
        "cm = confusion_matrix(y_val, y_pred)\n",
        "pd.DataFrame(cm, index=gs.best_estimator_.classes_, columns=gs.best_estimator_.classes_)"
      ],
      "execution_count": null,
      "outputs": [
        {
          "output_type": "execute_result",
          "data": {
            "text/html": [
              "<div>\n",
              "<style scoped>\n",
              "    .dataframe tbody tr th:only-of-type {\n",
              "        vertical-align: middle;\n",
              "    }\n",
              "\n",
              "    .dataframe tbody tr th {\n",
              "        vertical-align: top;\n",
              "    }\n",
              "\n",
              "    .dataframe thead th {\n",
              "        text-align: right;\n",
              "    }\n",
              "</style>\n",
              "<table border=\"1\" class=\"dataframe\">\n",
              "  <thead>\n",
              "    <tr style=\"text-align: right;\">\n",
              "      <th></th>\n",
              "      <th>0</th>\n",
              "      <th>1</th>\n",
              "    </tr>\n",
              "  </thead>\n",
              "  <tbody>\n",
              "    <tr>\n",
              "      <th>0</th>\n",
              "      <td>1532</td>\n",
              "      <td>55</td>\n",
              "    </tr>\n",
              "    <tr>\n",
              "      <th>1</th>\n",
              "      <td>110</td>\n",
              "      <td>1437</td>\n",
              "    </tr>\n",
              "  </tbody>\n",
              "</table>\n",
              "</div>"
            ],
            "text/plain": [
              "      0     1\n",
              "0  1532    55\n",
              "1   110  1437"
            ]
          },
          "metadata": {
            "tags": []
          },
          "execution_count": 250
        }
      ]
    },
    {
      "cell_type": "code",
      "metadata": {
        "colab": {
          "base_uri": "https://localhost:8080/"
        },
        "id": "_Mbp3TkXSiPX",
        "outputId": "18752fc6-a1b8-458b-9bca-80999e6d8c1f"
      },
      "source": [
        "precision = precision_score(y_val, y_pred, pos_label=0)\n",
        "recall = recall_score(y_val, y_pred, pos_label=0)\n",
        "f1 = f1_score(y_val, y_pred, average=\"macro\")\n",
        "\n",
        "print(f\"precision: {precision}, recall: {recall}, f1-score: {f1}\")"
      ],
      "execution_count": null,
      "outputs": [
        {
          "output_type": "stream",
          "text": [
            "precision: 0.9330085261875761, recall: 0.9653434152488973, f1-score: 0.9473032063508854\n"
          ],
          "name": "stdout"
        }
      ]
    },
    {
      "cell_type": "code",
      "metadata": {
        "colab": {
          "base_uri": "https://localhost:8080/"
        },
        "id": "vwEfcj_4SogG",
        "outputId": "1143e324-1ba1-4bbe-b572-b46a5a823da8"
      },
      "source": [
        "i = accuracy_interval(f1)\n",
        "accuracy[\"Decision tree\"] = i\n",
        "print(i)"
      ],
      "execution_count": null,
      "outputs": [
        {
          "output_type": "stream",
          "text": [
            "(0.93891875760922, 0.9545924054167753)\n"
          ],
          "name": "stdout"
        }
      ]
    },
    {
      "cell_type": "code",
      "metadata": {
        "colab": {
          "base_uri": "https://localhost:8080/"
        },
        "id": "qVWgGqTeStpi",
        "outputId": "5b0b1681-f82d-472e-f079-bae9baa8e8b6"
      },
      "source": [
        "decisiontree_mse = mean_squared_error(y_val, y_pred)\n",
        "print('MSE: {}'.format(decisiontree_mse))"
      ],
      "execution_count": null,
      "outputs": [
        {
          "output_type": "stream",
          "text": [
            "MSE: 0.05264837268666241\n"
          ],
          "name": "stdout"
        }
      ]
    },
    {
      "cell_type": "markdown",
      "metadata": {
        "id": "5I8VeragTjuM"
      },
      "source": [
        "##XGBoost"
      ]
    },
    {
      "cell_type": "code",
      "metadata": {
        "colab": {
          "base_uri": "https://localhost:8080/"
        },
        "id": "6birO_a1TiaK",
        "outputId": "6b2869ec-3445-410d-cb4d-cf3cea1c4462"
      },
      "source": [
        "from xgboost import XGBClassifier\n",
        "\n",
        "\n",
        "model = XGBClassifier(nthread=8, objective='binary:logistic')\n",
        "\n",
        "\n",
        "parameters = {\n",
        "    'eta': [0.002, 0.1, 0.5],\n",
        "    'max_depth': [6],\n",
        "    'n_estimators': [150, 300],\n",
        "    'alpha': [0.0001, 0.001]\n",
        "}\n",
        "\n",
        "\n",
        "skf = StratifiedKFold(3, shuffle=True, random_state=42)\n",
        "gs = GridSearchCV(model, parameters, cv=skf)\n",
        "\n",
        "gs.fit(X_train_S, y_train)"
      ],
      "execution_count": null,
      "outputs": [
        {
          "output_type": "execute_result",
          "data": {
            "text/plain": [
              "GridSearchCV(cv=StratifiedKFold(n_splits=3, random_state=42, shuffle=True),\n",
              "             error_score=nan,\n",
              "             estimator=XGBClassifier(base_score=0.5, booster='gbtree',\n",
              "                                     colsample_bylevel=1, colsample_bynode=1,\n",
              "                                     colsample_bytree=1, gamma=0,\n",
              "                                     learning_rate=0.1, max_delta_step=0,\n",
              "                                     max_depth=3, min_child_weight=1,\n",
              "                                     missing=None, n_estimators=100, n_jobs=1,\n",
              "                                     nthread=8, objective='binary:logistic',\n",
              "                                     random_state=0, reg_alpha=0, reg_lambda=1,\n",
              "                                     scale_pos_weight=1, seed=None, silent=None,\n",
              "                                     subsample=1, verbosity=1),\n",
              "             iid='deprecated', n_jobs=None,\n",
              "             param_grid={'alpha': [0.0001, 0.001], 'eta': [0.002, 0.1, 0.5],\n",
              "                         'max_depth': [6], 'n_estimators': [150, 300]},\n",
              "             pre_dispatch='2*n_jobs', refit=True, return_train_score=False,\n",
              "             scoring=None, verbose=0)"
            ]
          },
          "metadata": {
            "tags": []
          },
          "execution_count": 254
        }
      ]
    },
    {
      "cell_type": "code",
      "metadata": {
        "colab": {
          "base_uri": "https://localhost:8080/"
        },
        "id": "qSlWzn7wUCwC",
        "outputId": "b42a4572-54f9-4615-e502-867e0a8af53e"
      },
      "source": [
        "gs.best_score_"
      ],
      "execution_count": null,
      "outputs": [
        {
          "output_type": "execute_result",
          "data": {
            "text/plain": [
              "0.9720719031208294"
            ]
          },
          "metadata": {
            "tags": []
          },
          "execution_count": 255
        }
      ]
    },
    {
      "cell_type": "code",
      "metadata": {
        "colab": {
          "base_uri": "https://localhost:8080/",
          "height": 111
        },
        "id": "EiAS-agXUEc1",
        "outputId": "37464202-e7a9-4f31-80db-6c82047733aa"
      },
      "source": [
        "y_pred = gs.predict(X_val_S)\n",
        "cm = confusion_matrix(y_val, y_pred)\n",
        "pd.DataFrame(cm, index=gs.best_estimator_.classes_, columns=gs.best_estimator_.classes_)"
      ],
      "execution_count": null,
      "outputs": [
        {
          "output_type": "execute_result",
          "data": {
            "text/html": [
              "<div>\n",
              "<style scoped>\n",
              "    .dataframe tbody tr th:only-of-type {\n",
              "        vertical-align: middle;\n",
              "    }\n",
              "\n",
              "    .dataframe tbody tr th {\n",
              "        vertical-align: top;\n",
              "    }\n",
              "\n",
              "    .dataframe thead th {\n",
              "        text-align: right;\n",
              "    }\n",
              "</style>\n",
              "<table border=\"1\" class=\"dataframe\">\n",
              "  <thead>\n",
              "    <tr style=\"text-align: right;\">\n",
              "      <th></th>\n",
              "      <th>0</th>\n",
              "      <th>1</th>\n",
              "    </tr>\n",
              "  </thead>\n",
              "  <tbody>\n",
              "    <tr>\n",
              "      <th>0</th>\n",
              "      <td>1579</td>\n",
              "      <td>8</td>\n",
              "    </tr>\n",
              "    <tr>\n",
              "      <th>1</th>\n",
              "      <td>78</td>\n",
              "      <td>1469</td>\n",
              "    </tr>\n",
              "  </tbody>\n",
              "</table>\n",
              "</div>"
            ],
            "text/plain": [
              "      0     1\n",
              "0  1579     8\n",
              "1    78  1469"
            ]
          },
          "metadata": {
            "tags": []
          },
          "execution_count": 256
        }
      ]
    },
    {
      "cell_type": "code",
      "metadata": {
        "colab": {
          "base_uri": "https://localhost:8080/"
        },
        "id": "ITw95R8vUIJa",
        "outputId": "339e1f69-276f-4800-f1b5-84abfd39743e"
      },
      "source": [
        "precision = precision_score(y_val, y_pred, pos_label=0)\n",
        "recall = recall_score(y_val, y_pred, pos_label=0)\n",
        "f1 = f1_score(y_val, y_pred, average=\"macro\")\n",
        "\n",
        "print(f\"precision: {precision}, recall: {recall}, f1-score: {f1}\")"
      ],
      "execution_count": null,
      "outputs": [
        {
          "output_type": "stream",
          "text": [
            "precision: 0.9529269764634882, recall: 0.9949590422180214, f1-score: 0.9725251828365269\n"
          ],
          "name": "stdout"
        }
      ]
    },
    {
      "cell_type": "code",
      "metadata": {
        "colab": {
          "base_uri": "https://localhost:8080/"
        },
        "id": "ryhbcOEpULrN",
        "outputId": "5988356b-e445-455a-8443-12dd1239c9b0"
      },
      "source": [
        "i = accuracy_interval(f1)\n",
        "accuracy[\"XGBoost\"] = i\n",
        "print(i)"
      ],
      "execution_count": null,
      "outputs": [
        {
          "output_type": "stream",
          "text": [
            "(0.9661979926867046, 0.9776953657350049)\n"
          ],
          "name": "stdout"
        }
      ]
    },
    {
      "cell_type": "code",
      "metadata": {
        "colab": {
          "base_uri": "https://localhost:8080/"
        },
        "id": "vBNe-pKkUP5j",
        "outputId": "3fa0ce51-9165-4c4e-f91b-0bc244cb198a"
      },
      "source": [
        "xgboost_mse = mean_squared_error(y_val, y_pred)\n",
        "print('MSE: {}'.format(decisiontree_mse))"
      ],
      "execution_count": null,
      "outputs": [
        {
          "output_type": "stream",
          "text": [
            "MSE: 0.05264837268666241\n"
          ],
          "name": "stdout"
        }
      ]
    },
    {
      "cell_type": "markdown",
      "metadata": {
        "id": "n9aGBM1ebfyy"
      },
      "source": [
        "##Model comparison"
      ]
    },
    {
      "cell_type": "markdown",
      "metadata": {
        "id": "gOMM8jHbEqPR"
      },
      "source": [
        "Prendiamo una confidenza del 95%, di conseguenza dalla tabella della distribuzione z otteniamo 1.96 come valore per `z` "
      ]
    },
    {
      "cell_type": "markdown",
      "metadata": {
        "id": "y9b8FBVIFVg4"
      },
      "source": [
        "La seguente funzione implementa il confronto fra due modelli dati i rispettivi errori `e1` ed `e2` e la cardinalità del test set `n` secondo le formule :\n",
        "\n",
        "$$ d = |e_1 - e_2| $$\n",
        "\n",
        "$$ \\sigma_t^2 = \\sigma_1^2 + \\sigma_2^2 = \\frac{e_1(1-e_1)}{n}  + \\frac{e_2(1-e_2)}{n}$$\n",
        "\n",
        "$$d_t = d \\pm z_{1-\\alpha} \\cdot \\sigma_t$$"
      ]
    },
    {
      "cell_type": "code",
      "metadata": {
        "id": "cXf-LLmX0veh"
      },
      "source": [
        "def intervallo(mse1, mse2):\n",
        "  d = np.abs(mse1 - mse2)\n",
        "  variance = (mse1 * (1 - mse1)) / len(X_val) + (mse2 * (1 - mse2)) / len(X_val)\n",
        "  d_min = d - 1.96 * np.sqrt(variance)\n",
        "  d_max = d + 1.96 * np.sqrt(variance)\n",
        "  return d_min, d_max"
      ],
      "execution_count": null,
      "outputs": []
    },
    {
      "cell_type": "markdown",
      "metadata": {
        "id": "kQXPlulfmn20"
      },
      "source": [
        "Andiamo a calcolare l'intervallo fra tutte le coppie di modelli"
      ]
    },
    {
      "cell_type": "code",
      "metadata": {
        "colab": {
          "base_uri": "https://localhost:8080/"
        },
        "id": "_VuoPBEljaWT",
        "outputId": "23235c15-4c26-498a-ab6e-7282f0f1cfed"
      },
      "source": [
        "from itertools import combinations\n",
        "mse = [(\"perceptron_mse\", \"Perceptron\"), (\"logisticregression_mse\",\"Logistic Regression\"),\n",
        "       (\"svm_mse\", \"SVM\"), (\"decisiontree_mse\", \"Decision Tree\"), (\"xgboost_mse\", \"XGBoost\")]\n",
        "\n",
        "print (f\"{'Models':<40} {'Interval':<15}\")\n",
        "for m1, m2 in list(combinations(mse, 2)):\n",
        "  mse1, mse2 = eval(m1[0]), eval(m2[0])\n",
        "  name1, name2 = m1[1], m2[1]\n",
        "  comparison = name1 + \" vs \" + name2\n",
        "  print (f\"{comparison:<40} {np.round(intervallo(mse1 , mse2), 4)} \")"
      ],
      "execution_count": null,
      "outputs": [
        {
          "output_type": "stream",
          "text": [
            "Models                                   Interval       \n",
            "Perceptron vs Logistic Regression        [0.0599 0.1029] \n",
            "Perceptron vs SVM                        [0.2096 0.2461] \n",
            "Perceptron vs Decision Tree              [0.2254 0.2609] \n",
            "Perceptron vs XGBoost                    [0.2514 0.2853] \n",
            "Logistic Regression vs SVM               [0.1296 0.1633] \n",
            "Logistic Regression vs Decision Tree     [0.1454 0.1781] \n",
            "Logistic Regression vs XGBoost           [0.1715 0.2024] \n",
            "SVM vs Decision Tree                     [0.0035 0.0271] \n",
            "SVM vs XGBoost                           [0.03  0.051] \n",
            "Decision Tree vs XGBoost                 [0.0155 0.0349] \n"
          ],
          "name": "stdout"
        }
      ]
    },
    {
      "cell_type": "markdown",
      "metadata": {
        "id": "tafqgBIUwbLg"
      },
      "source": [
        "###Confronto con un modello casuale"
      ]
    },
    {
      "cell_type": "markdown",
      "metadata": {
        "id": "dD0nSQw-oRNM"
      },
      "source": [
        "La seguente funzione calcola, come la precedente, l'intervallo per il confronto fra due modelli ma utilizza una confidenza al 99% invece del 95%"
      ]
    },
    {
      "cell_type": "code",
      "metadata": {
        "id": "fi1LaALw3pF6"
      },
      "source": [
        "def intervallo99(mse1, mse2):\n",
        "  d = np.abs(mse1 - mse2)\n",
        "  variance = (mse1 * (1 - mse1)) / len(X_val) + (mse2 * (1 - mse2)) / len(X_val)\n",
        "  d_min = d - 2.58 * np.sqrt(variance)\n",
        "  d_max = d + 2.58 * np.sqrt(variance)\n",
        "  return d_min, d_max"
      ],
      "execution_count": null,
      "outputs": []
    },
    {
      "cell_type": "code",
      "metadata": {
        "colab": {
          "base_uri": "https://localhost:8080/"
        },
        "id": "XK5eO8EgwdWy",
        "outputId": "63e5f4ff-b4ad-4867-a16a-2a055af4bfb4"
      },
      "source": [
        "random = DummyClassifier(strategy=\"uniform\", random_state=42)\n",
        "random.fit(X_train_S, y_train)\n",
        "y_pred = random.predict(X_val_S)\n",
        "print(random.score(X_val_S, y_val))"
      ],
      "execution_count": null,
      "outputs": [
        {
          "output_type": "stream",
          "text": [
            "0.5028717294192725\n"
          ],
          "name": "stdout"
        }
      ]
    },
    {
      "cell_type": "code",
      "metadata": {
        "colab": {
          "base_uri": "https://localhost:8080/"
        },
        "id": "io16GmDOwv8v",
        "outputId": "8db6ba8d-46b8-44fa-ef17-a4e564f29483"
      },
      "source": [
        "mse_random = mean_squared_error(y_val, y_pred)\n",
        "print(mse_random)"
      ],
      "execution_count": null,
      "outputs": [
        {
          "output_type": "stream",
          "text": [
            "0.4971282705807275\n"
          ],
          "name": "stdout"
        }
      ]
    },
    {
      "cell_type": "code",
      "metadata": {
        "colab": {
          "base_uri": "https://localhost:8080/"
        },
        "id": "wnWpv2DGnmhC",
        "outputId": "ef181dc0-852b-45cc-8db0-01010c075c0b"
      },
      "source": [
        "print (f\"{'Models':<40} Interval\")\n",
        "for m in mse:\n",
        "  mse_i = eval(m[0])\n",
        "  name_i = m[1]\n",
        "  comparison = name_i + \" vs Random\"\n",
        "  print (f\"{comparison:<40} {np.round(intervallo99(mse_i , mse_random), 4)} \")"
      ],
      "execution_count": null,
      "outputs": [
        {
          "output_type": "stream",
          "text": [
            "Models                                   Interval\n",
            "Perceptron vs Random                     [0.1701 0.2325] \n",
            "Logistic Regression vs Random            [0.2529 0.3125] \n",
            "SVM vs Random                            [0.4034 0.455 ] \n",
            "Decision Tree vs Random                  [0.4192 0.4697] \n",
            "XGBoost vs Random                        [0.4454 0.4939] \n"
          ],
          "name": "stdout"
        }
      ]
    },
    {
      "cell_type": "markdown",
      "metadata": {
        "id": "WkN9YQ-c3giu"
      },
      "source": [
        "Possiamo vedere come la differenza fra tutti i modelli e uno random sia sempre statisticamente significativa quindi i modelli implementati sono tutti accettabili "
      ]
    },
    {
      "cell_type": "markdown",
      "metadata": {
        "id": "O3WPwUOmIejk"
      },
      "source": [
        "##Conclusioni"
      ]
    },
    {
      "cell_type": "markdown",
      "metadata": {
        "id": "5c03LctwIrGh"
      },
      "source": [
        "Dalla precedente sezione *Model Comparison* possiamo vedere che fra tutti i modelli la differenza è stasticamente significativa."
      ]
    },
    {
      "cell_type": "markdown",
      "metadata": {
        "id": "fyrF9rCQIsVr"
      },
      "source": [
        "Riassunto dei vari f1-score:"
      ]
    },
    {
      "cell_type": "code",
      "metadata": {
        "colab": {
          "base_uri": "https://localhost:8080/"
        },
        "id": "Jtil616UKPFu",
        "outputId": "e9a69c24-9d3b-4c2e-dc18-d5b1098107d2"
      },
      "source": [
        "print (f\"{'Model':<40} f-1 score\")\n",
        "for k in accuracy.keys():\n",
        "    print(f\"{k:<40} {accuracy[k]}\")"
      ],
      "execution_count": null,
      "outputs": [
        {
          "output_type": "stream",
          "text": [
            "Model                                    f-1 score\n",
            "Perceptron                               (0.7272233895743632, 0.7578158699190923)\n",
            "Perceptron with gs                       (0.6824245758139634, 0.7145357180312187)\n",
            "Logistic Regression                      (0.7708237261516696, 0.7995551538494866)\n",
            "Logistic regression with gs              (0.7708198831199977, 0.799551493408019)\n",
            "Support Vector Machines                  (0.922517148384615, 0.9401805636418334)\n",
            "Decision tree                            (0.93891875760922, 0.9545924054167753)\n",
            "XGBoost                                  (0.9661979926867046, 0.9776953657350049)\n"
          ],
          "name": "stdout"
        }
      ]
    },
    {
      "cell_type": "markdown",
      "metadata": {
        "id": "Ukfx4T0eqEsU"
      },
      "source": [
        "Visti i risultati ottenuti per l'indice *f1-score* per i vari modelli si può dire che i migliori sono:\n",
        "- SVM con kernel RBF non lineare\n",
        "- Decision tree\n",
        "- XGBoost\n",
        "\n",
        "Questo probabilmente è dovuto al fatto che inizialmente la correlazione fra le 11 feature di input è abbastanza bassa quindi usando modelli non lineari andiamo a separare meglio i dati.\n",
        "\n",
        "Questo lo si può notare anche dal fatto che se implementiamo un modello SVM con kernel lineare otteniamo un f-1 score molto più basso (come si vede nell'esempio di seguito) "
      ]
    },
    {
      "cell_type": "code",
      "metadata": {
        "colab": {
          "base_uri": "https://localhost:8080/"
        },
        "id": "PlbsOITDHPcJ",
        "outputId": "ff584367-9539-4c46-b646-3cfdf684fb73"
      },
      "source": [
        "model = SVC()\n",
        "parameters = {\n",
        "    \"kernel\": [\"linear\"],\n",
        "    \"C\": np.logspace(-2, 0, 3)\n",
        "}\n",
        "\n",
        "skf = StratifiedKFold(3, shuffle=True, random_state=42)\n",
        "gs = GridSearchCV(model, parameters, cv=skf)\n",
        "\n",
        "gs.fit(X_train_S, y_train)"
      ],
      "execution_count": null,
      "outputs": [
        {
          "output_type": "execute_result",
          "data": {
            "text/plain": [
              "GridSearchCV(cv=StratifiedKFold(n_splits=3, random_state=42, shuffle=True),\n",
              "             error_score=nan,\n",
              "             estimator=SVC(C=1.0, break_ties=False, cache_size=200,\n",
              "                           class_weight=None, coef0=0.0,\n",
              "                           decision_function_shape='ovr', degree=3,\n",
              "                           gamma='scale', kernel='rbf', max_iter=-1,\n",
              "                           probability=False, random_state=None, shrinking=True,\n",
              "                           tol=0.001, verbose=False),\n",
              "             iid='deprecated', n_jobs=None,\n",
              "             param_grid={'C': array([0.01, 0.1 , 1.  ]), 'kernel': ['linear']},\n",
              "             pre_dispatch='2*n_jobs', refit=True, return_train_score=False,\n",
              "             scoring=None, verbose=0)"
            ]
          },
          "metadata": {
            "tags": []
          },
          "execution_count": 271
        }
      ]
    },
    {
      "cell_type": "code",
      "metadata": {
        "colab": {
          "base_uri": "https://localhost:8080/",
          "height": 111
        },
        "id": "cH9ohIAvHXTh",
        "outputId": "939ef5da-5ae6-4d20-938a-6ce2e02d3ef1"
      },
      "source": [
        "y_pred = gs.predict(X_val_S)\n",
        "cm = confusion_matrix(y_val, y_pred)\n",
        "pd.DataFrame(cm, index=gs.best_estimator_.classes_, columns=gs.best_estimator_.classes_)"
      ],
      "execution_count": null,
      "outputs": [
        {
          "output_type": "execute_result",
          "data": {
            "text/html": [
              "<div>\n",
              "<style scoped>\n",
              "    .dataframe tbody tr th:only-of-type {\n",
              "        vertical-align: middle;\n",
              "    }\n",
              "\n",
              "    .dataframe tbody tr th {\n",
              "        vertical-align: top;\n",
              "    }\n",
              "\n",
              "    .dataframe thead th {\n",
              "        text-align: right;\n",
              "    }\n",
              "</style>\n",
              "<table border=\"1\" class=\"dataframe\">\n",
              "  <thead>\n",
              "    <tr style=\"text-align: right;\">\n",
              "      <th></th>\n",
              "      <th>0</th>\n",
              "      <th>1</th>\n",
              "    </tr>\n",
              "  </thead>\n",
              "  <tbody>\n",
              "    <tr>\n",
              "      <th>0</th>\n",
              "      <td>1183</td>\n",
              "      <td>404</td>\n",
              "    </tr>\n",
              "    <tr>\n",
              "      <th>1</th>\n",
              "      <td>272</td>\n",
              "      <td>1275</td>\n",
              "    </tr>\n",
              "  </tbody>\n",
              "</table>\n",
              "</div>"
            ],
            "text/plain": [
              "      0     1\n",
              "0  1183   404\n",
              "1   272  1275"
            ]
          },
          "metadata": {
            "tags": []
          },
          "execution_count": 272
        }
      ]
    },
    {
      "cell_type": "code",
      "metadata": {
        "colab": {
          "base_uri": "https://localhost:8080/"
        },
        "id": "_a0IB1c-VvMA",
        "outputId": "680e0346-c448-48a7-bb2c-75f74094f21b"
      },
      "source": [
        "X_val.shape"
      ],
      "execution_count": null,
      "outputs": [
        {
          "output_type": "execute_result",
          "data": {
            "text/plain": [
              "(3134, 20)"
            ]
          },
          "metadata": {
            "tags": []
          },
          "execution_count": 273
        }
      ]
    },
    {
      "cell_type": "code",
      "metadata": {
        "colab": {
          "base_uri": "https://localhost:8080/"
        },
        "id": "gSpvmKnRHYzz",
        "outputId": "110a6f75-0a34-42d1-ef24-3d9a71e58b41"
      },
      "source": [
        "precision = precision_score(y_val, y_pred, pos_label=0)\n",
        "recall = recall_score(y_val, y_pred, pos_label=0)\n",
        "f1 = f1_score(y_val, y_pred, average=\"macro\")\n",
        "print(f\"precision: {precision}, recall: {recall}, f1-score: {f1}\")"
      ],
      "execution_count": null,
      "outputs": [
        {
          "output_type": "stream",
          "text": [
            "precision: 0.8130584192439863, recall: 0.7454316320100819, f1-score: 0.7841151753117035\n"
          ],
          "name": "stdout"
        }
      ]
    }
  ]
}