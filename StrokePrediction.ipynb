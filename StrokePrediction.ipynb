{
  "nbformat": 4,
  "nbformat_minor": 0,
  "metadata": {
    "colab": {
      "name": "StrokePrediction.ipynb",
      "provenance": [],
      "collapsed_sections": [],
      "toc_visible": true,
      "authorship_tag": "ABX9TyPR+zokqVJ1SdhPYIWeBXgv",
      "include_colab_link": true
    },
    "kernelspec": {
      "name": "python3",
      "display_name": "Python 3"
    },
    "language_info": {
      "name": "python"
    }
  },
  "cells": [
    {
      "cell_type": "markdown",
      "metadata": {
        "id": "view-in-github",
        "colab_type": "text"
      },
      "source": [
        "<a href=\"https://colab.research.google.com/github/davidedomini/stroke_predictions/blob/main/StrokePrediction.ipynb\" target=\"_parent\"><img src=\"https://colab.research.google.com/assets/colab-badge.svg\" alt=\"Open In Colab\"/></a>"
      ]
    },
    {
      "cell_type": "markdown",
      "metadata": {
        "id": "sJccl1lvU5jy"
      },
      "source": [
        "# Stroke Prediction\n",
        "\n",
        "**Davide Domini** <br> \n",
        "davide.domini@studio.unibo.it<br> <br>\n",
        "Programmazione di applicazioni data intensive <br>\n",
        "Laurea in Ingegneria e Scienze Informatiche  \n",
        "DISI - Università di Bologna, Cesena\n",
        "\n",
        "\n"
      ]
    },
    {
      "cell_type": "markdown",
      "metadata": {
        "id": "yyWprJtbWWE9"
      },
      "source": [
        "Citazioni: \n",
        "*   Stroke Preditction Dataset https://www.kaggle.com/fedesoriano/stroke-prediction-dataset\n",
        "\n",
        "\n",
        "\n",
        "\n"
      ]
    },
    {
      "cell_type": "markdown",
      "metadata": {
        "id": "n5iHvB6fYZRM"
      },
      "source": [
        "##Descrizione del problema e comprensione dei dati"
      ]
    },
    {
      "cell_type": "markdown",
      "metadata": {
        "id": "e12KrgYeYr8m"
      },
      "source": [
        "*In questo progetto si vuole realizzare un modello in grado di predire la presenza o meno di un ictus in base ad alcune caratteristiche fisiche e di stile di vita di alcuni pazienti*"
      ]
    },
    {
      "cell_type": "markdown",
      "metadata": {
        "id": "h96nkZHrZhzN"
      },
      "source": [
        "Vengono importate le librerie necessarie\n",
        "- **NumPy** per lavorare agilmente con l'algebra lineare\n",
        "- **Pandas** per gestire meglio i dati in formato tabellare\n",
        "- **Seaborn** per disegnare i grafici (basata su **matplotlib**)\n",
        "- **Urllib** per recuperare il dataset dalla repo github\n",
        "- **Sklearn** per avere i modelli di classificazione\n",
        "- **Imblearn** per applicare l'oversampling alla classe meno numerosa"
      ]
    },
    {
      "cell_type": "code",
      "metadata": {
        "id": "YRpGEfA9XTbr"
      },
      "source": [
        "import numpy as np\n",
        "import pandas as pd \n",
        "import matplotlib.pyplot as plt\n",
        "import seaborn as sb\n",
        "import os.path\n",
        "import math\n",
        "from urllib.request import urlretrieve\n",
        "from imblearn.over_sampling import SMOTE\n",
        "from sklearn.linear_model import Perceptron\n",
        "from sklearn.preprocessing import StandardScaler\n",
        "from sklearn.pipeline import Pipeline\n",
        "from sklearn.model_selection import train_test_split\n",
        "from sklearn.preprocessing import StandardScaler\n",
        "from sklearn.metrics import confusion_matrix\n",
        "from sklearn.metrics import precision_score, recall_score, f1_score\n",
        "from sklearn.model_selection import KFold, StratifiedKFold\n",
        "from sklearn.model_selection import GridSearchCV\n",
        "from sklearn.metrics import mean_squared_error\n",
        "from sklearn.linear_model import LogisticRegression\n",
        "from sklearn.svm import SVC\n",
        "from sklearn.tree import DecisionTreeClassifier\n",
        "import graphviz\n",
        "from sklearn import tree\n",
        "from sklearn.dummy import DummyClassifier\n",
        "from xgboost import XGBClassifier\n",
        "%matplotlib inline"
      ],
      "execution_count": 96,
      "outputs": []
    },
    {
      "cell_type": "markdown",
      "metadata": {
        "id": "U62onaFtaA_E"
      },
      "source": [
        "###Caricamento dei dati e preprocessing\n",
        "\n",
        "Viene recuperato il file del dataset dalla repo GitHub"
      ]
    },
    {
      "cell_type": "code",
      "metadata": {
        "id": "CDd6hs9rXvdy"
      },
      "source": [
        "dataset_url = \"https://raw.githubusercontent.com/davidedomini/stroke_predictions/main/healthcare-dataset-stroke-data.csv\"\n",
        "\n",
        "if not os.path.exists(\"healthcare-dataset-stroke-data.csv\"):\n",
        "    urlretrieve(dataset_url, \"healthcare-dataset-stroke-data.csv\")"
      ],
      "execution_count": 97,
      "outputs": []
    },
    {
      "cell_type": "code",
      "metadata": {
        "colab": {
          "base_uri": "https://localhost:8080/",
          "height": 359
        },
        "id": "XvAK1w64age9",
        "outputId": "88e6cb11-d5ef-4b96-e648-cf2bc7a6bfbd"
      },
      "source": [
        "stroke_dataset = pd.read_csv(\"healthcare-dataset-stroke-data.csv\", sep=\",\")\n",
        "stroke_dataset.head(10)"
      ],
      "execution_count": 98,
      "outputs": [
        {
          "output_type": "execute_result",
          "data": {
            "text/html": [
              "<div>\n",
              "<style scoped>\n",
              "    .dataframe tbody tr th:only-of-type {\n",
              "        vertical-align: middle;\n",
              "    }\n",
              "\n",
              "    .dataframe tbody tr th {\n",
              "        vertical-align: top;\n",
              "    }\n",
              "\n",
              "    .dataframe thead th {\n",
              "        text-align: right;\n",
              "    }\n",
              "</style>\n",
              "<table border=\"1\" class=\"dataframe\">\n",
              "  <thead>\n",
              "    <tr style=\"text-align: right;\">\n",
              "      <th></th>\n",
              "      <th>id</th>\n",
              "      <th>gender</th>\n",
              "      <th>age</th>\n",
              "      <th>hypertension</th>\n",
              "      <th>heart_disease</th>\n",
              "      <th>ever_married</th>\n",
              "      <th>work_type</th>\n",
              "      <th>Residence_type</th>\n",
              "      <th>avg_glucose_level</th>\n",
              "      <th>bmi</th>\n",
              "      <th>smoking_status</th>\n",
              "      <th>stroke</th>\n",
              "    </tr>\n",
              "  </thead>\n",
              "  <tbody>\n",
              "    <tr>\n",
              "      <th>0</th>\n",
              "      <td>9046</td>\n",
              "      <td>Male</td>\n",
              "      <td>67.0</td>\n",
              "      <td>0</td>\n",
              "      <td>1</td>\n",
              "      <td>Yes</td>\n",
              "      <td>Private</td>\n",
              "      <td>Urban</td>\n",
              "      <td>228.69</td>\n",
              "      <td>36.6</td>\n",
              "      <td>formerly smoked</td>\n",
              "      <td>1</td>\n",
              "    </tr>\n",
              "    <tr>\n",
              "      <th>1</th>\n",
              "      <td>51676</td>\n",
              "      <td>Female</td>\n",
              "      <td>61.0</td>\n",
              "      <td>0</td>\n",
              "      <td>0</td>\n",
              "      <td>Yes</td>\n",
              "      <td>Self-employed</td>\n",
              "      <td>Rural</td>\n",
              "      <td>202.21</td>\n",
              "      <td>NaN</td>\n",
              "      <td>never smoked</td>\n",
              "      <td>1</td>\n",
              "    </tr>\n",
              "    <tr>\n",
              "      <th>2</th>\n",
              "      <td>31112</td>\n",
              "      <td>Male</td>\n",
              "      <td>80.0</td>\n",
              "      <td>0</td>\n",
              "      <td>1</td>\n",
              "      <td>Yes</td>\n",
              "      <td>Private</td>\n",
              "      <td>Rural</td>\n",
              "      <td>105.92</td>\n",
              "      <td>32.5</td>\n",
              "      <td>never smoked</td>\n",
              "      <td>1</td>\n",
              "    </tr>\n",
              "    <tr>\n",
              "      <th>3</th>\n",
              "      <td>60182</td>\n",
              "      <td>Female</td>\n",
              "      <td>49.0</td>\n",
              "      <td>0</td>\n",
              "      <td>0</td>\n",
              "      <td>Yes</td>\n",
              "      <td>Private</td>\n",
              "      <td>Urban</td>\n",
              "      <td>171.23</td>\n",
              "      <td>34.4</td>\n",
              "      <td>smokes</td>\n",
              "      <td>1</td>\n",
              "    </tr>\n",
              "    <tr>\n",
              "      <th>4</th>\n",
              "      <td>1665</td>\n",
              "      <td>Female</td>\n",
              "      <td>79.0</td>\n",
              "      <td>1</td>\n",
              "      <td>0</td>\n",
              "      <td>Yes</td>\n",
              "      <td>Self-employed</td>\n",
              "      <td>Rural</td>\n",
              "      <td>174.12</td>\n",
              "      <td>24.0</td>\n",
              "      <td>never smoked</td>\n",
              "      <td>1</td>\n",
              "    </tr>\n",
              "    <tr>\n",
              "      <th>5</th>\n",
              "      <td>56669</td>\n",
              "      <td>Male</td>\n",
              "      <td>81.0</td>\n",
              "      <td>0</td>\n",
              "      <td>0</td>\n",
              "      <td>Yes</td>\n",
              "      <td>Private</td>\n",
              "      <td>Urban</td>\n",
              "      <td>186.21</td>\n",
              "      <td>29.0</td>\n",
              "      <td>formerly smoked</td>\n",
              "      <td>1</td>\n",
              "    </tr>\n",
              "    <tr>\n",
              "      <th>6</th>\n",
              "      <td>53882</td>\n",
              "      <td>Male</td>\n",
              "      <td>74.0</td>\n",
              "      <td>1</td>\n",
              "      <td>1</td>\n",
              "      <td>Yes</td>\n",
              "      <td>Private</td>\n",
              "      <td>Rural</td>\n",
              "      <td>70.09</td>\n",
              "      <td>27.4</td>\n",
              "      <td>never smoked</td>\n",
              "      <td>1</td>\n",
              "    </tr>\n",
              "    <tr>\n",
              "      <th>7</th>\n",
              "      <td>10434</td>\n",
              "      <td>Female</td>\n",
              "      <td>69.0</td>\n",
              "      <td>0</td>\n",
              "      <td>0</td>\n",
              "      <td>No</td>\n",
              "      <td>Private</td>\n",
              "      <td>Urban</td>\n",
              "      <td>94.39</td>\n",
              "      <td>22.8</td>\n",
              "      <td>never smoked</td>\n",
              "      <td>1</td>\n",
              "    </tr>\n",
              "    <tr>\n",
              "      <th>8</th>\n",
              "      <td>27419</td>\n",
              "      <td>Female</td>\n",
              "      <td>59.0</td>\n",
              "      <td>0</td>\n",
              "      <td>0</td>\n",
              "      <td>Yes</td>\n",
              "      <td>Private</td>\n",
              "      <td>Rural</td>\n",
              "      <td>76.15</td>\n",
              "      <td>NaN</td>\n",
              "      <td>Unknown</td>\n",
              "      <td>1</td>\n",
              "    </tr>\n",
              "    <tr>\n",
              "      <th>9</th>\n",
              "      <td>60491</td>\n",
              "      <td>Female</td>\n",
              "      <td>78.0</td>\n",
              "      <td>0</td>\n",
              "      <td>0</td>\n",
              "      <td>Yes</td>\n",
              "      <td>Private</td>\n",
              "      <td>Urban</td>\n",
              "      <td>58.57</td>\n",
              "      <td>24.2</td>\n",
              "      <td>Unknown</td>\n",
              "      <td>1</td>\n",
              "    </tr>\n",
              "  </tbody>\n",
              "</table>\n",
              "</div>"
            ],
            "text/plain": [
              "      id  gender   age  ...   bmi   smoking_status stroke\n",
              "0   9046    Male  67.0  ...  36.6  formerly smoked      1\n",
              "1  51676  Female  61.0  ...   NaN     never smoked      1\n",
              "2  31112    Male  80.0  ...  32.5     never smoked      1\n",
              "3  60182  Female  49.0  ...  34.4           smokes      1\n",
              "4   1665  Female  79.0  ...  24.0     never smoked      1\n",
              "5  56669    Male  81.0  ...  29.0  formerly smoked      1\n",
              "6  53882    Male  74.0  ...  27.4     never smoked      1\n",
              "7  10434  Female  69.0  ...  22.8     never smoked      1\n",
              "8  27419  Female  59.0  ...   NaN          Unknown      1\n",
              "9  60491  Female  78.0  ...  24.2          Unknown      1\n",
              "\n",
              "[10 rows x 12 columns]"
            ]
          },
          "metadata": {
            "tags": []
          },
          "execution_count": 98
        }
      ]
    },
    {
      "cell_type": "markdown",
      "metadata": {
        "id": "WoWkZXzraoOC"
      },
      "source": [
        "Osservando il dataframe notiamo che il campo `id` è solo un identificatore univoco del paziente, non avendo nessuna importanza ai fini del modello lo impostiamo come index"
      ]
    },
    {
      "cell_type": "code",
      "metadata": {
        "colab": {
          "base_uri": "https://localhost:8080/",
          "height": 390
        },
        "id": "Y9MtX-Ula2d5",
        "outputId": "ed8c538b-6ae0-4a30-fba7-4b97a837ee8d"
      },
      "source": [
        "stroke_dataset.set_index(\"id\", inplace=True)\n",
        "stroke_dataset.head(10)"
      ],
      "execution_count": 99,
      "outputs": [
        {
          "output_type": "execute_result",
          "data": {
            "text/html": [
              "<div>\n",
              "<style scoped>\n",
              "    .dataframe tbody tr th:only-of-type {\n",
              "        vertical-align: middle;\n",
              "    }\n",
              "\n",
              "    .dataframe tbody tr th {\n",
              "        vertical-align: top;\n",
              "    }\n",
              "\n",
              "    .dataframe thead th {\n",
              "        text-align: right;\n",
              "    }\n",
              "</style>\n",
              "<table border=\"1\" class=\"dataframe\">\n",
              "  <thead>\n",
              "    <tr style=\"text-align: right;\">\n",
              "      <th></th>\n",
              "      <th>gender</th>\n",
              "      <th>age</th>\n",
              "      <th>hypertension</th>\n",
              "      <th>heart_disease</th>\n",
              "      <th>ever_married</th>\n",
              "      <th>work_type</th>\n",
              "      <th>Residence_type</th>\n",
              "      <th>avg_glucose_level</th>\n",
              "      <th>bmi</th>\n",
              "      <th>smoking_status</th>\n",
              "      <th>stroke</th>\n",
              "    </tr>\n",
              "    <tr>\n",
              "      <th>id</th>\n",
              "      <th></th>\n",
              "      <th></th>\n",
              "      <th></th>\n",
              "      <th></th>\n",
              "      <th></th>\n",
              "      <th></th>\n",
              "      <th></th>\n",
              "      <th></th>\n",
              "      <th></th>\n",
              "      <th></th>\n",
              "      <th></th>\n",
              "    </tr>\n",
              "  </thead>\n",
              "  <tbody>\n",
              "    <tr>\n",
              "      <th>9046</th>\n",
              "      <td>Male</td>\n",
              "      <td>67.0</td>\n",
              "      <td>0</td>\n",
              "      <td>1</td>\n",
              "      <td>Yes</td>\n",
              "      <td>Private</td>\n",
              "      <td>Urban</td>\n",
              "      <td>228.69</td>\n",
              "      <td>36.6</td>\n",
              "      <td>formerly smoked</td>\n",
              "      <td>1</td>\n",
              "    </tr>\n",
              "    <tr>\n",
              "      <th>51676</th>\n",
              "      <td>Female</td>\n",
              "      <td>61.0</td>\n",
              "      <td>0</td>\n",
              "      <td>0</td>\n",
              "      <td>Yes</td>\n",
              "      <td>Self-employed</td>\n",
              "      <td>Rural</td>\n",
              "      <td>202.21</td>\n",
              "      <td>NaN</td>\n",
              "      <td>never smoked</td>\n",
              "      <td>1</td>\n",
              "    </tr>\n",
              "    <tr>\n",
              "      <th>31112</th>\n",
              "      <td>Male</td>\n",
              "      <td>80.0</td>\n",
              "      <td>0</td>\n",
              "      <td>1</td>\n",
              "      <td>Yes</td>\n",
              "      <td>Private</td>\n",
              "      <td>Rural</td>\n",
              "      <td>105.92</td>\n",
              "      <td>32.5</td>\n",
              "      <td>never smoked</td>\n",
              "      <td>1</td>\n",
              "    </tr>\n",
              "    <tr>\n",
              "      <th>60182</th>\n",
              "      <td>Female</td>\n",
              "      <td>49.0</td>\n",
              "      <td>0</td>\n",
              "      <td>0</td>\n",
              "      <td>Yes</td>\n",
              "      <td>Private</td>\n",
              "      <td>Urban</td>\n",
              "      <td>171.23</td>\n",
              "      <td>34.4</td>\n",
              "      <td>smokes</td>\n",
              "      <td>1</td>\n",
              "    </tr>\n",
              "    <tr>\n",
              "      <th>1665</th>\n",
              "      <td>Female</td>\n",
              "      <td>79.0</td>\n",
              "      <td>1</td>\n",
              "      <td>0</td>\n",
              "      <td>Yes</td>\n",
              "      <td>Self-employed</td>\n",
              "      <td>Rural</td>\n",
              "      <td>174.12</td>\n",
              "      <td>24.0</td>\n",
              "      <td>never smoked</td>\n",
              "      <td>1</td>\n",
              "    </tr>\n",
              "    <tr>\n",
              "      <th>56669</th>\n",
              "      <td>Male</td>\n",
              "      <td>81.0</td>\n",
              "      <td>0</td>\n",
              "      <td>0</td>\n",
              "      <td>Yes</td>\n",
              "      <td>Private</td>\n",
              "      <td>Urban</td>\n",
              "      <td>186.21</td>\n",
              "      <td>29.0</td>\n",
              "      <td>formerly smoked</td>\n",
              "      <td>1</td>\n",
              "    </tr>\n",
              "    <tr>\n",
              "      <th>53882</th>\n",
              "      <td>Male</td>\n",
              "      <td>74.0</td>\n",
              "      <td>1</td>\n",
              "      <td>1</td>\n",
              "      <td>Yes</td>\n",
              "      <td>Private</td>\n",
              "      <td>Rural</td>\n",
              "      <td>70.09</td>\n",
              "      <td>27.4</td>\n",
              "      <td>never smoked</td>\n",
              "      <td>1</td>\n",
              "    </tr>\n",
              "    <tr>\n",
              "      <th>10434</th>\n",
              "      <td>Female</td>\n",
              "      <td>69.0</td>\n",
              "      <td>0</td>\n",
              "      <td>0</td>\n",
              "      <td>No</td>\n",
              "      <td>Private</td>\n",
              "      <td>Urban</td>\n",
              "      <td>94.39</td>\n",
              "      <td>22.8</td>\n",
              "      <td>never smoked</td>\n",
              "      <td>1</td>\n",
              "    </tr>\n",
              "    <tr>\n",
              "      <th>27419</th>\n",
              "      <td>Female</td>\n",
              "      <td>59.0</td>\n",
              "      <td>0</td>\n",
              "      <td>0</td>\n",
              "      <td>Yes</td>\n",
              "      <td>Private</td>\n",
              "      <td>Rural</td>\n",
              "      <td>76.15</td>\n",
              "      <td>NaN</td>\n",
              "      <td>Unknown</td>\n",
              "      <td>1</td>\n",
              "    </tr>\n",
              "    <tr>\n",
              "      <th>60491</th>\n",
              "      <td>Female</td>\n",
              "      <td>78.0</td>\n",
              "      <td>0</td>\n",
              "      <td>0</td>\n",
              "      <td>Yes</td>\n",
              "      <td>Private</td>\n",
              "      <td>Urban</td>\n",
              "      <td>58.57</td>\n",
              "      <td>24.2</td>\n",
              "      <td>Unknown</td>\n",
              "      <td>1</td>\n",
              "    </tr>\n",
              "  </tbody>\n",
              "</table>\n",
              "</div>"
            ],
            "text/plain": [
              "       gender   age  hypertension  ...   bmi   smoking_status stroke\n",
              "id                                 ...                              \n",
              "9046     Male  67.0             0  ...  36.6  formerly smoked      1\n",
              "51676  Female  61.0             0  ...   NaN     never smoked      1\n",
              "31112    Male  80.0             0  ...  32.5     never smoked      1\n",
              "60182  Female  49.0             0  ...  34.4           smokes      1\n",
              "1665   Female  79.0             1  ...  24.0     never smoked      1\n",
              "56669    Male  81.0             0  ...  29.0  formerly smoked      1\n",
              "53882    Male  74.0             1  ...  27.4     never smoked      1\n",
              "10434  Female  69.0             0  ...  22.8     never smoked      1\n",
              "27419  Female  59.0             0  ...   NaN          Unknown      1\n",
              "60491  Female  78.0             0  ...  24.2          Unknown      1\n",
              "\n",
              "[10 rows x 11 columns]"
            ]
          },
          "metadata": {
            "tags": []
          },
          "execution_count": 99
        }
      ]
    },
    {
      "cell_type": "markdown",
      "metadata": {
        "id": "_pFF4QYlbsPI"
      },
      "source": [
        "###Comprensione delle feature"
      ]
    },
    {
      "cell_type": "markdown",
      "metadata": {
        "id": "BBjtADbWbwvK"
      },
      "source": [
        "Descrizione:\n",
        "\n",
        "1. **id**: identificatore univoco del paziente\n",
        "2. **gender**: [Nominale] genere del paziente, può essere \"Male\", \"Female\" o \"Other\"\n",
        "3. **age**: [Intervallo] età del paziente\n",
        "4. **hypertension**: [Nominale] rappresenta la presenza di ipertensione nel paziente, assume valore 0 se non presente e valore 1 se presente\n",
        "5. **heart_disease**: [Nominale] rappresenta la presenza di cardiopatia nel paziente, assume valore 0 se non presente e valore 1 se presente\n",
        "6. **ever_married**: [Nominale] indica se il paziente è mai stato sposato, assume valore \"Yes\" o \"No\"\n",
        "7. **work_type**: [Nominale] indica il tipo di lavoro del paziente, assume valori \"children\", \"Govt_jov\", \"Never_Worked\", \"Private\" o \"Self-employed\"\n",
        "8. **Residence_type**: [Nominale] indica la zona di residenza del paziente, assume valori \"Rural\" o \"Urban\"\n",
        "9. **avg_glucose_level**: [Intervallo] indica il livello di glucosio medio nel sangue\n",
        "10. **bmi**: [Intervallo] indica l'indice di massa corporea, si calcola come: $$ \\frac{massa}{altezza^2} $$ \n",
        "11. **smoking_status**: [Nominale] indica le abitudini del paziente con il fumo, assume valori \"formerly smoked\", \"never smoked\", \"smokes\" o \"Unknown\"\n",
        "12. **stroke**: [Nominale] indica se il paziente ha avuto un ictus, assume valore 0 oppure 1\n",
        "\n",
        "$\\Rightarrow$ Siccome la variabile `stroke` da predire è discreta si tratta di un problema di classificazione (con due classi)\n"
      ]
    },
    {
      "cell_type": "markdown",
      "metadata": {
        "id": "uMzz0DT8l2oe"
      },
      "source": [
        "###Esplorazione delle singole feature"
      ]
    },
    {
      "cell_type": "code",
      "metadata": {
        "colab": {
          "base_uri": "https://localhost:8080/",
          "height": 297
        },
        "id": "CqViM8SDhk-a",
        "outputId": "89a8c295-3bac-42a6-d012-29fc0a7e8675"
      },
      "source": [
        "stroke_dataset.describe()"
      ],
      "execution_count": 100,
      "outputs": [
        {
          "output_type": "execute_result",
          "data": {
            "text/html": [
              "<div>\n",
              "<style scoped>\n",
              "    .dataframe tbody tr th:only-of-type {\n",
              "        vertical-align: middle;\n",
              "    }\n",
              "\n",
              "    .dataframe tbody tr th {\n",
              "        vertical-align: top;\n",
              "    }\n",
              "\n",
              "    .dataframe thead th {\n",
              "        text-align: right;\n",
              "    }\n",
              "</style>\n",
              "<table border=\"1\" class=\"dataframe\">\n",
              "  <thead>\n",
              "    <tr style=\"text-align: right;\">\n",
              "      <th></th>\n",
              "      <th>age</th>\n",
              "      <th>hypertension</th>\n",
              "      <th>heart_disease</th>\n",
              "      <th>avg_glucose_level</th>\n",
              "      <th>bmi</th>\n",
              "      <th>stroke</th>\n",
              "    </tr>\n",
              "  </thead>\n",
              "  <tbody>\n",
              "    <tr>\n",
              "      <th>count</th>\n",
              "      <td>5110.000000</td>\n",
              "      <td>5110.000000</td>\n",
              "      <td>5110.000000</td>\n",
              "      <td>5110.000000</td>\n",
              "      <td>4909.000000</td>\n",
              "      <td>5110.000000</td>\n",
              "    </tr>\n",
              "    <tr>\n",
              "      <th>mean</th>\n",
              "      <td>43.226614</td>\n",
              "      <td>0.097456</td>\n",
              "      <td>0.054012</td>\n",
              "      <td>106.147677</td>\n",
              "      <td>28.893237</td>\n",
              "      <td>0.048728</td>\n",
              "    </tr>\n",
              "    <tr>\n",
              "      <th>std</th>\n",
              "      <td>22.612647</td>\n",
              "      <td>0.296607</td>\n",
              "      <td>0.226063</td>\n",
              "      <td>45.283560</td>\n",
              "      <td>7.854067</td>\n",
              "      <td>0.215320</td>\n",
              "    </tr>\n",
              "    <tr>\n",
              "      <th>min</th>\n",
              "      <td>0.080000</td>\n",
              "      <td>0.000000</td>\n",
              "      <td>0.000000</td>\n",
              "      <td>55.120000</td>\n",
              "      <td>10.300000</td>\n",
              "      <td>0.000000</td>\n",
              "    </tr>\n",
              "    <tr>\n",
              "      <th>25%</th>\n",
              "      <td>25.000000</td>\n",
              "      <td>0.000000</td>\n",
              "      <td>0.000000</td>\n",
              "      <td>77.245000</td>\n",
              "      <td>23.500000</td>\n",
              "      <td>0.000000</td>\n",
              "    </tr>\n",
              "    <tr>\n",
              "      <th>50%</th>\n",
              "      <td>45.000000</td>\n",
              "      <td>0.000000</td>\n",
              "      <td>0.000000</td>\n",
              "      <td>91.885000</td>\n",
              "      <td>28.100000</td>\n",
              "      <td>0.000000</td>\n",
              "    </tr>\n",
              "    <tr>\n",
              "      <th>75%</th>\n",
              "      <td>61.000000</td>\n",
              "      <td>0.000000</td>\n",
              "      <td>0.000000</td>\n",
              "      <td>114.090000</td>\n",
              "      <td>33.100000</td>\n",
              "      <td>0.000000</td>\n",
              "    </tr>\n",
              "    <tr>\n",
              "      <th>max</th>\n",
              "      <td>82.000000</td>\n",
              "      <td>1.000000</td>\n",
              "      <td>1.000000</td>\n",
              "      <td>271.740000</td>\n",
              "      <td>97.600000</td>\n",
              "      <td>1.000000</td>\n",
              "    </tr>\n",
              "  </tbody>\n",
              "</table>\n",
              "</div>"
            ],
            "text/plain": [
              "               age  hypertension  ...          bmi       stroke\n",
              "count  5110.000000   5110.000000  ...  4909.000000  5110.000000\n",
              "mean     43.226614      0.097456  ...    28.893237     0.048728\n",
              "std      22.612647      0.296607  ...     7.854067     0.215320\n",
              "min       0.080000      0.000000  ...    10.300000     0.000000\n",
              "25%      25.000000      0.000000  ...    23.500000     0.000000\n",
              "50%      45.000000      0.000000  ...    28.100000     0.000000\n",
              "75%      61.000000      0.000000  ...    33.100000     0.000000\n",
              "max      82.000000      1.000000  ...    97.600000     1.000000\n",
              "\n",
              "[8 rows x 6 columns]"
            ]
          },
          "metadata": {
            "tags": []
          },
          "execution_count": 100
        }
      ]
    },
    {
      "cell_type": "markdown",
      "metadata": {
        "id": "fjaaqMIIh5nG"
      },
      "source": [
        "Con il metodo describe possiamo ottenere varie informazioni sulle feature presenti nel dataset:\n",
        "\n",
        "\n",
        "* L'età media dei pazienti è circa 43 anni, il più giovane ha meno di un anno mentre il più anziano ne ha 82, inoltre possiamo notare che comunque il 50% ha più di 45 anni\n",
        "* Il livello di glucosio medio nel sangue è circa 106, di solito questo valore dovrebbe stare nell'intervallo [70;100], dal 75-esimo percentile possiamo notare che circa il 25% dei pazienti ha livelli preoccupanti che denotano una probabile presenza di diabete\n",
        "* La media dei valori del BMI assume valore 28, leggermente troppo alto in quanto una persona con peso regolare dovrebbe stare nell'intervallo [18;25], inoltre abbiamo 10 come valore minimo e 97 come valore massimo il che indica che abbiamo alcuni casi di grave magrezza e grave obesità\n",
        "\n"
      ]
    },
    {
      "cell_type": "markdown",
      "metadata": {
        "id": "NYIjJdUuesgg"
      },
      "source": [
        "Inoltre dal riassunto precedente del dataframe possiamo notare che ci sono alcuni valori NaN quindi controlliamo meglio"
      ]
    },
    {
      "cell_type": "code",
      "metadata": {
        "colab": {
          "base_uri": "https://localhost:8080/"
        },
        "id": "L9E-p9TXe2qa",
        "outputId": "3d7d7aed-d7a3-435d-8738-77faeb17c3ea"
      },
      "source": [
        "stroke_dataset.isna().sum()"
      ],
      "execution_count": 101,
      "outputs": [
        {
          "output_type": "execute_result",
          "data": {
            "text/plain": [
              "gender                 0\n",
              "age                    0\n",
              "hypertension           0\n",
              "heart_disease          0\n",
              "ever_married           0\n",
              "work_type              0\n",
              "Residence_type         0\n",
              "avg_glucose_level      0\n",
              "bmi                  201\n",
              "smoking_status         0\n",
              "stroke                 0\n",
              "dtype: int64"
            ]
          },
          "metadata": {
            "tags": []
          },
          "execution_count": 101
        }
      ]
    },
    {
      "cell_type": "markdown",
      "metadata": {
        "id": "gz4Q1NXJe9W3"
      },
      "source": [
        "Vista la presenza di 201 valori mancanti nella colonna bmi procediamo alla rimozione"
      ]
    },
    {
      "cell_type": "code",
      "metadata": {
        "colab": {
          "base_uri": "https://localhost:8080/"
        },
        "id": "NY2NACvZfEtO",
        "outputId": "5603dd1a-e0d9-4dda-b66f-502538eb372a"
      },
      "source": [
        "stroke_dataset.dropna(inplace=True)\n",
        "stroke_dataset.isna().sum()"
      ],
      "execution_count": 102,
      "outputs": [
        {
          "output_type": "execute_result",
          "data": {
            "text/plain": [
              "gender               0\n",
              "age                  0\n",
              "hypertension         0\n",
              "heart_disease        0\n",
              "ever_married         0\n",
              "work_type            0\n",
              "Residence_type       0\n",
              "avg_glucose_level    0\n",
              "bmi                  0\n",
              "smoking_status       0\n",
              "stroke               0\n",
              "dtype: int64"
            ]
          },
          "metadata": {
            "tags": []
          },
          "execution_count": 102
        }
      ]
    },
    {
      "cell_type": "code",
      "metadata": {
        "colab": {
          "base_uri": "https://localhost:8080/",
          "height": 248
        },
        "id": "T2QD-YSbm2Dq",
        "outputId": "abcba341-ca40-47af-b235-102f1ad5d04e"
      },
      "source": [
        "stroke_dataset[\"stroke\"].value_counts().plot.pie(autopct=\"%.1f%%\");"
      ],
      "execution_count": 103,
      "outputs": [
        {
          "output_type": "display_data",
          "data": {
            "image/png": "[encoded data removed]",
            "text/plain": [
              "<Figure size 432x288 with 1 Axes>"
            ]
          },
          "metadata": {
            "tags": []
          }
        }
      ]
    },
    {
      "cell_type": "markdown",
      "metadata": {
        "id": "ZdCW3Swzn5d7"
      },
      "source": [
        "Dal grafico a torta della feature `stroke` notiamo che le due classi sono estremamente sbilanciate, questo protrebbe creare problemi in seguito quindi nelle prossime sezioni verranno applicate tecniche come dare un peso diverso alle due classi oppure under/over -sampling di una delle due classi"
      ]
    },
    {
      "cell_type": "code",
      "metadata": {
        "colab": {
          "base_uri": "https://localhost:8080/",
          "height": 369
        },
        "id": "-SFQNc28ULRY",
        "outputId": "6ebf148c-35e9-4c74-efa6-81bea194a7f3"
      },
      "source": [
        "sb.displot(stroke_dataset[\"avg_glucose_level\"]);"
      ],
      "execution_count": 104,
      "outputs": [
        {
          "output_type": "display_data",
          "data": {
            "image/png": "[encoded data removed]",
            "text/plain": [
              "<Figure size 360x360 with 1 Axes>"
            ]
          },
          "metadata": {
            "tags": [],
            "needs_background": "light"
          }
        }
      ]
    },
    {
      "cell_type": "code",
      "metadata": {
        "colab": {
          "base_uri": "https://localhost:8080/",
          "height": 369
        },
        "id": "no5fT6-kVYqL",
        "outputId": "f6723f42-a755-4b43-8f3e-d824342f2847"
      },
      "source": [
        "sb.displot(stroke_dataset[\"bmi\"]);"
      ],
      "execution_count": 105,
      "outputs": [
        {
          "output_type": "display_data",
          "data": {
            "image/png": "[encoded data removed]",
            "text/plain": [
              "<Figure size 360x360 with 1 Axes>"
            ]
          },
          "metadata": {
            "tags": [],
            "needs_background": "light"
          }
        }
      ]
    },
    {
      "cell_type": "markdown",
      "metadata": {
        "id": "wAX8xBJNVfar"
      },
      "source": [
        "Dai precedenti grafici per le distribuzioni delle feature `avg_glucose_level` e `bmi` osserviamo che:\n",
        "* Il livello medio di glucosio è molto concentrato nell'intervallo che va circa da 60 a 100\n",
        "* Il bmi è molto concentrato nell'intevallo [20;40]"
      ]
    },
    {
      "cell_type": "code",
      "metadata": {
        "colab": {
          "base_uri": "https://localhost:8080/",
          "height": 606
        },
        "id": "nZlvLNIiiWvC",
        "outputId": "c124466a-7714-45c2-a831-b3960e52d50e"
      },
      "source": [
        "plt.figure(figsize=(15,10))\n",
        "\n",
        "plt.subplot(1,2,1)\n",
        "sb.histplot(x=\"gender\", data=stroke_dataset);\n",
        "\n",
        "plt.subplot(1,2,2)\n",
        "sb.histplot(x=\"age\", data=stroke_dataset);"
      ],
      "execution_count": 106,
      "outputs": [
        {
          "output_type": "display_data",
          "data": {
            "image/png": "[encoded data removed]",
            "text/plain": [
              "<Figure size 1080x720 with 2 Axes>"
            ]
          },
          "metadata": {
            "tags": [],
            "needs_background": "light"
          }
        }
      ]
    },
    {
      "cell_type": "markdown",
      "metadata": {
        "id": "aUGFVGiWlLwn"
      },
      "source": [
        "Da questi istogrammi possiamo notare che:\n",
        "\n",
        "\n",
        "* I pazienti sono più donne che uomini\n",
        "* Il numero di pazienti ha due picchi intorno ai 40 anni e agli 80 anni\n",
        "\n"
      ]
    },
    {
      "cell_type": "code",
      "metadata": {
        "colab": {
          "base_uri": "https://localhost:8080/",
          "height": 607
        },
        "id": "6ND2Sr53jWAH",
        "outputId": "c5e73c5b-ac86-4fbb-cd05-bdfc6e1f972e"
      },
      "source": [
        "plt.figure(figsize=(20,10))\n",
        "\n",
        "plt.subplot(3,2,1)\n",
        "sb.countplot(x=\"hypertension\", data=stroke_dataset);\n",
        "\n",
        "plt.subplot(3,2,2)\n",
        "sb.countplot(x=\"ever_married\", data=stroke_dataset);\n",
        "\n",
        "plt.subplot(3,2,3)\n",
        "sb.countplot(x=\"smoking_status\", data=stroke_dataset);\n",
        "\n",
        "plt.subplot(3,2,4)\n",
        "sb.countplot(x=\"heart_disease\", data=stroke_dataset);\n",
        "\n",
        "plt.subplot(3,2,5)\n",
        "sb.countplot(x=\"Residence_type\", data=stroke_dataset);\n",
        "\n",
        "plt.subplot(3,2,6)\n",
        "sb.countplot(x=\"work_type\", data=stroke_dataset);\n"
      ],
      "execution_count": 107,
      "outputs": [
        {
          "output_type": "display_data",
          "data": {
            "image/png": "[encoded data removed]",
            "text/plain": [
              "<Figure size 1440x720 with 6 Axes>"
            ]
          },
          "metadata": {
            "tags": [],
            "needs_background": "light"
          }
        }
      ]
    },
    {
      "cell_type": "markdown",
      "metadata": {
        "id": "B7XmvMmnmjcy"
      },
      "source": [
        "Da questi altri grafici invece notiamo che:\n",
        "\n",
        "\n",
        "* Sono molti di più i pazienti senza ipertensione che quelli che ne soffrono\n",
        "* Abbiamo meno pazienti che non sono mai stati sposati\n",
        "* Molti dei pazienti non hanno mai fumato, però ce ne sono anche molti in cui abbiamo stato sconosciuto, quindi questo potrebbe andare a pareggiare i conti nella realtà\n",
        "* Pochi pazienti sono cardiopatici\n",
        "* La differenza fra chi abita in zone urbane e chi in zone rurali è pressochè nulla \n",
        "\n"
      ]
    },
    {
      "cell_type": "code",
      "metadata": {
        "colab": {
          "base_uri": "https://localhost:8080/",
          "height": 606
        },
        "id": "ArZJDQdAsYat",
        "outputId": "ec781ae9-f721-4052-e54e-f6aa79dd1c1d"
      },
      "source": [
        "plt.figure(figsize=(20,10))\n",
        "\n",
        "plt.subplot(2,2,1)\n",
        "sb.boxplot(x=\"age\", data=stroke_dataset);\n",
        "\n",
        "plt.subplot(2,2,2)\n",
        "sb.boxplot(x=\"bmi\", data=stroke_dataset);\n",
        "\n",
        "plt.subplot(2,2,3)\n",
        "sb.boxplot(x=\"avg_glucose_level\", data=stroke_dataset);"
      ],
      "execution_count": 108,
      "outputs": [
        {
          "output_type": "display_data",
          "data": {
            "image/png": "[encoded data removed]",
            "text/plain": [
              "<Figure size 1440x720 with 3 Axes>"
            ]
          },
          "metadata": {
            "tags": [],
            "needs_background": "light"
          }
        }
      ]
    },
    {
      "cell_type": "markdown",
      "metadata": {
        "id": "2CxoUvt0huNr"
      },
      "source": [
        "Da questi ultimi grafici possiamo notare che la feature `avg_glucose_level` sembra avere molti valori outlier, a primo impatto potremmo pensare di rimuoverne almeno una parte per non avere valori anomali quindi facciamo un'analisi più approfondita per decidere se è il caso di farlo o no"
      ]
    },
    {
      "cell_type": "code",
      "metadata": {
        "colab": {
          "base_uri": "https://localhost:8080/",
          "height": 369
        },
        "id": "T1S_VF9Ngxno",
        "outputId": "29ba9d7e-ce39-4514-f938-9459f101574c"
      },
      "source": [
        "sb.displot(x='avg_glucose_level', hue='stroke', data = stroke_dataset, palette=\"pastel\", multiple=\"stack\");"
      ],
      "execution_count": 109,
      "outputs": [
        {
          "output_type": "display_data",
          "data": {
            "image/png": "[encoded data removed]",
            "text/plain": [
              "<Figure size 402.375x360 with 1 Axes>"
            ]
          },
          "metadata": {
            "tags": [],
            "needs_background": "light"
          }
        }
      ]
    },
    {
      "cell_type": "code",
      "metadata": {
        "colab": {
          "base_uri": "https://localhost:8080/"
        },
        "id": "jD8tze2jifJL",
        "outputId": "72e05dab-1c10-49fa-dd68-701ada33de20"
      },
      "source": [
        "stroke_avg165 = stroke_dataset[stroke_dataset.avg_glucose_level >= 160].loc[:,\"stroke\"].sum()\n",
        "stroke_tot = stroke_dataset.loc[:,\"stroke\"].sum()\n",
        "stroke_perc = stroke_avg165 / stroke_tot\n",
        "print(f\"Abbiamo {stroke_tot} ictus totali, di cui {stroke_avg165} sono avvenuti in pazienti con un valore di glucosio medio nel sangue non nella norma, in percentuale sono quindi il {stroke_perc:.1%}\")"
      ],
      "execution_count": 110,
      "outputs": [
        {
          "output_type": "stream",
          "text": [
            "Abbiamo 209 ictus totali, di cui 76 sono avvenuti in pazienti con un valore di glucosio medio nel sangue non nella norma, in percentuale sono quindi il 36.4%\n"
          ],
          "name": "stdout"
        }
      ]
    },
    {
      "cell_type": "markdown",
      "metadata": {
        "id": "38fg_FgwkzBv"
      },
      "source": [
        "Da questa ulteriore analisi possiamo quindi osservare due cose:\n",
        "\n",
        "\n",
        "1.   Una buona fetta degli ictus totali è presente in persone con il livello medio di glucosio nel sangue non nella norma\n",
        "2.   Se consideriamo due frazioni distinte del dataset, nella prima sezione contenente i pazienti con un livello di glucosio medio inferiore a 160 abbiamo che i casi di ictus sono una piccola frazione dei casi totali mentre nella seconda sezione i casi con ictus sono una frazione molto più grande dei casi totali \n",
        "\n",
        "In virtù di questi risultati decidiamo di tenere anche i dati outlier per la feature `avg_glucose_level`\n",
        "\n",
        "\n"
      ]
    },
    {
      "cell_type": "markdown",
      "metadata": {
        "id": "LotYfgXbuAVW"
      },
      "source": [
        "###Esplorazione dei legami fra le feature"
      ]
    },
    {
      "cell_type": "code",
      "metadata": {
        "colab": {
          "base_uri": "https://localhost:8080/",
          "height": 369
        },
        "id": "viUx5rFyuK0y",
        "outputId": "69002e33-0fd4-4ee5-cc9e-22714fce7f1b"
      },
      "source": [
        "sb.displot(x='age', hue='stroke', data = stroke_dataset, palette=\"pastel\", multiple=\"stack\");"
      ],
      "execution_count": 111,
      "outputs": [
        {
          "output_type": "display_data",
          "data": {
            "image/png": "[encoded data removed]",
            "text/plain": [
              "<Figure size 402.375x360 with 1 Axes>"
            ]
          },
          "metadata": {
            "tags": [],
            "needs_background": "light"
          }
        }
      ]
    },
    {
      "cell_type": "markdown",
      "metadata": {
        "id": "mpOWcvApuUAO"
      },
      "source": [
        "Un primo legame interessante è quello fra età e presenza di ictus, possiamo notare come praticamente la totalità degli ictus si sia verificata in pazienti con più di 35-40 anni.\n",
        "In particolare abbiamo un picco nei pazienti più anziani intorno agli 80 anni"
      ]
    },
    {
      "cell_type": "code",
      "metadata": {
        "colab": {
          "base_uri": "https://localhost:8080/",
          "height": 866
        },
        "id": "fVInUZS30wKq",
        "outputId": "ae8d43f6-7958-4496-b458-2804024ce38e"
      },
      "source": [
        "plt.figure(figsize=(25,20))\n",
        "\n",
        "plt.subplot(4,2,1)\n",
        "sb.countplot(x='hypertension', hue='stroke', data = stroke_dataset, palette=\"pastel\");\n",
        "\n",
        "plt.subplot(4,2,2)\n",
        "sb.countplot(x='heart_disease', hue='stroke', data = stroke_dataset, palette=\"pastel\");\n",
        "\n",
        "plt.subplot(4,2,3)\n",
        "sb.countplot(x='ever_married', hue='stroke', data = stroke_dataset, palette=\"pastel\");\n",
        "\n",
        "plt.subplot(4,2,4)\n",
        "sb.countplot(x='work_type', hue='stroke', data = stroke_dataset, palette=\"pastel\");\n",
        "\n",
        "plt.subplot(4,2,5)\n",
        "sb.countplot(x='Residence_type', hue='stroke', data = stroke_dataset, palette=\"pastel\");\n",
        "\n",
        "plt.subplot(4,2,6)\n",
        "sb.countplot(x='smoking_status', hue='stroke', data = stroke_dataset, palette=\"pastel\");"
      ],
      "execution_count": 112,
      "outputs": [
        {
          "output_type": "display_data",
          "data": {
            "image/png": "[encoded data removed]",
            "text/plain": [
              "<Figure size 1800x1440 with 6 Axes>"
            ]
          },
          "metadata": {
            "tags": [],
            "needs_background": "light"
          }
        }
      ]
    },
    {
      "cell_type": "markdown",
      "metadata": {
        "id": "cOV0GB6-1xjs"
      },
      "source": [
        "Notiamo quindi che:\n",
        "\n",
        "\n",
        "*   Ipertensione e cardiopatia sembrano influire abbastanza sugli ictus\n",
        "*   Molti dei pazienti che hanno presentato ictus erano sposati\n",
        "*   La distribuzione rispetto alla zona di residenza è uniforme, circa metà e metà\n",
        "*   Abitudini scorrette con il fumo possono incidere sulla presenza di ictus\n",
        "*   La maggior parte dei pazienti con ictus lavorava nel settore privato o era un lavoratore autonomo\n",
        "\n",
        "\n"
      ]
    },
    {
      "cell_type": "code",
      "metadata": {
        "colab": {
          "base_uri": "https://localhost:8080/",
          "height": 538
        },
        "id": "s5HVYYVBSAiQ",
        "outputId": "3ef9309d-8e45-4967-9f85-a70f4497f068"
      },
      "source": [
        "corr_matrix = stroke_dataset.corr()\n",
        "mask = np.triu(np.ones_like(corr_matrix, dtype=bool))\n",
        "f, ax = plt.subplots(figsize=(11,9))\n",
        "cmap = sb.diverging_palette(230,20,as_cmap=True)\n",
        "sb.heatmap(corr_matrix, mask=mask, cmap=cmap, vmax=.3, center=0, square=True, linewidths=.5, cbar_kws={\"shrink\": .5});\n",
        "\n",
        "#credits: https://seaborn.pydata.org/examples/many_pairwise_correlations.html?highlight=correlation%20matrix"
      ],
      "execution_count": 113,
      "outputs": [
        {
          "output_type": "display_data",
          "data": {
            "image/png": "[encoded data removed]",
            "text/plain": [
              "<Figure size 792x648 with 2 Axes>"
            ]
          },
          "metadata": {
            "tags": [],
            "needs_background": "light"
          }
        }
      ]
    },
    {
      "cell_type": "markdown",
      "metadata": {
        "id": "ipIEq4uUTQi6"
      },
      "source": [
        "Da questa matrice di correlazione possiamo osservare che:\n",
        "\n",
        "\n",
        "*   L'età sembra influire in modo abbastanza uguale su tute le altre feature presenti \n",
        "*   Gli ictus sono correlati in modo più forte con l'età, in minor modo con ipertensione, cardiopatia e glucosio mentre molto meno con il bmi\n",
        "*   È probabile che chi ha un livello medio di glucosio nel sangue più alto abbia anche problemi di ipertensione e/o cardiopatia\n",
        "\n",
        "*Comunque i valori di correlazione non sono molto alti quindi probabilmente sarà necessario usare modelli con feature non lineari*\n",
        "\n"
      ]
    },
    {
      "cell_type": "markdown",
      "metadata": {
        "id": "C6SyvQ29WIed"
      },
      "source": [
        "##Feature Engineering"
      ]
    },
    {
      "cell_type": "markdown",
      "metadata": {
        "id": "jfKArvNOX5Uf"
      },
      "source": [
        "Andiamo ora a trasformare le varie feature categoriche, queste verranno splittate creando tante feature quanti sono i possibili valori che potevano assumere\n",
        "\n",
        "\n",
        "*   Ad esempio la feature `Residence_type` poteva assumere valori *Urban* o *Rural* quindi verranno create due nuove feature `Residence_type_Urban` e `Residence_type_Rural`, se una determinata istanza aveva valore Urban ora avrà valore 1 nella rispettiva feature e valore 0 nell'altra\n",
        "\n",
        "In egual modo vengono trasformate tutte le altre feature categoriche\n",
        "\n",
        "\n"
      ]
    },
    {
      "cell_type": "code",
      "metadata": {
        "id": "SwsRfqLFXPAl"
      },
      "source": [
        "categorical_features = [\"gender\", \"work_type\", \"Residence_type\", \"smoking_status\"]\n",
        "stroke_dataset = pd.get_dummies(stroke_dataset, columns=categorical_features, prefix=categorical_features)"
      ],
      "execution_count": 114,
      "outputs": []
    },
    {
      "cell_type": "code",
      "metadata": {
        "colab": {
          "base_uri": "https://localhost:8080/",
          "height": 427
        },
        "id": "O6QwDFydZPzn",
        "outputId": "1c90e2dc-e19e-4c5f-dc16-9fe859d80f6e"
      },
      "source": [
        "stroke_dataset.head(10)"
      ],
      "execution_count": 115,
      "outputs": [
        {
          "output_type": "execute_result",
          "data": {
            "text/html": [
              "<div>\n",
              "<style scoped>\n",
              "    .dataframe tbody tr th:only-of-type {\n",
              "        vertical-align: middle;\n",
              "    }\n",
              "\n",
              "    .dataframe tbody tr th {\n",
              "        vertical-align: top;\n",
              "    }\n",
              "\n",
              "    .dataframe thead th {\n",
              "        text-align: right;\n",
              "    }\n",
              "</style>\n",
              "<table border=\"1\" class=\"dataframe\">\n",
              "  <thead>\n",
              "    <tr style=\"text-align: right;\">\n",
              "      <th></th>\n",
              "      <th>age</th>\n",
              "      <th>hypertension</th>\n",
              "      <th>heart_disease</th>\n",
              "      <th>ever_married</th>\n",
              "      <th>avg_glucose_level</th>\n",
              "      <th>bmi</th>\n",
              "      <th>stroke</th>\n",
              "      <th>gender_Female</th>\n",
              "      <th>gender_Male</th>\n",
              "      <th>gender_Other</th>\n",
              "      <th>work_type_Govt_job</th>\n",
              "      <th>work_type_Never_worked</th>\n",
              "      <th>work_type_Private</th>\n",
              "      <th>work_type_Self-employed</th>\n",
              "      <th>work_type_children</th>\n",
              "      <th>Residence_type_Rural</th>\n",
              "      <th>Residence_type_Urban</th>\n",
              "      <th>smoking_status_Unknown</th>\n",
              "      <th>smoking_status_formerly smoked</th>\n",
              "      <th>smoking_status_never smoked</th>\n",
              "      <th>smoking_status_smokes</th>\n",
              "    </tr>\n",
              "    <tr>\n",
              "      <th>id</th>\n",
              "      <th></th>\n",
              "      <th></th>\n",
              "      <th></th>\n",
              "      <th></th>\n",
              "      <th></th>\n",
              "      <th></th>\n",
              "      <th></th>\n",
              "      <th></th>\n",
              "      <th></th>\n",
              "      <th></th>\n",
              "      <th></th>\n",
              "      <th></th>\n",
              "      <th></th>\n",
              "      <th></th>\n",
              "      <th></th>\n",
              "      <th></th>\n",
              "      <th></th>\n",
              "      <th></th>\n",
              "      <th></th>\n",
              "      <th></th>\n",
              "      <th></th>\n",
              "    </tr>\n",
              "  </thead>\n",
              "  <tbody>\n",
              "    <tr>\n",
              "      <th>9046</th>\n",
              "      <td>67.0</td>\n",
              "      <td>0</td>\n",
              "      <td>1</td>\n",
              "      <td>Yes</td>\n",
              "      <td>228.69</td>\n",
              "      <td>36.6</td>\n",
              "      <td>1</td>\n",
              "      <td>0</td>\n",
              "      <td>1</td>\n",
              "      <td>0</td>\n",
              "      <td>0</td>\n",
              "      <td>0</td>\n",
              "      <td>1</td>\n",
              "      <td>0</td>\n",
              "      <td>0</td>\n",
              "      <td>0</td>\n",
              "      <td>1</td>\n",
              "      <td>0</td>\n",
              "      <td>1</td>\n",
              "      <td>0</td>\n",
              "      <td>0</td>\n",
              "    </tr>\n",
              "    <tr>\n",
              "      <th>31112</th>\n",
              "      <td>80.0</td>\n",
              "      <td>0</td>\n",
              "      <td>1</td>\n",
              "      <td>Yes</td>\n",
              "      <td>105.92</td>\n",
              "      <td>32.5</td>\n",
              "      <td>1</td>\n",
              "      <td>0</td>\n",
              "      <td>1</td>\n",
              "      <td>0</td>\n",
              "      <td>0</td>\n",
              "      <td>0</td>\n",
              "      <td>1</td>\n",
              "      <td>0</td>\n",
              "      <td>0</td>\n",
              "      <td>1</td>\n",
              "      <td>0</td>\n",
              "      <td>0</td>\n",
              "      <td>0</td>\n",
              "      <td>1</td>\n",
              "      <td>0</td>\n",
              "    </tr>\n",
              "    <tr>\n",
              "      <th>60182</th>\n",
              "      <td>49.0</td>\n",
              "      <td>0</td>\n",
              "      <td>0</td>\n",
              "      <td>Yes</td>\n",
              "      <td>171.23</td>\n",
              "      <td>34.4</td>\n",
              "      <td>1</td>\n",
              "      <td>1</td>\n",
              "      <td>0</td>\n",
              "      <td>0</td>\n",
              "      <td>0</td>\n",
              "      <td>0</td>\n",
              "      <td>1</td>\n",
              "      <td>0</td>\n",
              "      <td>0</td>\n",
              "      <td>0</td>\n",
              "      <td>1</td>\n",
              "      <td>0</td>\n",
              "      <td>0</td>\n",
              "      <td>0</td>\n",
              "      <td>1</td>\n",
              "    </tr>\n",
              "    <tr>\n",
              "      <th>1665</th>\n",
              "      <td>79.0</td>\n",
              "      <td>1</td>\n",
              "      <td>0</td>\n",
              "      <td>Yes</td>\n",
              "      <td>174.12</td>\n",
              "      <td>24.0</td>\n",
              "      <td>1</td>\n",
              "      <td>1</td>\n",
              "      <td>0</td>\n",
              "      <td>0</td>\n",
              "      <td>0</td>\n",
              "      <td>0</td>\n",
              "      <td>0</td>\n",
              "      <td>1</td>\n",
              "      <td>0</td>\n",
              "      <td>1</td>\n",
              "      <td>0</td>\n",
              "      <td>0</td>\n",
              "      <td>0</td>\n",
              "      <td>1</td>\n",
              "      <td>0</td>\n",
              "    </tr>\n",
              "    <tr>\n",
              "      <th>56669</th>\n",
              "      <td>81.0</td>\n",
              "      <td>0</td>\n",
              "      <td>0</td>\n",
              "      <td>Yes</td>\n",
              "      <td>186.21</td>\n",
              "      <td>29.0</td>\n",
              "      <td>1</td>\n",
              "      <td>0</td>\n",
              "      <td>1</td>\n",
              "      <td>0</td>\n",
              "      <td>0</td>\n",
              "      <td>0</td>\n",
              "      <td>1</td>\n",
              "      <td>0</td>\n",
              "      <td>0</td>\n",
              "      <td>0</td>\n",
              "      <td>1</td>\n",
              "      <td>0</td>\n",
              "      <td>1</td>\n",
              "      <td>0</td>\n",
              "      <td>0</td>\n",
              "    </tr>\n",
              "    <tr>\n",
              "      <th>53882</th>\n",
              "      <td>74.0</td>\n",
              "      <td>1</td>\n",
              "      <td>1</td>\n",
              "      <td>Yes</td>\n",
              "      <td>70.09</td>\n",
              "      <td>27.4</td>\n",
              "      <td>1</td>\n",
              "      <td>0</td>\n",
              "      <td>1</td>\n",
              "      <td>0</td>\n",
              "      <td>0</td>\n",
              "      <td>0</td>\n",
              "      <td>1</td>\n",
              "      <td>0</td>\n",
              "      <td>0</td>\n",
              "      <td>1</td>\n",
              "      <td>0</td>\n",
              "      <td>0</td>\n",
              "      <td>0</td>\n",
              "      <td>1</td>\n",
              "      <td>0</td>\n",
              "    </tr>\n",
              "    <tr>\n",
              "      <th>10434</th>\n",
              "      <td>69.0</td>\n",
              "      <td>0</td>\n",
              "      <td>0</td>\n",
              "      <td>No</td>\n",
              "      <td>94.39</td>\n",
              "      <td>22.8</td>\n",
              "      <td>1</td>\n",
              "      <td>1</td>\n",
              "      <td>0</td>\n",
              "      <td>0</td>\n",
              "      <td>0</td>\n",
              "      <td>0</td>\n",
              "      <td>1</td>\n",
              "      <td>0</td>\n",
              "      <td>0</td>\n",
              "      <td>0</td>\n",
              "      <td>1</td>\n",
              "      <td>0</td>\n",
              "      <td>0</td>\n",
              "      <td>1</td>\n",
              "      <td>0</td>\n",
              "    </tr>\n",
              "    <tr>\n",
              "      <th>60491</th>\n",
              "      <td>78.0</td>\n",
              "      <td>0</td>\n",
              "      <td>0</td>\n",
              "      <td>Yes</td>\n",
              "      <td>58.57</td>\n",
              "      <td>24.2</td>\n",
              "      <td>1</td>\n",
              "      <td>1</td>\n",
              "      <td>0</td>\n",
              "      <td>0</td>\n",
              "      <td>0</td>\n",
              "      <td>0</td>\n",
              "      <td>1</td>\n",
              "      <td>0</td>\n",
              "      <td>0</td>\n",
              "      <td>0</td>\n",
              "      <td>1</td>\n",
              "      <td>1</td>\n",
              "      <td>0</td>\n",
              "      <td>0</td>\n",
              "      <td>0</td>\n",
              "    </tr>\n",
              "    <tr>\n",
              "      <th>12109</th>\n",
              "      <td>81.0</td>\n",
              "      <td>1</td>\n",
              "      <td>0</td>\n",
              "      <td>Yes</td>\n",
              "      <td>80.43</td>\n",
              "      <td>29.7</td>\n",
              "      <td>1</td>\n",
              "      <td>1</td>\n",
              "      <td>0</td>\n",
              "      <td>0</td>\n",
              "      <td>0</td>\n",
              "      <td>0</td>\n",
              "      <td>1</td>\n",
              "      <td>0</td>\n",
              "      <td>0</td>\n",
              "      <td>1</td>\n",
              "      <td>0</td>\n",
              "      <td>0</td>\n",
              "      <td>0</td>\n",
              "      <td>1</td>\n",
              "      <td>0</td>\n",
              "    </tr>\n",
              "    <tr>\n",
              "      <th>12095</th>\n",
              "      <td>61.0</td>\n",
              "      <td>0</td>\n",
              "      <td>1</td>\n",
              "      <td>Yes</td>\n",
              "      <td>120.46</td>\n",
              "      <td>36.8</td>\n",
              "      <td>1</td>\n",
              "      <td>1</td>\n",
              "      <td>0</td>\n",
              "      <td>0</td>\n",
              "      <td>1</td>\n",
              "      <td>0</td>\n",
              "      <td>0</td>\n",
              "      <td>0</td>\n",
              "      <td>0</td>\n",
              "      <td>1</td>\n",
              "      <td>0</td>\n",
              "      <td>0</td>\n",
              "      <td>0</td>\n",
              "      <td>0</td>\n",
              "      <td>1</td>\n",
              "    </tr>\n",
              "  </tbody>\n",
              "</table>\n",
              "</div>"
            ],
            "text/plain": [
              "        age  hypertension  ...  smoking_status_never smoked smoking_status_smokes\n",
              "id                         ...                                                   \n",
              "9046   67.0             0  ...                            0                     0\n",
              "31112  80.0             0  ...                            1                     0\n",
              "60182  49.0             0  ...                            0                     1\n",
              "1665   79.0             1  ...                            1                     0\n",
              "56669  81.0             0  ...                            0                     0\n",
              "53882  74.0             1  ...                            1                     0\n",
              "10434  69.0             0  ...                            1                     0\n",
              "60491  78.0             0  ...                            0                     0\n",
              "12109  81.0             1  ...                            1                     0\n",
              "12095  61.0             0  ...                            0                     1\n",
              "\n",
              "[10 rows x 21 columns]"
            ]
          },
          "metadata": {
            "tags": []
          },
          "execution_count": 115
        }
      ]
    },
    {
      "cell_type": "markdown",
      "metadata": {
        "id": "_yczoCkUZShQ"
      },
      "source": [
        "Un altro aspetto da considerare è che la feature `ever_married` assume valori *Yes* e *No*, quindi andremo a modificarla applicando la seguente trasformazione:\n",
        "* Yes = 1\n",
        "* No = 0"
      ]
    },
    {
      "cell_type": "code",
      "metadata": {
        "id": "hpUh-h50Zj3m"
      },
      "source": [
        "stroke_dataset[\"ever_married\"] = np.where(stroke_dataset[\"ever_married\"] == \"Yes\", 1, 0)"
      ],
      "execution_count": 116,
      "outputs": []
    },
    {
      "cell_type": "code",
      "metadata": {
        "id": "h04z_w0pauJg",
        "colab": {
          "base_uri": "https://localhost:8080/",
          "height": 427
        },
        "outputId": "0526ce90-abf3-4ad1-d51c-113ab197a871"
      },
      "source": [
        "stroke_dataset.head(10)"
      ],
      "execution_count": 117,
      "outputs": [
        {
          "output_type": "execute_result",
          "data": {
            "text/html": [
              "<div>\n",
              "<style scoped>\n",
              "    .dataframe tbody tr th:only-of-type {\n",
              "        vertical-align: middle;\n",
              "    }\n",
              "\n",
              "    .dataframe tbody tr th {\n",
              "        vertical-align: top;\n",
              "    }\n",
              "\n",
              "    .dataframe thead th {\n",
              "        text-align: right;\n",
              "    }\n",
              "</style>\n",
              "<table border=\"1\" class=\"dataframe\">\n",
              "  <thead>\n",
              "    <tr style=\"text-align: right;\">\n",
              "      <th></th>\n",
              "      <th>age</th>\n",
              "      <th>hypertension</th>\n",
              "      <th>heart_disease</th>\n",
              "      <th>ever_married</th>\n",
              "      <th>avg_glucose_level</th>\n",
              "      <th>bmi</th>\n",
              "      <th>stroke</th>\n",
              "      <th>gender_Female</th>\n",
              "      <th>gender_Male</th>\n",
              "      <th>gender_Other</th>\n",
              "      <th>work_type_Govt_job</th>\n",
              "      <th>work_type_Never_worked</th>\n",
              "      <th>work_type_Private</th>\n",
              "      <th>work_type_Self-employed</th>\n",
              "      <th>work_type_children</th>\n",
              "      <th>Residence_type_Rural</th>\n",
              "      <th>Residence_type_Urban</th>\n",
              "      <th>smoking_status_Unknown</th>\n",
              "      <th>smoking_status_formerly smoked</th>\n",
              "      <th>smoking_status_never smoked</th>\n",
              "      <th>smoking_status_smokes</th>\n",
              "    </tr>\n",
              "    <tr>\n",
              "      <th>id</th>\n",
              "      <th></th>\n",
              "      <th></th>\n",
              "      <th></th>\n",
              "      <th></th>\n",
              "      <th></th>\n",
              "      <th></th>\n",
              "      <th></th>\n",
              "      <th></th>\n",
              "      <th></th>\n",
              "      <th></th>\n",
              "      <th></th>\n",
              "      <th></th>\n",
              "      <th></th>\n",
              "      <th></th>\n",
              "      <th></th>\n",
              "      <th></th>\n",
              "      <th></th>\n",
              "      <th></th>\n",
              "      <th></th>\n",
              "      <th></th>\n",
              "      <th></th>\n",
              "    </tr>\n",
              "  </thead>\n",
              "  <tbody>\n",
              "    <tr>\n",
              "      <th>9046</th>\n",
              "      <td>67.0</td>\n",
              "      <td>0</td>\n",
              "      <td>1</td>\n",
              "      <td>1</td>\n",
              "      <td>228.69</td>\n",
              "      <td>36.6</td>\n",
              "      <td>1</td>\n",
              "      <td>0</td>\n",
              "      <td>1</td>\n",
              "      <td>0</td>\n",
              "      <td>0</td>\n",
              "      <td>0</td>\n",
              "      <td>1</td>\n",
              "      <td>0</td>\n",
              "      <td>0</td>\n",
              "      <td>0</td>\n",
              "      <td>1</td>\n",
              "      <td>0</td>\n",
              "      <td>1</td>\n",
              "      <td>0</td>\n",
              "      <td>0</td>\n",
              "    </tr>\n",
              "    <tr>\n",
              "      <th>31112</th>\n",
              "      <td>80.0</td>\n",
              "      <td>0</td>\n",
              "      <td>1</td>\n",
              "      <td>1</td>\n",
              "      <td>105.92</td>\n",
              "      <td>32.5</td>\n",
              "      <td>1</td>\n",
              "      <td>0</td>\n",
              "      <td>1</td>\n",
              "      <td>0</td>\n",
              "      <td>0</td>\n",
              "      <td>0</td>\n",
              "      <td>1</td>\n",
              "      <td>0</td>\n",
              "      <td>0</td>\n",
              "      <td>1</td>\n",
              "      <td>0</td>\n",
              "      <td>0</td>\n",
              "      <td>0</td>\n",
              "      <td>1</td>\n",
              "      <td>0</td>\n",
              "    </tr>\n",
              "    <tr>\n",
              "      <th>60182</th>\n",
              "      <td>49.0</td>\n",
              "      <td>0</td>\n",
              "      <td>0</td>\n",
              "      <td>1</td>\n",
              "      <td>171.23</td>\n",
              "      <td>34.4</td>\n",
              "      <td>1</td>\n",
              "      <td>1</td>\n",
              "      <td>0</td>\n",
              "      <td>0</td>\n",
              "      <td>0</td>\n",
              "      <td>0</td>\n",
              "      <td>1</td>\n",
              "      <td>0</td>\n",
              "      <td>0</td>\n",
              "      <td>0</td>\n",
              "      <td>1</td>\n",
              "      <td>0</td>\n",
              "      <td>0</td>\n",
              "      <td>0</td>\n",
              "      <td>1</td>\n",
              "    </tr>\n",
              "    <tr>\n",
              "      <th>1665</th>\n",
              "      <td>79.0</td>\n",
              "      <td>1</td>\n",
              "      <td>0</td>\n",
              "      <td>1</td>\n",
              "      <td>174.12</td>\n",
              "      <td>24.0</td>\n",
              "      <td>1</td>\n",
              "      <td>1</td>\n",
              "      <td>0</td>\n",
              "      <td>0</td>\n",
              "      <td>0</td>\n",
              "      <td>0</td>\n",
              "      <td>0</td>\n",
              "      <td>1</td>\n",
              "      <td>0</td>\n",
              "      <td>1</td>\n",
              "      <td>0</td>\n",
              "      <td>0</td>\n",
              "      <td>0</td>\n",
              "      <td>1</td>\n",
              "      <td>0</td>\n",
              "    </tr>\n",
              "    <tr>\n",
              "      <th>56669</th>\n",
              "      <td>81.0</td>\n",
              "      <td>0</td>\n",
              "      <td>0</td>\n",
              "      <td>1</td>\n",
              "      <td>186.21</td>\n",
              "      <td>29.0</td>\n",
              "      <td>1</td>\n",
              "      <td>0</td>\n",
              "      <td>1</td>\n",
              "      <td>0</td>\n",
              "      <td>0</td>\n",
              "      <td>0</td>\n",
              "      <td>1</td>\n",
              "      <td>0</td>\n",
              "      <td>0</td>\n",
              "      <td>0</td>\n",
              "      <td>1</td>\n",
              "      <td>0</td>\n",
              "      <td>1</td>\n",
              "      <td>0</td>\n",
              "      <td>0</td>\n",
              "    </tr>\n",
              "    <tr>\n",
              "      <th>53882</th>\n",
              "      <td>74.0</td>\n",
              "      <td>1</td>\n",
              "      <td>1</td>\n",
              "      <td>1</td>\n",
              "      <td>70.09</td>\n",
              "      <td>27.4</td>\n",
              "      <td>1</td>\n",
              "      <td>0</td>\n",
              "      <td>1</td>\n",
              "      <td>0</td>\n",
              "      <td>0</td>\n",
              "      <td>0</td>\n",
              "      <td>1</td>\n",
              "      <td>0</td>\n",
              "      <td>0</td>\n",
              "      <td>1</td>\n",
              "      <td>0</td>\n",
              "      <td>0</td>\n",
              "      <td>0</td>\n",
              "      <td>1</td>\n",
              "      <td>0</td>\n",
              "    </tr>\n",
              "    <tr>\n",
              "      <th>10434</th>\n",
              "      <td>69.0</td>\n",
              "      <td>0</td>\n",
              "      <td>0</td>\n",
              "      <td>0</td>\n",
              "      <td>94.39</td>\n",
              "      <td>22.8</td>\n",
              "      <td>1</td>\n",
              "      <td>1</td>\n",
              "      <td>0</td>\n",
              "      <td>0</td>\n",
              "      <td>0</td>\n",
              "      <td>0</td>\n",
              "      <td>1</td>\n",
              "      <td>0</td>\n",
              "      <td>0</td>\n",
              "      <td>0</td>\n",
              "      <td>1</td>\n",
              "      <td>0</td>\n",
              "      <td>0</td>\n",
              "      <td>1</td>\n",
              "      <td>0</td>\n",
              "    </tr>\n",
              "    <tr>\n",
              "      <th>60491</th>\n",
              "      <td>78.0</td>\n",
              "      <td>0</td>\n",
              "      <td>0</td>\n",
              "      <td>1</td>\n",
              "      <td>58.57</td>\n",
              "      <td>24.2</td>\n",
              "      <td>1</td>\n",
              "      <td>1</td>\n",
              "      <td>0</td>\n",
              "      <td>0</td>\n",
              "      <td>0</td>\n",
              "      <td>0</td>\n",
              "      <td>1</td>\n",
              "      <td>0</td>\n",
              "      <td>0</td>\n",
              "      <td>0</td>\n",
              "      <td>1</td>\n",
              "      <td>1</td>\n",
              "      <td>0</td>\n",
              "      <td>0</td>\n",
              "      <td>0</td>\n",
              "    </tr>\n",
              "    <tr>\n",
              "      <th>12109</th>\n",
              "      <td>81.0</td>\n",
              "      <td>1</td>\n",
              "      <td>0</td>\n",
              "      <td>1</td>\n",
              "      <td>80.43</td>\n",
              "      <td>29.7</td>\n",
              "      <td>1</td>\n",
              "      <td>1</td>\n",
              "      <td>0</td>\n",
              "      <td>0</td>\n",
              "      <td>0</td>\n",
              "      <td>0</td>\n",
              "      <td>1</td>\n",
              "      <td>0</td>\n",
              "      <td>0</td>\n",
              "      <td>1</td>\n",
              "      <td>0</td>\n",
              "      <td>0</td>\n",
              "      <td>0</td>\n",
              "      <td>1</td>\n",
              "      <td>0</td>\n",
              "    </tr>\n",
              "    <tr>\n",
              "      <th>12095</th>\n",
              "      <td>61.0</td>\n",
              "      <td>0</td>\n",
              "      <td>1</td>\n",
              "      <td>1</td>\n",
              "      <td>120.46</td>\n",
              "      <td>36.8</td>\n",
              "      <td>1</td>\n",
              "      <td>1</td>\n",
              "      <td>0</td>\n",
              "      <td>0</td>\n",
              "      <td>1</td>\n",
              "      <td>0</td>\n",
              "      <td>0</td>\n",
              "      <td>0</td>\n",
              "      <td>0</td>\n",
              "      <td>1</td>\n",
              "      <td>0</td>\n",
              "      <td>0</td>\n",
              "      <td>0</td>\n",
              "      <td>0</td>\n",
              "      <td>1</td>\n",
              "    </tr>\n",
              "  </tbody>\n",
              "</table>\n",
              "</div>"
            ],
            "text/plain": [
              "        age  hypertension  ...  smoking_status_never smoked  smoking_status_smokes\n",
              "id                         ...                                                    \n",
              "9046   67.0             0  ...                            0                      0\n",
              "31112  80.0             0  ...                            1                      0\n",
              "60182  49.0             0  ...                            0                      1\n",
              "1665   79.0             1  ...                            1                      0\n",
              "56669  81.0             0  ...                            0                      0\n",
              "53882  74.0             1  ...                            1                      0\n",
              "10434  69.0             0  ...                            1                      0\n",
              "60491  78.0             0  ...                            0                      0\n",
              "12109  81.0             1  ...                            1                      0\n",
              "12095  61.0             0  ...                            0                      1\n",
              "\n",
              "[10 rows x 21 columns]"
            ]
          },
          "metadata": {
            "tags": []
          },
          "execution_count": 117
        }
      ]
    },
    {
      "cell_type": "markdown",
      "metadata": {
        "id": "uuXScT43I4Rb"
      },
      "source": [
        "In questo modo abbiamo ottenuto tutte feature numeriche su cui possiamo lavorare agilmente"
      ]
    },
    {
      "cell_type": "markdown",
      "metadata": {
        "id": "VARNXETCrpIc"
      },
      "source": [
        "Applichiamo una tecnica di oversampling al dataset per ottenere un bilanciamento delle classi"
      ]
    },
    {
      "cell_type": "code",
      "metadata": {
        "colab": {
          "base_uri": "https://localhost:8080/"
        },
        "id": "t8XRsECEX6PO",
        "outputId": "781e4693-9ce7-420f-dd04-dc42a4941622"
      },
      "source": [
        "sm = SMOTE(random_state=42)\n",
        "y = stroke_dataset[\"stroke\"]\n",
        "X = stroke_dataset.drop(\"stroke\", axis=1)\n",
        "X_res, y_res = sm.fit_resample(X, y)"
      ],
      "execution_count": 118,
      "outputs": [
        {
          "output_type": "stream",
          "text": [
            "/usr/local/lib/python3.7/dist-packages/sklearn/utils/deprecation.py:87: FutureWarning: Function safe_indexing is deprecated; safe_indexing is deprecated in version 0.22 and will be removed in version 0.24.\n",
            "  warnings.warn(msg, category=FutureWarning)\n"
          ],
          "name": "stderr"
        }
      ]
    },
    {
      "cell_type": "markdown",
      "metadata": {
        "id": "2Z5Ob17QK6EZ"
      },
      "source": [
        "Dal seguente grafico notiamo che ora le classi sono bilanciate"
      ]
    },
    {
      "cell_type": "code",
      "metadata": {
        "colab": {
          "base_uri": "https://localhost:8080/",
          "height": 264
        },
        "id": "fHdsrY04KIyf",
        "outputId": "0d590639-4c5a-476d-95bf-12a566151368"
      },
      "source": [
        "pd.value_counts(y_res).plot.pie(autopct=\"%.1f%%\", title=\"Stroke\");"
      ],
      "execution_count": 119,
      "outputs": [
        {
          "output_type": "display_data",
          "data": {
            "image/png": "[encoded data removed]",
            "text/plain": [
              "<Figure size 432x288 with 1 Axes>"
            ]
          },
          "metadata": {
            "tags": []
          }
        }
      ]
    },
    {
      "cell_type": "markdown",
      "metadata": {
        "id": "jp78YFGUKbKK"
      },
      "source": [
        "Andiamo ora a suddividere i dati in training set e validations set"
      ]
    },
    {
      "cell_type": "code",
      "metadata": {
        "id": "8gg2a3pvKhrm"
      },
      "source": [
        "X_train, X_val, y_train, y_val = train_test_split(\n",
        "    X_res,y_res,\n",
        "    test_size = 1/3,\n",
        "    random_state = 42\n",
        ")"
      ],
      "execution_count": 120,
      "outputs": []
    },
    {
      "cell_type": "markdown",
      "metadata": {
        "id": "6mV65CxObBY6"
      },
      "source": [
        "Applichiamo una standardiddazione dei dati"
      ]
    },
    {
      "cell_type": "code",
      "metadata": {
        "id": "-soNIeU1bE5n"
      },
      "source": [
        "scaler = StandardScaler()\n",
        "X_train_S = scaler.fit_transform(X_train)\n",
        "X_val_S = scaler.transform(X_val)"
      ],
      "execution_count": 121,
      "outputs": []
    },
    {
      "cell_type": "markdown",
      "metadata": {
        "id": "7I3o_5ePHRDZ"
      },
      "source": [
        "In tutti i modelli in cui verrà applicata la `Grid Search` useremo una divisione con la classe `StratifiedKFold` in modo da avere in ogni sub-fold la stessa distribuzione per i dati"
      ]
    },
    {
      "cell_type": "markdown",
      "metadata": {
        "id": "XUne0_O4_0To"
      },
      "source": [
        "La seguente funzione calcola l'intervallo di accuratezza per un modello di classificazione con confidenza al 95% dato l'f-1 score secondo la seguente formula: \n",
        "$$ p = \\frac{f + \\frac{z^2}{2N} \\pm z \\sqrt{\\frac{f}{N} - \\frac{f^2}{N} + \\frac{z^2}{4N^2}  }  }{1+\\frac{z^2}{N}}  $$\n"
      ]
    },
    {
      "cell_type": "code",
      "metadata": {
        "id": "7sbUjYcJ9-Jz"
      },
      "source": [
        "def accuracy_interval(f):\n",
        "  N = len(y_val)\n",
        "  n_min = f + ( 1.96**2/(2*N) - 1.96 * np.sqrt( (f/N) - (f**2/N) + (1.96**2/(4*N**2) ) ) ) \n",
        "  n_max = f + ( 1.96**2/(2*N) + 1.96 * np.sqrt( (f/N) - (f**2/N) + (1.96**2/(4*N**2) ) ) ) \n",
        "  d = 1 + (1.96**2 / N)\n",
        "  e_min = n_min / d\n",
        "  e_max = n_max / d\n",
        "  return np.round(e_min,4), np.round(e_max,4)"
      ],
      "execution_count": 122,
      "outputs": []
    },
    {
      "cell_type": "markdown",
      "metadata": {
        "id": "-2Nr-MhZNe07"
      },
      "source": [
        "Creo un dizionario vuoto in cui man mano inserirò i valori f1-score di ogni modello in modo da poter fare un confronto finale"
      ]
    },
    {
      "cell_type": "code",
      "metadata": {
        "id": "pVQBkYkxIzb8"
      },
      "source": [
        "accuracy = {}"
      ],
      "execution_count": 123,
      "outputs": []
    },
    {
      "cell_type": "markdown",
      "metadata": {
        "id": "zvd-onAwJ7Bt"
      },
      "source": [
        "##Perceptron"
      ]
    },
    {
      "cell_type": "code",
      "metadata": {
        "colab": {
          "base_uri": "https://localhost:8080/"
        },
        "id": "B-aUZ8s1bvzl",
        "outputId": "baece3c9-bb7f-49f7-c81c-adb235ab4260"
      },
      "source": [
        "model = Perceptron(random_state=42)\n",
        "model.fit(X_train_S, y_train)"
      ],
      "execution_count": 124,
      "outputs": [
        {
          "output_type": "execute_result",
          "data": {
            "text/plain": [
              "Perceptron(alpha=0.0001, class_weight=None, early_stopping=False, eta0=1.0,\n",
              "           fit_intercept=True, max_iter=1000, n_iter_no_change=5, n_jobs=None,\n",
              "           penalty=None, random_state=42, shuffle=True, tol=0.001,\n",
              "           validation_fraction=0.1, verbose=0, warm_start=False)"
            ]
          },
          "metadata": {
            "tags": []
          },
          "execution_count": 124
        }
      ]
    },
    {
      "cell_type": "code",
      "metadata": {
        "colab": {
          "base_uri": "https://localhost:8080/",
          "height": 111
        },
        "id": "uU5zLXxub9EF",
        "outputId": "3ca17980-0a3a-4ca1-f167-5f101f414e3f"
      },
      "source": [
        "y_pred = model.predict(X_val_S)\n",
        "cm = confusion_matrix(y_val, y_pred)\n",
        "pd.DataFrame(cm, index=model.classes_, columns=model.classes_)"
      ],
      "execution_count": 125,
      "outputs": [
        {
          "output_type": "execute_result",
          "data": {
            "text/html": [
              "<div>\n",
              "<style scoped>\n",
              "    .dataframe tbody tr th:only-of-type {\n",
              "        vertical-align: middle;\n",
              "    }\n",
              "\n",
              "    .dataframe tbody tr th {\n",
              "        vertical-align: top;\n",
              "    }\n",
              "\n",
              "    .dataframe thead th {\n",
              "        text-align: right;\n",
              "    }\n",
              "</style>\n",
              "<table border=\"1\" class=\"dataframe\">\n",
              "  <thead>\n",
              "    <tr style=\"text-align: right;\">\n",
              "      <th></th>\n",
              "      <th>0</th>\n",
              "      <th>1</th>\n",
              "    </tr>\n",
              "  </thead>\n",
              "  <tbody>\n",
              "    <tr>\n",
              "      <th>0</th>\n",
              "      <td>1170</td>\n",
              "      <td>417</td>\n",
              "    </tr>\n",
              "    <tr>\n",
              "      <th>1</th>\n",
              "      <td>389</td>\n",
              "      <td>1158</td>\n",
              "    </tr>\n",
              "  </tbody>\n",
              "</table>\n",
              "</div>"
            ],
            "text/plain": [
              "      0     1\n",
              "0  1170   417\n",
              "1   389  1158"
            ]
          },
          "metadata": {
            "tags": []
          },
          "execution_count": 125
        }
      ]
    },
    {
      "cell_type": "code",
      "metadata": {
        "colab": {
          "base_uri": "https://localhost:8080/"
        },
        "id": "GR4VXd8ndsNc",
        "outputId": "d55f7c30-7163-4cb8-9ccf-fde8f8218dd1"
      },
      "source": [
        "precision = precision_score(y_val, y_pred, pos_label=0)\n",
        "recall = recall_score(y_val, y_pred, pos_label=0)\n",
        "f1 = f1_score(y_val, y_pred, average=\"macro\")\n",
        "\n",
        "print(f\"precision: {precision}, recall: {recall}, f1-score: {f1}\")"
      ],
      "execution_count": 126,
      "outputs": [
        {
          "output_type": "stream",
          "text": [
            "precision: 0.7504810776138551, recall: 0.7372400756143668, f1-score: 0.7428169058825398\n"
          ],
          "name": "stdout"
        }
      ]
    },
    {
      "cell_type": "code",
      "metadata": {
        "colab": {
          "base_uri": "https://localhost:8080/"
        },
        "id": "ykBfnBLN-RuV",
        "outputId": "5376b47e-094d-469a-9a4b-b2c601a59157"
      },
      "source": [
        "i = accuracy_interval(f1)\n",
        "accuracy[\"Perceptron\"] = i\n",
        "print(i)"
      ],
      "execution_count": 127,
      "outputs": [
        {
          "output_type": "stream",
          "text": [
            "(0.7272, 0.7578)\n"
          ],
          "name": "stdout"
        }
      ]
    },
    {
      "cell_type": "markdown",
      "metadata": {
        "id": "uLrOSKXKV1zG"
      },
      "source": [
        "Aggiungiamo GridSearch e CrossValidation"
      ]
    },
    {
      "cell_type": "code",
      "metadata": {
        "colab": {
          "base_uri": "https://localhost:8080/"
        },
        "id": "RGjBRbBjRDSC",
        "outputId": "cf845d8f-38b2-4c9f-fc66-ba7e8ac36837"
      },
      "source": [
        "model = Perceptron(random_state=42)\n",
        "parameters = {\n",
        "    \"penalty\": [None, \"l1\", \"l2\", \"elasticnet\"],\n",
        "    \"alpha\": np.logspace(-4, 0, 5),\n",
        "    \"tol\": np.logspace(-9, 6, 6)\n",
        "}\n",
        "\n",
        "skf = StratifiedKFold(3, shuffle=True, random_state=42)\n",
        "gs = GridSearchCV(model, parameters, cv=skf)\n",
        "\n",
        "gs.fit(X_train_S, y_train)"
      ],
      "execution_count": 128,
      "outputs": [
        {
          "output_type": "execute_result",
          "data": {
            "text/plain": [
              "GridSearchCV(cv=StratifiedKFold(n_splits=3, random_state=42, shuffle=True),\n",
              "             error_score=nan,\n",
              "             estimator=Perceptron(alpha=0.0001, class_weight=None,\n",
              "                                  early_stopping=False, eta0=1.0,\n",
              "                                  fit_intercept=True, max_iter=1000,\n",
              "                                  n_iter_no_change=5, n_jobs=None, penalty=None,\n",
              "                                  random_state=42, shuffle=True, tol=0.001,\n",
              "                                  validation_fraction=0.1, verbose=0,\n",
              "                                  warm_start=False),\n",
              "             iid='deprecated', n_jobs=None,\n",
              "             param_grid={'alpha': array([1.e-04, 1.e-03, 1.e-02, 1.e-01, 1.e+00]),\n",
              "                         'penalty': [None, 'l1', 'l2', 'elasticnet'],\n",
              "                         'tol': array([1.e-09, 1.e-06, 1.e-03, 1.e+00, 1.e+03, 1.e+06])},\n",
              "             pre_dispatch='2*n_jobs', refit=True, return_train_score=False,\n",
              "             scoring=None, verbose=0)"
            ]
          },
          "metadata": {
            "tags": []
          },
          "execution_count": 128
        }
      ]
    },
    {
      "cell_type": "code",
      "metadata": {
        "colab": {
          "base_uri": "https://localhost:8080/",
          "height": 564
        },
        "id": "ECrHP6uTVuGz",
        "outputId": "6d13b9c0-0518-49b0-a491-254d2062027f"
      },
      "source": [
        "pd.DataFrame(gs.cv_results_).sort_values(\"rank_test_score\").head(5)"
      ],
      "execution_count": 129,
      "outputs": [
        {
          "output_type": "execute_result",
          "data": {
            "text/html": [
              "<div>\n",
              "<style scoped>\n",
              "    .dataframe tbody tr th:only-of-type {\n",
              "        vertical-align: middle;\n",
              "    }\n",
              "\n",
              "    .dataframe tbody tr th {\n",
              "        vertical-align: top;\n",
              "    }\n",
              "\n",
              "    .dataframe thead th {\n",
              "        text-align: right;\n",
              "    }\n",
              "</style>\n",
              "<table border=\"1\" class=\"dataframe\">\n",
              "  <thead>\n",
              "    <tr style=\"text-align: right;\">\n",
              "      <th></th>\n",
              "      <th>mean_fit_time</th>\n",
              "      <th>std_fit_time</th>\n",
              "      <th>mean_score_time</th>\n",
              "      <th>std_score_time</th>\n",
              "      <th>param_alpha</th>\n",
              "      <th>param_penalty</th>\n",
              "      <th>param_tol</th>\n",
              "      <th>params</th>\n",
              "      <th>split0_test_score</th>\n",
              "      <th>split1_test_score</th>\n",
              "      <th>split2_test_score</th>\n",
              "      <th>mean_test_score</th>\n",
              "      <th>std_test_score</th>\n",
              "      <th>rank_test_score</th>\n",
              "    </tr>\n",
              "  </thead>\n",
              "  <tbody>\n",
              "    <tr>\n",
              "      <th>30</th>\n",
              "      <td>0.019622</td>\n",
              "      <td>0.004117</td>\n",
              "      <td>0.001059</td>\n",
              "      <td>0.000030</td>\n",
              "      <td>0.001</td>\n",
              "      <td>l1</td>\n",
              "      <td>1e-09</td>\n",
              "      <td>{'alpha': 0.001, 'penalty': 'l1', 'tol': 1e-09}</td>\n",
              "      <td>0.757300</td>\n",
              "      <td>0.780756</td>\n",
              "      <td>0.742816</td>\n",
              "      <td>0.760291</td>\n",
              "      <td>0.015633</td>\n",
              "      <td>1</td>\n",
              "    </tr>\n",
              "    <tr>\n",
              "      <th>31</th>\n",
              "      <td>0.023239</td>\n",
              "      <td>0.004066</td>\n",
              "      <td>0.002132</td>\n",
              "      <td>0.001516</td>\n",
              "      <td>0.001</td>\n",
              "      <td>l1</td>\n",
              "      <td>1e-06</td>\n",
              "      <td>{'alpha': 0.001, 'penalty': 'l1', 'tol': 1e-06}</td>\n",
              "      <td>0.757300</td>\n",
              "      <td>0.780756</td>\n",
              "      <td>0.742816</td>\n",
              "      <td>0.760291</td>\n",
              "      <td>0.015633</td>\n",
              "      <td>1</td>\n",
              "    </tr>\n",
              "    <tr>\n",
              "      <th>32</th>\n",
              "      <td>0.021980</td>\n",
              "      <td>0.007194</td>\n",
              "      <td>0.001096</td>\n",
              "      <td>0.000072</td>\n",
              "      <td>0.001</td>\n",
              "      <td>l1</td>\n",
              "      <td>0.001</td>\n",
              "      <td>{'alpha': 0.001, 'penalty': 'l1', 'tol': 0.001}</td>\n",
              "      <td>0.757300</td>\n",
              "      <td>0.780756</td>\n",
              "      <td>0.742816</td>\n",
              "      <td>0.760291</td>\n",
              "      <td>0.015633</td>\n",
              "      <td>1</td>\n",
              "    </tr>\n",
              "    <tr>\n",
              "      <th>47</th>\n",
              "      <td>0.012465</td>\n",
              "      <td>0.002032</td>\n",
              "      <td>0.001132</td>\n",
              "      <td>0.000146</td>\n",
              "      <td>0.001</td>\n",
              "      <td>elasticnet</td>\n",
              "      <td>1e+06</td>\n",
              "      <td>{'alpha': 0.001, 'penalty': 'elasticnet', 'tol...</td>\n",
              "      <td>0.745333</td>\n",
              "      <td>0.732408</td>\n",
              "      <td>0.760057</td>\n",
              "      <td>0.745933</td>\n",
              "      <td>0.011296</td>\n",
              "      <td>4</td>\n",
              "    </tr>\n",
              "    <tr>\n",
              "      <th>46</th>\n",
              "      <td>0.010388</td>\n",
              "      <td>0.000166</td>\n",
              "      <td>0.001123</td>\n",
              "      <td>0.000136</td>\n",
              "      <td>0.001</td>\n",
              "      <td>elasticnet</td>\n",
              "      <td>1000</td>\n",
              "      <td>{'alpha': 0.001, 'penalty': 'elasticnet', 'tol...</td>\n",
              "      <td>0.745333</td>\n",
              "      <td>0.732408</td>\n",
              "      <td>0.760057</td>\n",
              "      <td>0.745933</td>\n",
              "      <td>0.011296</td>\n",
              "      <td>4</td>\n",
              "    </tr>\n",
              "  </tbody>\n",
              "</table>\n",
              "</div>"
            ],
            "text/plain": [
              "    mean_fit_time  std_fit_time  ...  std_test_score  rank_test_score\n",
              "30       0.019622      0.004117  ...        0.015633                1\n",
              "31       0.023239      0.004066  ...        0.015633                1\n",
              "32       0.021980      0.007194  ...        0.015633                1\n",
              "47       0.012465      0.002032  ...        0.011296                4\n",
              "46       0.010388      0.000166  ...        0.011296                4\n",
              "\n",
              "[5 rows x 14 columns]"
            ]
          },
          "metadata": {
            "tags": []
          },
          "execution_count": 129
        }
      ]
    },
    {
      "cell_type": "code",
      "metadata": {
        "colab": {
          "base_uri": "https://localhost:8080/"
        },
        "id": "WtTCXQ2HU0ck",
        "outputId": "43bfcb24-fb53-4212-bd57-6588b681b56d"
      },
      "source": [
        "gs.best_params_"
      ],
      "execution_count": 130,
      "outputs": [
        {
          "output_type": "execute_result",
          "data": {
            "text/plain": [
              "{'alpha': 0.001, 'penalty': 'l1', 'tol': 1e-09}"
            ]
          },
          "metadata": {
            "tags": []
          },
          "execution_count": 130
        }
      ]
    },
    {
      "cell_type": "code",
      "metadata": {
        "colab": {
          "base_uri": "https://localhost:8080/"
        },
        "id": "oCDPFWtzU3RQ",
        "outputId": "c609e752-00e5-4c1c-cff1-3b300a6800da"
      },
      "source": [
        "print(f'Best score: {round(gs.best_score_ * 100, 4):.4f}%')"
      ],
      "execution_count": 131,
      "outputs": [
        {
          "output_type": "stream",
          "text": [
            "Best score: 76.0291%\n"
          ],
          "name": "stdout"
        }
      ]
    },
    {
      "cell_type": "code",
      "metadata": {
        "colab": {
          "base_uri": "https://localhost:8080/",
          "height": 265
        },
        "id": "c5XXuQ1HWEfo",
        "outputId": "02866cf0-cc9c-4f60-f9e8-7fa7eac502ff"
      },
      "source": [
        "pc_imp = pd.Series(gs.best_estimator_.coef_[0], index=X.columns)\n",
        "pc_imp.nlargest(4).plot(kind='barh');"
      ],
      "execution_count": 132,
      "outputs": [
        {
          "output_type": "display_data",
          "data": {
            "image/png": "[encoded data removed]",
            "text/plain": [
              "<Figure size 432x288 with 1 Axes>"
            ]
          },
          "metadata": {
            "tags": [],
            "needs_background": "light"
          }
        }
      ]
    },
    {
      "cell_type": "markdown",
      "metadata": {
        "id": "at1Wh_lTW5Xh"
      },
      "source": [
        "A seguito della penalizzazione l1, che la GridSearch identifica come parametro migliore, notiamo che le feature più rilevanti sono:\n",
        "\n",
        "\n",
        "*   Età\n",
        "*   Tipo di lavoro: privato\n",
        "*   Livello medio di glucosio nel sangue\n",
        "\n"
      ]
    },
    {
      "cell_type": "code",
      "metadata": {
        "colab": {
          "base_uri": "https://localhost:8080/",
          "height": 111
        },
        "id": "Ms8qSIF6XSdt",
        "outputId": "f5370775-a22d-41ef-adc8-9e0607a3050d"
      },
      "source": [
        "y_pred = gs.predict(X_val_S)\n",
        "cm = confusion_matrix(y_val, y_pred)\n",
        "pd.DataFrame(cm, index=gs.best_estimator_.classes_, columns=gs.best_estimator_.classes_)"
      ],
      "execution_count": 133,
      "outputs": [
        {
          "output_type": "execute_result",
          "data": {
            "text/html": [
              "<div>\n",
              "<style scoped>\n",
              "    .dataframe tbody tr th:only-of-type {\n",
              "        vertical-align: middle;\n",
              "    }\n",
              "\n",
              "    .dataframe tbody tr th {\n",
              "        vertical-align: top;\n",
              "    }\n",
              "\n",
              "    .dataframe thead th {\n",
              "        text-align: right;\n",
              "    }\n",
              "</style>\n",
              "<table border=\"1\" class=\"dataframe\">\n",
              "  <thead>\n",
              "    <tr style=\"text-align: right;\">\n",
              "      <th></th>\n",
              "      <th>0</th>\n",
              "      <th>1</th>\n",
              "    </tr>\n",
              "  </thead>\n",
              "  <tbody>\n",
              "    <tr>\n",
              "      <th>0</th>\n",
              "      <td>1315</td>\n",
              "      <td>272</td>\n",
              "    </tr>\n",
              "    <tr>\n",
              "      <th>1</th>\n",
              "      <td>655</td>\n",
              "      <td>892</td>\n",
              "    </tr>\n",
              "  </tbody>\n",
              "</table>\n",
              "</div>"
            ],
            "text/plain": [
              "      0    1\n",
              "0  1315  272\n",
              "1   655  892"
            ]
          },
          "metadata": {
            "tags": []
          },
          "execution_count": 133
        }
      ]
    },
    {
      "cell_type": "code",
      "metadata": {
        "colab": {
          "base_uri": "https://localhost:8080/"
        },
        "id": "n_lOJ3YrXr4f",
        "outputId": "9ad0a6ec-255b-477e-b3f9-4ef9d47005da"
      },
      "source": [
        "precision = precision_score(y_val, y_pred, pos_label=0)\n",
        "recall = recall_score(y_val, y_pred, pos_label=0)\n",
        "f1 = f1_score(y_val, y_pred, average=\"macro\")\n",
        "\n",
        "print(f\"precision: {precision}, recall: {recall}, f1-score: {f1}\")"
      ],
      "execution_count": 134,
      "outputs": [
        {
          "output_type": "stream",
          "text": [
            "precision: 0.6675126903553299, recall: 0.8286074354127284, f1-score: 0.6987234402641411\n"
          ],
          "name": "stdout"
        }
      ]
    },
    {
      "cell_type": "code",
      "metadata": {
        "colab": {
          "base_uri": "https://localhost:8080/"
        },
        "id": "9uDLOFq8-qas",
        "outputId": "d1eea8a8-a949-4791-c3ee-e828d38938b1"
      },
      "source": [
        "i = accuracy_interval(f1)\n",
        "accuracy[\"Perceptron with gs\"] = i\n",
        "print(i)"
      ],
      "execution_count": 135,
      "outputs": [
        {
          "output_type": "stream",
          "text": [
            "(0.6824, 0.7145)\n"
          ],
          "name": "stdout"
        }
      ]
    },
    {
      "cell_type": "code",
      "metadata": {
        "colab": {
          "base_uri": "https://localhost:8080/"
        },
        "id": "rPKAqNvxbFeh",
        "outputId": "2d4bd35b-ea57-4c24-8d25-cf5d87d23476"
      },
      "source": [
        "perceptron_mse = mean_squared_error(y_val, y_pred)\n",
        "print('MSE: {}'.format(perceptron_mse))"
      ],
      "execution_count": 136,
      "outputs": [
        {
          "output_type": "stream",
          "text": [
            "MSE: 0.295788130185067\n"
          ],
          "name": "stdout"
        }
      ]
    },
    {
      "cell_type": "markdown",
      "metadata": {
        "id": "G73ReVsRKApL"
      },
      "source": [
        "##Logistic regression"
      ]
    },
    {
      "cell_type": "code",
      "metadata": {
        "id": "P13-R9udfbQ1"
      },
      "source": [
        "model = LogisticRegression(random_state=42, solver=\"saga\")"
      ],
      "execution_count": 137,
      "outputs": []
    },
    {
      "cell_type": "code",
      "metadata": {
        "colab": {
          "base_uri": "https://localhost:8080/"
        },
        "id": "E3IVo4wgfgac",
        "outputId": "c3373031-e994-489a-8854-415921fa6b63"
      },
      "source": [
        "model.fit(X_train_S, y_train)"
      ],
      "execution_count": 138,
      "outputs": [
        {
          "output_type": "execute_result",
          "data": {
            "text/plain": [
              "LogisticRegression(C=1.0, class_weight=None, dual=False, fit_intercept=True,\n",
              "                   intercept_scaling=1, l1_ratio=None, max_iter=100,\n",
              "                   multi_class='auto', n_jobs=None, penalty='l2',\n",
              "                   random_state=42, solver='saga', tol=0.0001, verbose=0,\n",
              "                   warm_start=False)"
            ]
          },
          "metadata": {
            "tags": []
          },
          "execution_count": 138
        }
      ]
    },
    {
      "cell_type": "code",
      "metadata": {
        "colab": {
          "base_uri": "https://localhost:8080/",
          "height": 111
        },
        "id": "HZpp0gVSfpOl",
        "outputId": "1cc03809-f839-40d9-b4e7-db954fbd6020"
      },
      "source": [
        "y_pred = model.predict(X_val_S)\n",
        "cm = confusion_matrix(y_val, y_pred)\n",
        "pd.DataFrame(cm, index=model.classes_, columns=model.classes_)"
      ],
      "execution_count": 139,
      "outputs": [
        {
          "output_type": "execute_result",
          "data": {
            "text/html": [
              "<div>\n",
              "<style scoped>\n",
              "    .dataframe tbody tr th:only-of-type {\n",
              "        vertical-align: middle;\n",
              "    }\n",
              "\n",
              "    .dataframe tbody tr th {\n",
              "        vertical-align: top;\n",
              "    }\n",
              "\n",
              "    .dataframe thead th {\n",
              "        text-align: right;\n",
              "    }\n",
              "</style>\n",
              "<table border=\"1\" class=\"dataframe\">\n",
              "  <thead>\n",
              "    <tr style=\"text-align: right;\">\n",
              "      <th></th>\n",
              "      <th>0</th>\n",
              "      <th>1</th>\n",
              "    </tr>\n",
              "  </thead>\n",
              "  <tbody>\n",
              "    <tr>\n",
              "      <th>0</th>\n",
              "      <td>1210</td>\n",
              "      <td>377</td>\n",
              "    </tr>\n",
              "    <tr>\n",
              "      <th>1</th>\n",
              "      <td>295</td>\n",
              "      <td>1252</td>\n",
              "    </tr>\n",
              "  </tbody>\n",
              "</table>\n",
              "</div>"
            ],
            "text/plain": [
              "      0     1\n",
              "0  1210   377\n",
              "1   295  1252"
            ]
          },
          "metadata": {
            "tags": []
          },
          "execution_count": 139
        }
      ]
    },
    {
      "cell_type": "code",
      "metadata": {
        "colab": {
          "base_uri": "https://localhost:8080/"
        },
        "id": "pYn44J5jfvw9",
        "outputId": "3ed4384f-016d-45bd-ecb2-35a43052648e"
      },
      "source": [
        "precision = precision_score(y_val, y_pred, pos_label=0)\n",
        "recall = recall_score(y_val, y_pred, pos_label=0)\n",
        "f1 = f1_score(y_val, y_pred, average=\"macro\")\n",
        "\n",
        "print(f\"precision: {precision}, recall: {recall}, f1-score: {f1}\")"
      ],
      "execution_count": 140,
      "outputs": [
        {
          "output_type": "stream",
          "text": [
            "precision: 0.8039867109634552, recall: 0.7624448645242596, f1-score: 0.785539020011014\n"
          ],
          "name": "stdout"
        }
      ]
    },
    {
      "cell_type": "code",
      "metadata": {
        "colab": {
          "base_uri": "https://localhost:8080/"
        },
        "id": "Df6oG0dHJObV",
        "outputId": "158986c9-6029-4bae-bcda-0d502e3d7fca"
      },
      "source": [
        "i = accuracy_interval(f1)\n",
        "accuracy[\"Logistic Regression\"] = i\n",
        "print(i)"
      ],
      "execution_count": 141,
      "outputs": [
        {
          "output_type": "stream",
          "text": [
            "(0.7708, 0.7996)\n"
          ],
          "name": "stdout"
        }
      ]
    },
    {
      "cell_type": "code",
      "metadata": {
        "colab": {
          "base_uri": "https://localhost:8080/"
        },
        "id": "WVYHV5CRYWlv",
        "outputId": "a399ebe2-a3bd-4f66-d93d-897a48af29c2"
      },
      "source": [
        "model = LogisticRegression(random_state=42, solver=\"saga\")\n",
        "parameters = {\n",
        "    \"penalty\": [\"l1\"],\n",
        "    \"C\": [0.3, 0.8, 1],#np.logspace(-4, 0, 5),\n",
        "    \"tol\": np.logspace(-9, 6, 6)\n",
        "}\n",
        "\n",
        "skf = StratifiedKFold(3, shuffle=True, random_state=42)\n",
        "gs = GridSearchCV(model, parameters, cv=skf)\n",
        "\n",
        "gs.fit(X_train_S, y_train)"
      ],
      "execution_count": 142,
      "outputs": [
        {
          "output_type": "stream",
          "text": [
            "/usr/local/lib/python3.7/dist-packages/sklearn/linear_model/_sag.py:330: ConvergenceWarning: The max_iter was reached which means the coef_ did not converge\n",
            "  \"the coef_ did not converge\", ConvergenceWarning)\n",
            "/usr/local/lib/python3.7/dist-packages/sklearn/linear_model/_sag.py:330: ConvergenceWarning: The max_iter was reached which means the coef_ did not converge\n",
            "  \"the coef_ did not converge\", ConvergenceWarning)\n",
            "/usr/local/lib/python3.7/dist-packages/sklearn/linear_model/_sag.py:330: ConvergenceWarning: The max_iter was reached which means the coef_ did not converge\n",
            "  \"the coef_ did not converge\", ConvergenceWarning)\n",
            "/usr/local/lib/python3.7/dist-packages/sklearn/linear_model/_sag.py:330: ConvergenceWarning: The max_iter was reached which means the coef_ did not converge\n",
            "  \"the coef_ did not converge\", ConvergenceWarning)\n",
            "/usr/local/lib/python3.7/dist-packages/sklearn/linear_model/_sag.py:330: ConvergenceWarning: The max_iter was reached which means the coef_ did not converge\n",
            "  \"the coef_ did not converge\", ConvergenceWarning)\n",
            "/usr/local/lib/python3.7/dist-packages/sklearn/linear_model/_sag.py:330: ConvergenceWarning: The max_iter was reached which means the coef_ did not converge\n",
            "  \"the coef_ did not converge\", ConvergenceWarning)\n",
            "/usr/local/lib/python3.7/dist-packages/sklearn/linear_model/_sag.py:330: ConvergenceWarning: The max_iter was reached which means the coef_ did not converge\n",
            "  \"the coef_ did not converge\", ConvergenceWarning)\n",
            "/usr/local/lib/python3.7/dist-packages/sklearn/linear_model/_sag.py:330: ConvergenceWarning: The max_iter was reached which means the coef_ did not converge\n",
            "  \"the coef_ did not converge\", ConvergenceWarning)\n",
            "/usr/local/lib/python3.7/dist-packages/sklearn/linear_model/_sag.py:330: ConvergenceWarning: The max_iter was reached which means the coef_ did not converge\n",
            "  \"the coef_ did not converge\", ConvergenceWarning)\n",
            "/usr/local/lib/python3.7/dist-packages/sklearn/linear_model/_sag.py:330: ConvergenceWarning: The max_iter was reached which means the coef_ did not converge\n",
            "  \"the coef_ did not converge\", ConvergenceWarning)\n",
            "/usr/local/lib/python3.7/dist-packages/sklearn/linear_model/_sag.py:330: ConvergenceWarning: The max_iter was reached which means the coef_ did not converge\n",
            "  \"the coef_ did not converge\", ConvergenceWarning)\n",
            "/usr/local/lib/python3.7/dist-packages/sklearn/linear_model/_sag.py:330: ConvergenceWarning: The max_iter was reached which means the coef_ did not converge\n",
            "  \"the coef_ did not converge\", ConvergenceWarning)\n",
            "/usr/local/lib/python3.7/dist-packages/sklearn/linear_model/_sag.py:330: ConvergenceWarning: The max_iter was reached which means the coef_ did not converge\n",
            "  \"the coef_ did not converge\", ConvergenceWarning)\n",
            "/usr/local/lib/python3.7/dist-packages/sklearn/linear_model/_sag.py:330: ConvergenceWarning: The max_iter was reached which means the coef_ did not converge\n",
            "  \"the coef_ did not converge\", ConvergenceWarning)\n",
            "/usr/local/lib/python3.7/dist-packages/sklearn/linear_model/_sag.py:330: ConvergenceWarning: The max_iter was reached which means the coef_ did not converge\n",
            "  \"the coef_ did not converge\", ConvergenceWarning)\n",
            "/usr/local/lib/python3.7/dist-packages/sklearn/linear_model/_sag.py:330: ConvergenceWarning: The max_iter was reached which means the coef_ did not converge\n",
            "  \"the coef_ did not converge\", ConvergenceWarning)\n"
          ],
          "name": "stderr"
        },
        {
          "output_type": "execute_result",
          "data": {
            "text/plain": [
              "GridSearchCV(cv=StratifiedKFold(n_splits=3, random_state=42, shuffle=True),\n",
              "             error_score=nan,\n",
              "             estimator=LogisticRegression(C=1.0, class_weight=None, dual=False,\n",
              "                                          fit_intercept=True,\n",
              "                                          intercept_scaling=1, l1_ratio=None,\n",
              "                                          max_iter=100, multi_class='auto',\n",
              "                                          n_jobs=None, penalty='l2',\n",
              "                                          random_state=42, solver='saga',\n",
              "                                          tol=0.0001, verbose=0,\n",
              "                                          warm_start=False),\n",
              "             iid='deprecated', n_jobs=None,\n",
              "             param_grid={'C': [0.3, 0.8, 1], 'penalty': ['l1'],\n",
              "                         'tol': array([1.e-09, 1.e-06, 1.e-03, 1.e+00, 1.e+03, 1.e+06])},\n",
              "             pre_dispatch='2*n_jobs', refit=True, return_train_score=False,\n",
              "             scoring=None, verbose=0)"
            ]
          },
          "metadata": {
            "tags": []
          },
          "execution_count": 142
        }
      ]
    },
    {
      "cell_type": "code",
      "metadata": {
        "colab": {
          "base_uri": "https://localhost:8080/",
          "height": 479
        },
        "id": "mf0_XF_3ZQi-",
        "outputId": "20e92278-6103-462d-d44b-4be11785ff50"
      },
      "source": [
        "pd.DataFrame(gs.cv_results_).sort_values(\"rank_test_score\").head(5)"
      ],
      "execution_count": 143,
      "outputs": [
        {
          "output_type": "execute_result",
          "data": {
            "text/html": [
              "<div>\n",
              "<style scoped>\n",
              "    .dataframe tbody tr th:only-of-type {\n",
              "        vertical-align: middle;\n",
              "    }\n",
              "\n",
              "    .dataframe tbody tr th {\n",
              "        vertical-align: top;\n",
              "    }\n",
              "\n",
              "    .dataframe thead th {\n",
              "        text-align: right;\n",
              "    }\n",
              "</style>\n",
              "<table border=\"1\" class=\"dataframe\">\n",
              "  <thead>\n",
              "    <tr style=\"text-align: right;\">\n",
              "      <th></th>\n",
              "      <th>mean_fit_time</th>\n",
              "      <th>std_fit_time</th>\n",
              "      <th>mean_score_time</th>\n",
              "      <th>std_score_time</th>\n",
              "      <th>param_C</th>\n",
              "      <th>param_penalty</th>\n",
              "      <th>param_tol</th>\n",
              "      <th>params</th>\n",
              "      <th>split0_test_score</th>\n",
              "      <th>split1_test_score</th>\n",
              "      <th>split2_test_score</th>\n",
              "      <th>mean_test_score</th>\n",
              "      <th>std_test_score</th>\n",
              "      <th>rank_test_score</th>\n",
              "    </tr>\n",
              "  </thead>\n",
              "  <tbody>\n",
              "    <tr>\n",
              "      <th>8</th>\n",
              "      <td>0.041481</td>\n",
              "      <td>0.004075</td>\n",
              "      <td>0.002396</td>\n",
              "      <td>0.001940</td>\n",
              "      <td>0.8</td>\n",
              "      <td>l1</td>\n",
              "      <td>0.001</td>\n",
              "      <td>{'C': 0.8, 'penalty': 'l1', 'tol': 0.001}</td>\n",
              "      <td>0.791766</td>\n",
              "      <td>0.791288</td>\n",
              "      <td>0.765805</td>\n",
              "      <td>0.782953</td>\n",
              "      <td>0.012127</td>\n",
              "      <td>1</td>\n",
              "    </tr>\n",
              "    <tr>\n",
              "      <th>7</th>\n",
              "      <td>0.200596</td>\n",
              "      <td>0.003740</td>\n",
              "      <td>0.002223</td>\n",
              "      <td>0.001305</td>\n",
              "      <td>0.8</td>\n",
              "      <td>l1</td>\n",
              "      <td>1e-06</td>\n",
              "      <td>{'C': 0.8, 'penalty': 'l1', 'tol': 1e-06}</td>\n",
              "      <td>0.791288</td>\n",
              "      <td>0.791288</td>\n",
              "      <td>0.765805</td>\n",
              "      <td>0.782793</td>\n",
              "      <td>0.012013</td>\n",
              "      <td>2</td>\n",
              "    </tr>\n",
              "    <tr>\n",
              "      <th>6</th>\n",
              "      <td>0.202260</td>\n",
              "      <td>0.001842</td>\n",
              "      <td>0.002071</td>\n",
              "      <td>0.001162</td>\n",
              "      <td>0.8</td>\n",
              "      <td>l1</td>\n",
              "      <td>1e-09</td>\n",
              "      <td>{'C': 0.8, 'penalty': 'l1', 'tol': 1e-09}</td>\n",
              "      <td>0.791288</td>\n",
              "      <td>0.791288</td>\n",
              "      <td>0.765805</td>\n",
              "      <td>0.782793</td>\n",
              "      <td>0.012013</td>\n",
              "      <td>2</td>\n",
              "    </tr>\n",
              "    <tr>\n",
              "      <th>14</th>\n",
              "      <td>0.040008</td>\n",
              "      <td>0.004562</td>\n",
              "      <td>0.000992</td>\n",
              "      <td>0.000012</td>\n",
              "      <td>1</td>\n",
              "      <td>l1</td>\n",
              "      <td>0.001</td>\n",
              "      <td>{'C': 1, 'penalty': 'l1', 'tol': 0.001}</td>\n",
              "      <td>0.791766</td>\n",
              "      <td>0.791288</td>\n",
              "      <td>0.765326</td>\n",
              "      <td>0.782793</td>\n",
              "      <td>0.012353</td>\n",
              "      <td>4</td>\n",
              "    </tr>\n",
              "    <tr>\n",
              "      <th>13</th>\n",
              "      <td>0.203524</td>\n",
              "      <td>0.004758</td>\n",
              "      <td>0.004655</td>\n",
              "      <td>0.002174</td>\n",
              "      <td>1</td>\n",
              "      <td>l1</td>\n",
              "      <td>1e-06</td>\n",
              "      <td>{'C': 1, 'penalty': 'l1', 'tol': 1e-06}</td>\n",
              "      <td>0.791766</td>\n",
              "      <td>0.791288</td>\n",
              "      <td>0.765326</td>\n",
              "      <td>0.782793</td>\n",
              "      <td>0.012353</td>\n",
              "      <td>4</td>\n",
              "    </tr>\n",
              "  </tbody>\n",
              "</table>\n",
              "</div>"
            ],
            "text/plain": [
              "    mean_fit_time  std_fit_time  ...  std_test_score  rank_test_score\n",
              "8        0.041481      0.004075  ...        0.012127                1\n",
              "7        0.200596      0.003740  ...        0.012013                2\n",
              "6        0.202260      0.001842  ...        0.012013                2\n",
              "14       0.040008      0.004562  ...        0.012353                4\n",
              "13       0.203524      0.004758  ...        0.012353                4\n",
              "\n",
              "[5 rows x 14 columns]"
            ]
          },
          "metadata": {
            "tags": []
          },
          "execution_count": 143
        }
      ]
    },
    {
      "cell_type": "code",
      "metadata": {
        "colab": {
          "base_uri": "https://localhost:8080/"
        },
        "id": "SqVH-Kl1ZVPf",
        "outputId": "6f9b26eb-8c1f-4148-fe63-8eab96c99303"
      },
      "source": [
        "gs.best_params_"
      ],
      "execution_count": 144,
      "outputs": [
        {
          "output_type": "execute_result",
          "data": {
            "text/plain": [
              "{'C': 0.8, 'penalty': 'l1', 'tol': 0.001}"
            ]
          },
          "metadata": {
            "tags": []
          },
          "execution_count": 144
        }
      ]
    },
    {
      "cell_type": "code",
      "metadata": {
        "colab": {
          "base_uri": "https://localhost:8080/"
        },
        "id": "gvau57tpZZ-b",
        "outputId": "4c0fee0d-7390-4918-fe56-c399c5184504"
      },
      "source": [
        "print(f'Best score: {round(gs.best_score_ * 100, 4):.4f}%')"
      ],
      "execution_count": 145,
      "outputs": [
        {
          "output_type": "stream",
          "text": [
            "Best score: 78.2953%\n"
          ],
          "name": "stdout"
        }
      ]
    },
    {
      "cell_type": "code",
      "metadata": {
        "colab": {
          "base_uri": "https://localhost:8080/",
          "height": 265
        },
        "id": "ylFC3gVlZr-Q",
        "outputId": "d9a39b3d-0742-4df3-888e-59982842273e"
      },
      "source": [
        "pc_imp = pd.Series(gs.best_estimator_.coef_[0], index=X.columns)\n",
        "pc_imp.nlargest(4).plot(kind='barh');"
      ],
      "execution_count": 146,
      "outputs": [
        {
          "output_type": "display_data",
          "data": {
            "image/png": "[encoded data removed]",
            "text/plain": [
              "<Figure size 432x288 with 1 Axes>"
            ]
          },
          "metadata": {
            "tags": [],
            "needs_background": "light"
          }
        }
      ]
    },
    {
      "cell_type": "code",
      "metadata": {
        "colab": {
          "base_uri": "https://localhost:8080/",
          "height": 111
        },
        "id": "zvBU5Y77Zy7H",
        "outputId": "74febd64-a7ce-4558-90d2-ed4ab01dd9f8"
      },
      "source": [
        "y_pred = gs.predict(X_val_S)\n",
        "cm = confusion_matrix(y_val, y_pred)\n",
        "pd.DataFrame(cm, index=gs.best_estimator_.classes_, columns=gs.best_estimator_.classes_)"
      ],
      "execution_count": 147,
      "outputs": [
        {
          "output_type": "execute_result",
          "data": {
            "text/html": [
              "<div>\n",
              "<style scoped>\n",
              "    .dataframe tbody tr th:only-of-type {\n",
              "        vertical-align: middle;\n",
              "    }\n",
              "\n",
              "    .dataframe tbody tr th {\n",
              "        vertical-align: top;\n",
              "    }\n",
              "\n",
              "    .dataframe thead th {\n",
              "        text-align: right;\n",
              "    }\n",
              "</style>\n",
              "<table border=\"1\" class=\"dataframe\">\n",
              "  <thead>\n",
              "    <tr style=\"text-align: right;\">\n",
              "      <th></th>\n",
              "      <th>0</th>\n",
              "      <th>1</th>\n",
              "    </tr>\n",
              "  </thead>\n",
              "  <tbody>\n",
              "    <tr>\n",
              "      <th>0</th>\n",
              "      <td>1209</td>\n",
              "      <td>378</td>\n",
              "    </tr>\n",
              "    <tr>\n",
              "      <th>1</th>\n",
              "      <td>294</td>\n",
              "      <td>1253</td>\n",
              "    </tr>\n",
              "  </tbody>\n",
              "</table>\n",
              "</div>"
            ],
            "text/plain": [
              "      0     1\n",
              "0  1209   378\n",
              "1   294  1253"
            ]
          },
          "metadata": {
            "tags": []
          },
          "execution_count": 147
        }
      ]
    },
    {
      "cell_type": "code",
      "metadata": {
        "colab": {
          "base_uri": "https://localhost:8080/"
        },
        "id": "PvS0TlieZ00B",
        "outputId": "34543cf4-9e27-4080-95e7-2c10d6c7031f"
      },
      "source": [
        "precision = precision_score(y_val, y_pred, pos_label=0)\n",
        "recall = recall_score(y_val, y_pred, pos_label=0)\n",
        "f1 = f1_score(y_val, y_pred, average=\"macro\")\n",
        "\n",
        "print(f\"precision: {precision}, recall: {recall}, f1-score: {f1}\")"
      ],
      "execution_count": 148,
      "outputs": [
        {
          "output_type": "stream",
          "text": [
            "precision: 0.8043912175648703, recall: 0.7618147448015122, f1-score: 0.7855352636756341\n"
          ],
          "name": "stdout"
        }
      ]
    },
    {
      "cell_type": "code",
      "metadata": {
        "colab": {
          "base_uri": "https://localhost:8080/"
        },
        "id": "5pqGm9_p-zW6",
        "outputId": "8e7ff085-03c3-4242-be70-36705a0d096c"
      },
      "source": [
        "i = accuracy_interval(f1)\n",
        "accuracy[\"Logistic regression with gs\"] = i\n",
        "print(i)"
      ],
      "execution_count": 149,
      "outputs": [
        {
          "output_type": "stream",
          "text": [
            "(0.7708, 0.7996)\n"
          ],
          "name": "stdout"
        }
      ]
    },
    {
      "cell_type": "code",
      "metadata": {
        "colab": {
          "base_uri": "https://localhost:8080/"
        },
        "id": "XXCdBcoObSBY",
        "outputId": "c3af2b00-1e3c-415f-9727-145ee428ba19"
      },
      "source": [
        "logisticregression_mse = mean_squared_error(y_val, y_pred)\n",
        "print('MSE: {}'.format(logisticregression_mse))"
      ],
      "execution_count": 150,
      "outputs": [
        {
          "output_type": "stream",
          "text": [
            "MSE: 0.21442246330567966\n"
          ],
          "name": "stdout"
        }
      ]
    },
    {
      "cell_type": "markdown",
      "metadata": {
        "id": "ItRC6PZ1ySJk"
      },
      "source": [
        "##SVM"
      ]
    },
    {
      "cell_type": "code",
      "metadata": {
        "colab": {
          "base_uri": "https://localhost:8080/"
        },
        "id": "YZi_QGLuyvPt",
        "outputId": "d9d7121a-c6fe-43fe-8722-2da1d26336eb"
      },
      "source": [
        "model = SVC()\n",
        "parameters = {\n",
        "    \"kernel\": [\"rbf\"],\n",
        "    \"C\": np.logspace(-2, 0, 3)\n",
        "}\n",
        "\n",
        "skf = StratifiedKFold(3, shuffle=True, random_state=42)\n",
        "gs = GridSearchCV(model, parameters, cv=skf)\n",
        "\n",
        "gs.fit(X_train_S, y_train)"
      ],
      "execution_count": 151,
      "outputs": [
        {
          "output_type": "execute_result",
          "data": {
            "text/plain": [
              "GridSearchCV(cv=StratifiedKFold(n_splits=3, random_state=42, shuffle=True),\n",
              "             error_score=nan,\n",
              "             estimator=SVC(C=1.0, break_ties=False, cache_size=200,\n",
              "                           class_weight=None, coef0=0.0,\n",
              "                           decision_function_shape='ovr', degree=3,\n",
              "                           gamma='scale', kernel='rbf', max_iter=-1,\n",
              "                           probability=False, random_state=None, shrinking=True,\n",
              "                           tol=0.001, verbose=False),\n",
              "             iid='deprecated', n_jobs=None,\n",
              "             param_grid={'C': array([0.01, 0.1 , 1.  ]), 'kernel': ['rbf']},\n",
              "             pre_dispatch='2*n_jobs', refit=True, return_train_score=False,\n",
              "             scoring=None, verbose=0)"
            ]
          },
          "metadata": {
            "tags": []
          },
          "execution_count": 151
        }
      ]
    },
    {
      "cell_type": "code",
      "metadata": {
        "colab": {
          "base_uri": "https://localhost:8080/",
          "height": 315
        },
        "id": "2hvSycplzWtd",
        "outputId": "dbe5c9f6-da0b-4b6a-eb82-45f4ea72fc99"
      },
      "source": [
        "pd.DataFrame(gs.cv_results_).sort_values(\"rank_test_score\").head(5)"
      ],
      "execution_count": 152,
      "outputs": [
        {
          "output_type": "execute_result",
          "data": {
            "text/html": [
              "<div>\n",
              "<style scoped>\n",
              "    .dataframe tbody tr th:only-of-type {\n",
              "        vertical-align: middle;\n",
              "    }\n",
              "\n",
              "    .dataframe tbody tr th {\n",
              "        vertical-align: top;\n",
              "    }\n",
              "\n",
              "    .dataframe thead th {\n",
              "        text-align: right;\n",
              "    }\n",
              "</style>\n",
              "<table border=\"1\" class=\"dataframe\">\n",
              "  <thead>\n",
              "    <tr style=\"text-align: right;\">\n",
              "      <th></th>\n",
              "      <th>mean_fit_time</th>\n",
              "      <th>std_fit_time</th>\n",
              "      <th>mean_score_time</th>\n",
              "      <th>std_score_time</th>\n",
              "      <th>param_C</th>\n",
              "      <th>param_kernel</th>\n",
              "      <th>params</th>\n",
              "      <th>split0_test_score</th>\n",
              "      <th>split1_test_score</th>\n",
              "      <th>split2_test_score</th>\n",
              "      <th>mean_test_score</th>\n",
              "      <th>std_test_score</th>\n",
              "      <th>rank_test_score</th>\n",
              "    </tr>\n",
              "  </thead>\n",
              "  <tbody>\n",
              "    <tr>\n",
              "      <th>2</th>\n",
              "      <td>0.405385</td>\n",
              "      <td>0.006832</td>\n",
              "      <td>0.141135</td>\n",
              "      <td>0.001930</td>\n",
              "      <td>1</td>\n",
              "      <td>rbf</td>\n",
              "      <td>{'C': 1.0, 'kernel': 'rbf'}</td>\n",
              "      <td>0.933940</td>\n",
              "      <td>0.923887</td>\n",
              "      <td>0.924330</td>\n",
              "      <td>0.927385</td>\n",
              "      <td>0.004638</td>\n",
              "      <td>1</td>\n",
              "    </tr>\n",
              "    <tr>\n",
              "      <th>1</th>\n",
              "      <td>0.676020</td>\n",
              "      <td>0.007561</td>\n",
              "      <td>0.238861</td>\n",
              "      <td>0.003836</td>\n",
              "      <td>0.1</td>\n",
              "      <td>rbf</td>\n",
              "      <td>{'C': 0.1, 'kernel': 'rbf'}</td>\n",
              "      <td>0.879847</td>\n",
              "      <td>0.885112</td>\n",
              "      <td>0.861590</td>\n",
              "      <td>0.875516</td>\n",
              "      <td>0.010079</td>\n",
              "      <td>2</td>\n",
              "    </tr>\n",
              "    <tr>\n",
              "      <th>0</th>\n",
              "      <td>1.026985</td>\n",
              "      <td>0.032415</td>\n",
              "      <td>0.365636</td>\n",
              "      <td>0.003265</td>\n",
              "      <td>0.01</td>\n",
              "      <td>rbf</td>\n",
              "      <td>{'C': 0.01, 'kernel': 'rbf'}</td>\n",
              "      <td>0.785543</td>\n",
              "      <td>0.788894</td>\n",
              "      <td>0.780172</td>\n",
              "      <td>0.784870</td>\n",
              "      <td>0.003592</td>\n",
              "      <td>3</td>\n",
              "    </tr>\n",
              "  </tbody>\n",
              "</table>\n",
              "</div>"
            ],
            "text/plain": [
              "   mean_fit_time  std_fit_time  ...  std_test_score  rank_test_score\n",
              "2       0.405385      0.006832  ...        0.004638                1\n",
              "1       0.676020      0.007561  ...        0.010079                2\n",
              "0       1.026985      0.032415  ...        0.003592                3\n",
              "\n",
              "[3 rows x 13 columns]"
            ]
          },
          "metadata": {
            "tags": []
          },
          "execution_count": 152
        }
      ]
    },
    {
      "cell_type": "code",
      "metadata": {
        "colab": {
          "base_uri": "https://localhost:8080/"
        },
        "id": "UjAN1TnpzXG_",
        "outputId": "cd1dc283-c467-42e5-ebca-26ec1f78bac4"
      },
      "source": [
        "gs.best_params_"
      ],
      "execution_count": 153,
      "outputs": [
        {
          "output_type": "execute_result",
          "data": {
            "text/plain": [
              "{'C': 1.0, 'kernel': 'rbf'}"
            ]
          },
          "metadata": {
            "tags": []
          },
          "execution_count": 153
        }
      ]
    },
    {
      "cell_type": "code",
      "metadata": {
        "colab": {
          "base_uri": "https://localhost:8080/"
        },
        "id": "wz_qTNc3zZuy",
        "outputId": "6b188f0a-ca61-484e-b1ef-c548e1e4c7d6"
      },
      "source": [
        "print(f'Best score: {round(gs.best_score_ * 100, 4):.4f}%')"
      ],
      "execution_count": 154,
      "outputs": [
        {
          "output_type": "stream",
          "text": [
            "Best score: 92.7385%\n"
          ],
          "name": "stdout"
        }
      ]
    },
    {
      "cell_type": "code",
      "metadata": {
        "colab": {
          "base_uri": "https://localhost:8080/",
          "height": 265
        },
        "id": "BOp5uncX2pz2",
        "outputId": "395f75a2-484a-47b4-e8b2-fa345a9fcec2"
      },
      "source": [
        "svm_imp = pd.Series(gs.best_estimator_.support_vectors_[0], index=X.columns)\n",
        "svm_imp.nlargest(4).plot(kind='barh');"
      ],
      "execution_count": 155,
      "outputs": [
        {
          "output_type": "display_data",
          "data": {
            "image/png": "[encoded data removed]",
            "text/plain": [
              "<Figure size 432x288 with 1 Axes>"
            ]
          },
          "metadata": {
            "tags": [],
            "needs_background": "light"
          }
        }
      ]
    },
    {
      "cell_type": "code",
      "metadata": {
        "colab": {
          "base_uri": "https://localhost:8080/",
          "height": 111
        },
        "id": "tbjeZyU_z0gs",
        "outputId": "4ac391d5-7c03-45d2-8e25-25231fd0fa46"
      },
      "source": [
        "y_pred = gs.predict(X_val_S)\n",
        "cm = confusion_matrix(y_val, y_pred)\n",
        "pd.DataFrame(cm, index=gs.best_estimator_.classes_, columns=gs.best_estimator_.classes_)"
      ],
      "execution_count": 156,
      "outputs": [
        {
          "output_type": "execute_result",
          "data": {
            "text/html": [
              "<div>\n",
              "<style scoped>\n",
              "    .dataframe tbody tr th:only-of-type {\n",
              "        vertical-align: middle;\n",
              "    }\n",
              "\n",
              "    .dataframe tbody tr th {\n",
              "        vertical-align: top;\n",
              "    }\n",
              "\n",
              "    .dataframe thead th {\n",
              "        text-align: right;\n",
              "    }\n",
              "</style>\n",
              "<table border=\"1\" class=\"dataframe\">\n",
              "  <thead>\n",
              "    <tr style=\"text-align: right;\">\n",
              "      <th></th>\n",
              "      <th>0</th>\n",
              "      <th>1</th>\n",
              "    </tr>\n",
              "  </thead>\n",
              "  <tbody>\n",
              "    <tr>\n",
              "      <th>0</th>\n",
              "      <td>1536</td>\n",
              "      <td>51</td>\n",
              "    </tr>\n",
              "    <tr>\n",
              "      <th>1</th>\n",
              "      <td>162</td>\n",
              "      <td>1385</td>\n",
              "    </tr>\n",
              "  </tbody>\n",
              "</table>\n",
              "</div>"
            ],
            "text/plain": [
              "      0     1\n",
              "0  1536    51\n",
              "1   162  1385"
            ]
          },
          "metadata": {
            "tags": []
          },
          "execution_count": 156
        }
      ]
    },
    {
      "cell_type": "code",
      "metadata": {
        "colab": {
          "base_uri": "https://localhost:8080/"
        },
        "id": "u7JbykEJz20z",
        "outputId": "cc760ebe-3c3a-4e53-c368-72a5abeb86d8"
      },
      "source": [
        "precision = precision_score(y_val, y_pred, pos_label=0)\n",
        "recall = recall_score(y_val, y_pred, pos_label=0)\n",
        "f1 = f1_score(y_val, y_pred, average=\"macro\")\n",
        "\n",
        "print(f\"precision: {precision}, recall: {recall}, f1-score: {f1}\")"
      ],
      "execution_count": 157,
      "outputs": [
        {
          "output_type": "stream",
          "text": [
            "precision: 0.9045936395759717, recall: 0.9678638941398866, f1-score: 0.9318775955681893\n"
          ],
          "name": "stdout"
        }
      ]
    },
    {
      "cell_type": "code",
      "metadata": {
        "colab": {
          "base_uri": "https://localhost:8080/"
        },
        "id": "Ig94v053-7Dy",
        "outputId": "ddbe006a-e6ba-4783-faa3-f372d518491d"
      },
      "source": [
        "i = accuracy_interval(f1)\n",
        "accuracy[\"Support Vector Machines\"] = i\n",
        "print(i)"
      ],
      "execution_count": 158,
      "outputs": [
        {
          "output_type": "stream",
          "text": [
            "(0.9225, 0.9402)\n"
          ],
          "name": "stdout"
        }
      ]
    },
    {
      "cell_type": "code",
      "metadata": {
        "colab": {
          "base_uri": "https://localhost:8080/"
        },
        "id": "St5uh9Poz8q5",
        "outputId": "def3aa35-cfff-4ec7-e922-88695653bd78"
      },
      "source": [
        "svm_mse = mean_squared_error(y_val, y_pred)\n",
        "print('MSE: {}'.format(svm_mse))"
      ],
      "execution_count": 159,
      "outputs": [
        {
          "output_type": "stream",
          "text": [
            "MSE: 0.06796426292278239\n"
          ],
          "name": "stdout"
        }
      ]
    },
    {
      "cell_type": "markdown",
      "metadata": {
        "id": "rtRTwYxcTJoq"
      },
      "source": [
        "##Decision tree"
      ]
    },
    {
      "cell_type": "markdown",
      "metadata": {
        "id": "O3Jd39oH_CrW"
      },
      "source": [
        "I parametri che andiamo a testare nella grid search sono:\n",
        "- `min_samples_split` che è il numero minimo di campioni che deve avere una foglia per poter essere splittata\n",
        "- `min_samples_leaf` numero minimo di campioni per ogni foglia (i.e. se splittiamo un nodo questo split è valido solo se lascia in ogni foglia che crea almeno min_samples_leaf campioni)\n",
        "- `max_depth` profondità massima che può raggiungere l'albero (con `None` cresce senza limiti su questo parametro)\n",
        "- `max_features` il numero massimo di feature da considerare per ogni split"
      ]
    },
    {
      "cell_type": "code",
      "metadata": {
        "colab": {
          "base_uri": "https://localhost:8080/"
        },
        "id": "9WtaBXAuRvK7",
        "outputId": "df6132b3-3c3d-4ad4-982a-819259eaba0b"
      },
      "source": [
        "model = DecisionTreeClassifier(random_state=42)\n",
        "\n",
        "num_features = X_train_S.shape[1]\n",
        "\n",
        "parameters = {\n",
        "             'min_samples_split': range(2, 4, 1),\n",
        "             'min_samples_leaf': range(1, 4, 1), \n",
        "             'max_depth': [None] + [i for i in range(2, 7)],\n",
        "             'max_features': range(2, num_features, 1)}\n",
        "\n",
        "skf = StratifiedKFold(3, shuffle=True, random_state=42)\n",
        "gs = GridSearchCV(model, parameters, cv=skf)\n",
        "\n",
        "gs.fit(X_train_S, y_train)"
      ],
      "execution_count": 160,
      "outputs": [
        {
          "output_type": "execute_result",
          "data": {
            "text/plain": [
              "GridSearchCV(cv=StratifiedKFold(n_splits=3, random_state=42, shuffle=True),\n",
              "             error_score=nan,\n",
              "             estimator=DecisionTreeClassifier(ccp_alpha=0.0, class_weight=None,\n",
              "                                              criterion='gini', max_depth=None,\n",
              "                                              max_features=None,\n",
              "                                              max_leaf_nodes=None,\n",
              "                                              min_impurity_decrease=0.0,\n",
              "                                              min_impurity_split=None,\n",
              "                                              min_samples_leaf=1,\n",
              "                                              min_samples_split=2,\n",
              "                                              min_weight_fraction_leaf=0.0,\n",
              "                                              presort='deprecated',\n",
              "                                              random_state=42,\n",
              "                                              splitter='best'),\n",
              "             iid='deprecated', n_jobs=None,\n",
              "             param_grid={'max_depth': [None, 2, 3, 4, 5, 6],\n",
              "                         'max_features': range(2, 20),\n",
              "                         'min_samples_leaf': range(1, 4),\n",
              "                         'min_samples_split': range(2, 4)},\n",
              "             pre_dispatch='2*n_jobs', refit=True, return_train_score=False,\n",
              "             scoring=None, verbose=0)"
            ]
          },
          "metadata": {
            "tags": []
          },
          "execution_count": 160
        }
      ]
    },
    {
      "cell_type": "code",
      "metadata": {
        "colab": {
          "base_uri": "https://localhost:8080/"
        },
        "id": "-fNTHi7VSVm0",
        "outputId": "bcfa0a54-7219-473c-c671-82faa1c8e396"
      },
      "source": [
        "gs.best_score_"
      ],
      "execution_count": 161,
      "outputs": [
        {
          "output_type": "execute_result",
          "data": {
            "text/plain": [
              "0.9521222581092837"
            ]
          },
          "metadata": {
            "tags": []
          },
          "execution_count": 161
        }
      ]
    },
    {
      "cell_type": "code",
      "metadata": {
        "colab": {
          "base_uri": "https://localhost:8080/",
          "height": 111
        },
        "id": "U3Hx35c6Sdeh",
        "outputId": "7ece623a-9860-4a1a-e35f-1072982034ed"
      },
      "source": [
        "y_pred = gs.predict(X_val_S)\n",
        "cm = confusion_matrix(y_val, y_pred)\n",
        "pd.DataFrame(cm, index=gs.best_estimator_.classes_, columns=gs.best_estimator_.classes_)"
      ],
      "execution_count": 162,
      "outputs": [
        {
          "output_type": "execute_result",
          "data": {
            "text/html": [
              "<div>\n",
              "<style scoped>\n",
              "    .dataframe tbody tr th:only-of-type {\n",
              "        vertical-align: middle;\n",
              "    }\n",
              "\n",
              "    .dataframe tbody tr th {\n",
              "        vertical-align: top;\n",
              "    }\n",
              "\n",
              "    .dataframe thead th {\n",
              "        text-align: right;\n",
              "    }\n",
              "</style>\n",
              "<table border=\"1\" class=\"dataframe\">\n",
              "  <thead>\n",
              "    <tr style=\"text-align: right;\">\n",
              "      <th></th>\n",
              "      <th>0</th>\n",
              "      <th>1</th>\n",
              "    </tr>\n",
              "  </thead>\n",
              "  <tbody>\n",
              "    <tr>\n",
              "      <th>0</th>\n",
              "      <td>1532</td>\n",
              "      <td>55</td>\n",
              "    </tr>\n",
              "    <tr>\n",
              "      <th>1</th>\n",
              "      <td>110</td>\n",
              "      <td>1437</td>\n",
              "    </tr>\n",
              "  </tbody>\n",
              "</table>\n",
              "</div>"
            ],
            "text/plain": [
              "      0     1\n",
              "0  1532    55\n",
              "1   110  1437"
            ]
          },
          "metadata": {
            "tags": []
          },
          "execution_count": 162
        }
      ]
    },
    {
      "cell_type": "code",
      "metadata": {
        "colab": {
          "base_uri": "https://localhost:8080/"
        },
        "id": "_Mbp3TkXSiPX",
        "outputId": "78ada9aa-a8f5-4c5a-8d0a-b776c7b45f17"
      },
      "source": [
        "precision = precision_score(y_val, y_pred, pos_label=0)\n",
        "recall = recall_score(y_val, y_pred, pos_label=0)\n",
        "f1 = f1_score(y_val, y_pred, average=\"macro\")\n",
        "\n",
        "print(f\"precision: {precision}, recall: {recall}, f1-score: {f1}\")"
      ],
      "execution_count": 163,
      "outputs": [
        {
          "output_type": "stream",
          "text": [
            "precision: 0.9330085261875761, recall: 0.9653434152488973, f1-score: 0.9473032063508854\n"
          ],
          "name": "stdout"
        }
      ]
    },
    {
      "cell_type": "code",
      "metadata": {
        "colab": {
          "base_uri": "https://localhost:8080/"
        },
        "id": "vwEfcj_4SogG",
        "outputId": "870baa54-4cf4-40cb-f97f-9e7a0b1d0d47"
      },
      "source": [
        "i = accuracy_interval(f1)\n",
        "accuracy[\"Decision tree\"] = i\n",
        "print(i)"
      ],
      "execution_count": 164,
      "outputs": [
        {
          "output_type": "stream",
          "text": [
            "(0.9389, 0.9546)\n"
          ],
          "name": "stdout"
        }
      ]
    },
    {
      "cell_type": "code",
      "metadata": {
        "colab": {
          "base_uri": "https://localhost:8080/"
        },
        "id": "qVWgGqTeStpi",
        "outputId": "1f9d4464-5c2b-43b1-a5e9-1a3228071b51"
      },
      "source": [
        "decisiontree_mse = mean_squared_error(y_val, y_pred)\n",
        "print('MSE: {}'.format(decisiontree_mse))"
      ],
      "execution_count": 165,
      "outputs": [
        {
          "output_type": "stream",
          "text": [
            "MSE: 0.05264837268666241\n"
          ],
          "name": "stdout"
        }
      ]
    },
    {
      "cell_type": "markdown",
      "metadata": {
        "id": "XfXdZVnlKvXI"
      },
      "source": [
        "###Visualizzazione dell'albero decisionale\n"
      ]
    },
    {
      "cell_type": "markdown",
      "metadata": {
        "id": "-LDwDn1tMC1q"
      },
      "source": [
        "Nei nodi troviamo:\n",
        "\n",
        "- Il criterio con cui viene effettuato il taglio \n",
        "\n",
        "\n",
        "- Il parametro `gini` che indica la qualità della suddivisione, rappresenta la frequenza con cui un elemento scelto casualmente dall'insieme verrebbe etichettato in modo errato se fosse etichettato casualmente in base alla distribuzione delle etichette nel sottoinsieme, è calcolato come:\n",
        "$$Gini = 1 - \\sum_{i=1}^C p_i^2 $$\n",
        "\n",
        "  $\\Rightarrow$ Assume valore 0 quando tutte le istanze nel nodo hanno una stessa label\n",
        "\n",
        "- Il parametro `samples` che indica la percentuale di campioni presenti in quel nodo\n",
        "- Il parametro `value` che indica la percentuale di istanze per ogni classe"
      ]
    },
    {
      "cell_type": "code",
      "metadata": {
        "colab": {
          "base_uri": "https://localhost:8080/",
          "height": 654
        },
        "id": "T18hJT2UJb7K",
        "outputId": "c088b99f-c4ac-4879-ac0e-bb763ce60025"
      },
      "source": [
        "dot_data = tree.export_graphviz(gs.best_estimator_, out_file=None, \n",
        "                                feature_names=X.columns,  \n",
        "                                filled=True,\n",
        "                                proportion=True,\n",
        "                                max_depth=3)\n",
        "\n",
        "# Draw graph\n",
        "graph = graphviz.Source(dot_data, format=\"png\") \n",
        "graph"
      ],
      "execution_count": 166,
      "outputs": [
        {
          "output_type": "execute_result",
          "data": {
            "text/plain": [
              "<graphviz.files.Source at 0x7fe880f96e90>"
            ],
            "image/svg+xml": "<?xml version=\"1.0\" encoding=\"UTF-8\" standalone=\"no\"?>\n<!DOCTYPE svg PUBLIC \"-//W3C//DTD SVG 1.1//EN\"\n \"http://www.w3.org/Graphics/SVG/1.1/DTD/svg11.dtd\">\n<!-- Generated by graphviz version 2.40.1 (20161225.0304)\n -->\n<!-- Title: Tree Pages: 1 -->\n<svg width=\"1713pt\" height=\"460pt\"\n viewBox=\"0.00 0.00 1712.50 460.00\" xmlns=\"http://www.w3.org/2000/svg\" xmlns:xlink=\"http://www.w3.org/1999/xlink\">\n<g id=\"graph0\" class=\"graph\" transform=\"scale(1 1) rotate(0) translate(4 456)\">\n<title>Tree</title>\n<polygon fill=\"#ffffff\" stroke=\"transparent\" points=\"-4,4 -4,-456 1708.5,-456 1708.5,4 -4,4\"/>\n<!-- 0 -->\n<g id=\"node1\" class=\"node\">\n<title>0</title>\n<polygon fill=\"#fcfeff\" stroke=\"#000000\" points=\"1000,-452 853,-452 853,-384 1000,-384 1000,-452\"/>\n<text text-anchor=\"middle\" x=\"926.5\" y=\"-436.8\" font-family=\"Times,serif\" font-size=\"14.00\" fill=\"#000000\">age &lt;= &#45;0.273</text>\n<text text-anchor=\"middle\" x=\"926.5\" y=\"-421.8\" font-family=\"Times,serif\" font-size=\"14.00\" fill=\"#000000\">gini = 0.5</text>\n<text text-anchor=\"middle\" x=\"926.5\" y=\"-406.8\" font-family=\"Times,serif\" font-size=\"14.00\" fill=\"#000000\">samples = 100.0%</text>\n<text text-anchor=\"middle\" x=\"926.5\" y=\"-391.8\" font-family=\"Times,serif\" font-size=\"14.00\" fill=\"#000000\">value = [0.497, 0.503]</text>\n</g>\n<!-- 1 -->\n<g id=\"node2\" class=\"node\">\n<title>1</title>\n<polygon fill=\"#e88e4d\" stroke=\"#000000\" points=\"789,-348 642,-348 642,-280 789,-280 789,-348\"/>\n<text text-anchor=\"middle\" x=\"715.5\" y=\"-332.8\" font-family=\"Times,serif\" font-size=\"14.00\" fill=\"#000000\">age &lt;= &#45;0.765</text>\n<text text-anchor=\"middle\" x=\"715.5\" y=\"-317.8\" font-family=\"Times,serif\" font-size=\"14.00\" fill=\"#000000\">gini = 0.167</text>\n<text text-anchor=\"middle\" x=\"715.5\" y=\"-302.8\" font-family=\"Times,serif\" font-size=\"14.00\" fill=\"#000000\">samples = 32.6%</text>\n<text text-anchor=\"middle\" x=\"715.5\" y=\"-287.8\" font-family=\"Times,serif\" font-size=\"14.00\" fill=\"#000000\">value = [0.908, 0.092]</text>\n</g>\n<!-- 0&#45;&gt;1 -->\n<g id=\"edge1\" class=\"edge\">\n<title>0&#45;&gt;1</title>\n<path fill=\"none\" stroke=\"#000000\" d=\"M857.4107,-383.9465C837.0998,-373.9354 814.7367,-362.9129 793.8888,-352.6371\"/>\n<polygon fill=\"#000000\" stroke=\"#000000\" points=\"795.2615,-349.4117 784.7445,-348.13 792.1668,-355.6905 795.2615,-349.4117\"/>\n<text text-anchor=\"middle\" x=\"792.7853\" y=\"-368.1016\" font-family=\"Times,serif\" font-size=\"14.00\" fill=\"#000000\">True</text>\n</g>\n<!-- 112 -->\n<g id=\"node17\" class=\"node\">\n<title>112</title>\n<polygon fill=\"#8dc7f0\" stroke=\"#000000\" points=\"1186,-348 1033,-348 1033,-280 1186,-280 1186,-348\"/>\n<text text-anchor=\"middle\" x=\"1109.5\" y=\"-332.8\" font-family=\"Times,serif\" font-size=\"14.00\" fill=\"#000000\">hypertension &lt;= &#45;0.539</text>\n<text text-anchor=\"middle\" x=\"1109.5\" y=\"-317.8\" font-family=\"Times,serif\" font-size=\"14.00\" fill=\"#000000\">gini = 0.418</text>\n<text text-anchor=\"middle\" x=\"1109.5\" y=\"-302.8\" font-family=\"Times,serif\" font-size=\"14.00\" fill=\"#000000\">samples = 67.4%</text>\n<text text-anchor=\"middle\" x=\"1109.5\" y=\"-287.8\" font-family=\"Times,serif\" font-size=\"14.00\" fill=\"#000000\">value = [0.298, 0.702]</text>\n</g>\n<!-- 0&#45;&gt;112 -->\n<g id=\"edge16\" class=\"edge\">\n<title>0&#45;&gt;112</title>\n<path fill=\"none\" stroke=\"#000000\" d=\"M986.421,-383.9465C1003.6417,-374.1599 1022.5633,-363.4066 1040.2954,-353.3294\"/>\n<polygon fill=\"#000000\" stroke=\"#000000\" points=\"1042.4796,-356.1139 1049.4443,-348.13 1039.0209,-350.028 1042.4796,-356.1139\"/>\n<text text-anchor=\"middle\" x=\"1042.8096\" y=\"-368.5335\" font-family=\"Times,serif\" font-size=\"14.00\" fill=\"#000000\">False</text>\n</g>\n<!-- 2 -->\n<g id=\"node3\" class=\"node\">\n<title>2</title>\n<polygon fill=\"#e5833c\" stroke=\"#000000\" points=\"467.5,-244 249.5,-244 249.5,-176 467.5,-176 467.5,-244\"/>\n<text text-anchor=\"middle\" x=\"358.5\" y=\"-228.8\" font-family=\"Times,serif\" font-size=\"14.00\" fill=\"#000000\">smoking_status_smokes &lt;= &#45;0.473</text>\n<text text-anchor=\"middle\" x=\"358.5\" y=\"-213.8\" font-family=\"Times,serif\" font-size=\"14.00\" fill=\"#000000\">gini = 0.033</text>\n<text text-anchor=\"middle\" x=\"358.5\" y=\"-198.8\" font-family=\"Times,serif\" font-size=\"14.00\" fill=\"#000000\">samples = 21.9%</text>\n<text text-anchor=\"middle\" x=\"358.5\" y=\"-183.8\" font-family=\"Times,serif\" font-size=\"14.00\" fill=\"#000000\">value = [0.983, 0.017]</text>\n</g>\n<!-- 1&#45;&gt;2 -->\n<g id=\"edge2\" class=\"edge\">\n<title>1&#45;&gt;2</title>\n<path fill=\"none\" stroke=\"#000000\" d=\"M641.9622,-292.5772C594.4977,-278.75 531.6762,-260.4491 477.2381,-244.5904\"/>\n<polygon fill=\"#000000\" stroke=\"#000000\" points=\"478.1082,-241.1984 467.5283,-241.7618 476.1503,-247.919 478.1082,-241.1984\"/>\n</g>\n<!-- 21 -->\n<g id=\"node10\" class=\"node\">\n<title>21</title>\n<polygon fill=\"#edaa79\" stroke=\"#000000\" points=\"817,-244 614,-244 614,-176 817,-176 817,-244\"/>\n<text text-anchor=\"middle\" x=\"715.5\" y=\"-228.8\" font-family=\"Times,serif\" font-size=\"14.00\" fill=\"#000000\">Residence_type_Rural &lt;= 1.104</text>\n<text text-anchor=\"middle\" x=\"715.5\" y=\"-213.8\" font-family=\"Times,serif\" font-size=\"14.00\" fill=\"#000000\">gini = 0.37</text>\n<text text-anchor=\"middle\" x=\"715.5\" y=\"-198.8\" font-family=\"Times,serif\" font-size=\"14.00\" fill=\"#000000\">samples = 10.8%</text>\n<text text-anchor=\"middle\" x=\"715.5\" y=\"-183.8\" font-family=\"Times,serif\" font-size=\"14.00\" fill=\"#000000\">value = [0.755, 0.245]</text>\n</g>\n<!-- 1&#45;&gt;21 -->\n<g id=\"edge9\" class=\"edge\">\n<title>1&#45;&gt;21</title>\n<path fill=\"none\" stroke=\"#000000\" d=\"M715.5,-279.9465C715.5,-271.776 715.5,-262.9318 715.5,-254.3697\"/>\n<polygon fill=\"#000000\" stroke=\"#000000\" points=\"719.0001,-254.13 715.5,-244.13 712.0001,-254.13 719.0001,-254.13\"/>\n</g>\n<!-- 3 -->\n<g id=\"node4\" class=\"node\">\n<title>3</title>\n<polygon fill=\"#e5813a\" stroke=\"#000000\" points=\"233,-140 0,-140 0,-72 233,-72 233,-140\"/>\n<text text-anchor=\"middle\" x=\"116.5\" y=\"-124.8\" font-family=\"Times,serif\" font-size=\"14.00\" fill=\"#000000\">work_type_Self&#45;employed &lt;= &#45;0.313</text>\n<text text-anchor=\"middle\" x=\"116.5\" y=\"-109.8\" font-family=\"Times,serif\" font-size=\"14.00\" fill=\"#000000\">gini = 0.007</text>\n<text text-anchor=\"middle\" x=\"116.5\" y=\"-94.8\" font-family=\"Times,serif\" font-size=\"14.00\" fill=\"#000000\">samples = 19.1%</text>\n<text text-anchor=\"middle\" x=\"116.5\" y=\"-79.8\" font-family=\"Times,serif\" font-size=\"14.00\" fill=\"#000000\">value = [0.997, 0.003]</text>\n</g>\n<!-- 2&#45;&gt;3 -->\n<g id=\"edge3\" class=\"edge\">\n<title>2&#45;&gt;3</title>\n<path fill=\"none\" stroke=\"#000000\" d=\"M279.2601,-175.9465C255.5473,-165.7559 229.3956,-154.5171 205.1206,-144.0849\"/>\n<polygon fill=\"#000000\" stroke=\"#000000\" points=\"206.4873,-140.8628 195.9179,-140.13 203.7235,-147.294 206.4873,-140.8628\"/>\n</g>\n<!-- 18 -->\n<g id=\"node7\" class=\"node\">\n<title>18</title>\n<polygon fill=\"#e89151\" stroke=\"#000000\" points=\"465.5,-140 251.5,-140 251.5,-72 465.5,-72 465.5,-140\"/>\n<text text-anchor=\"middle\" x=\"358.5\" y=\"-124.8\" font-family=\"Times,serif\" font-size=\"14.00\" fill=\"#000000\">smoking_status_smokes &lt;= 2.436</text>\n<text text-anchor=\"middle\" x=\"358.5\" y=\"-109.8\" font-family=\"Times,serif\" font-size=\"14.00\" fill=\"#000000\">gini = 0.196</text>\n<text text-anchor=\"middle\" x=\"358.5\" y=\"-94.8\" font-family=\"Times,serif\" font-size=\"14.00\" fill=\"#000000\">samples = 2.8%</text>\n<text text-anchor=\"middle\" x=\"358.5\" y=\"-79.8\" font-family=\"Times,serif\" font-size=\"14.00\" fill=\"#000000\">value = [0.89, 0.11]</text>\n</g>\n<!-- 2&#45;&gt;18 -->\n<g id=\"edge6\" class=\"edge\">\n<title>2&#45;&gt;18</title>\n<path fill=\"none\" stroke=\"#000000\" d=\"M358.5,-175.9465C358.5,-167.776 358.5,-158.9318 358.5,-150.3697\"/>\n<polygon fill=\"#000000\" stroke=\"#000000\" points=\"362.0001,-150.13 358.5,-140.13 355.0001,-150.13 362.0001,-150.13\"/>\n</g>\n<!-- 4 -->\n<g id=\"node5\" class=\"node\">\n<title>4</title>\n<polygon fill=\"#c0c0c0\" stroke=\"#000000\" points=\"107.5,-36 53.5,-36 53.5,0 107.5,0 107.5,-36\"/>\n<text text-anchor=\"middle\" x=\"80.5\" y=\"-14.3\" font-family=\"Times,serif\" font-size=\"14.00\" fill=\"#000000\">(...)</text>\n</g>\n<!-- 3&#45;&gt;4 -->\n<g id=\"edge4\" class=\"edge\">\n<title>3&#45;&gt;4</title>\n<path fill=\"none\" stroke=\"#000000\" d=\"M102.5815,-71.9769C98.9977,-63.2167 95.1862,-53.8995 91.7564,-45.5157\"/>\n<polygon fill=\"#000000\" stroke=\"#000000\" points=\"94.968,-44.1222 87.9422,-36.192 88.4891,-46.7727 94.968,-44.1222\"/>\n</g>\n<!-- 13 -->\n<g id=\"node6\" class=\"node\">\n<title>13</title>\n<polygon fill=\"#c0c0c0\" stroke=\"#000000\" points=\"179.5,-36 125.5,-36 125.5,0 179.5,0 179.5,-36\"/>\n<text text-anchor=\"middle\" x=\"152.5\" y=\"-14.3\" font-family=\"Times,serif\" font-size=\"14.00\" fill=\"#000000\">(...)</text>\n</g>\n<!-- 3&#45;&gt;13 -->\n<g id=\"edge5\" class=\"edge\">\n<title>3&#45;&gt;13</title>\n<path fill=\"none\" stroke=\"#000000\" d=\"M130.4185,-71.9769C134.0023,-63.2167 137.8138,-53.8995 141.2436,-45.5157\"/>\n<polygon fill=\"#000000\" stroke=\"#000000\" points=\"144.5109,-46.7727 145.0578,-36.192 138.032,-44.1222 144.5109,-46.7727\"/>\n</g>\n<!-- 19 -->\n<g id=\"node8\" class=\"node\">\n<title>19</title>\n<polygon fill=\"#c0c0c0\" stroke=\"#000000\" points=\"349.5,-36 295.5,-36 295.5,0 349.5,0 349.5,-36\"/>\n<text text-anchor=\"middle\" x=\"322.5\" y=\"-14.3\" font-family=\"Times,serif\" font-size=\"14.00\" fill=\"#000000\">(...)</text>\n</g>\n<!-- 18&#45;&gt;19 -->\n<g id=\"edge7\" class=\"edge\">\n<title>18&#45;&gt;19</title>\n<path fill=\"none\" stroke=\"#000000\" d=\"M344.5815,-71.9769C340.9977,-63.2167 337.1862,-53.8995 333.7564,-45.5157\"/>\n<polygon fill=\"#000000\" stroke=\"#000000\" points=\"336.968,-44.1222 329.9422,-36.192 330.4891,-46.7727 336.968,-44.1222\"/>\n</g>\n<!-- 20 -->\n<g id=\"node9\" class=\"node\">\n<title>20</title>\n<polygon fill=\"#c0c0c0\" stroke=\"#000000\" points=\"421.5,-36 367.5,-36 367.5,0 421.5,0 421.5,-36\"/>\n<text text-anchor=\"middle\" x=\"394.5\" y=\"-14.3\" font-family=\"Times,serif\" font-size=\"14.00\" fill=\"#000000\">(...)</text>\n</g>\n<!-- 18&#45;&gt;20 -->\n<g id=\"edge8\" class=\"edge\">\n<title>18&#45;&gt;20</title>\n<path fill=\"none\" stroke=\"#000000\" d=\"M372.4185,-71.9769C376.0023,-63.2167 379.8138,-53.8995 383.2436,-45.5157\"/>\n<polygon fill=\"#000000\" stroke=\"#000000\" points=\"386.5109,-46.7727 387.0578,-36.192 380.032,-44.1222 386.5109,-46.7727\"/>\n</g>\n<!-- 22 -->\n<g id=\"node11\" class=\"node\">\n<title>22</title>\n<polygon fill=\"#f4c8a9\" stroke=\"#000000\" points=\"739.5,-140 483.5,-140 483.5,-72 739.5,-72 739.5,-140\"/>\n<text text-anchor=\"middle\" x=\"611.5\" y=\"-124.8\" font-family=\"Times,serif\" font-size=\"14.00\" fill=\"#000000\">smoking_status_never smoked &lt;= &#45;0.853</text>\n<text text-anchor=\"middle\" x=\"611.5\" y=\"-109.8\" font-family=\"Times,serif\" font-size=\"14.00\" fill=\"#000000\">gini = 0.462</text>\n<text text-anchor=\"middle\" x=\"611.5\" y=\"-94.8\" font-family=\"Times,serif\" font-size=\"14.00\" fill=\"#000000\">samples = 6.4%</text>\n<text text-anchor=\"middle\" x=\"611.5\" y=\"-79.8\" font-family=\"Times,serif\" font-size=\"14.00\" fill=\"#000000\">value = [0.638, 0.362]</text>\n</g>\n<!-- 21&#45;&gt;22 -->\n<g id=\"edge10\" class=\"edge\">\n<title>21&#45;&gt;22</title>\n<path fill=\"none\" stroke=\"#000000\" d=\"M681.4465,-175.9465C672.2884,-166.7884 662.2838,-156.7838 652.7788,-147.2788\"/>\n<polygon fill=\"#000000\" stroke=\"#000000\" points=\"655.176,-144.7262 645.63,-140.13 650.2262,-149.676 655.176,-144.7262\"/>\n</g>\n<!-- 73 -->\n<g id=\"node14\" class=\"node\">\n<title>73</title>\n<polygon fill=\"#e78b49\" stroke=\"#000000\" points=\"943,-140 758,-140 758,-72 943,-72 943,-140\"/>\n<text text-anchor=\"middle\" x=\"850.5\" y=\"-124.8\" font-family=\"Times,serif\" font-size=\"14.00\" fill=\"#000000\">avg_glucose_level &lt;= &#45;0.975</text>\n<text text-anchor=\"middle\" x=\"850.5\" y=\"-109.8\" font-family=\"Times,serif\" font-size=\"14.00\" fill=\"#000000\">gini = 0.141</text>\n<text text-anchor=\"middle\" x=\"850.5\" y=\"-94.8\" font-family=\"Times,serif\" font-size=\"14.00\" fill=\"#000000\">samples = 4.4%</text>\n<text text-anchor=\"middle\" x=\"850.5\" y=\"-79.8\" font-family=\"Times,serif\" font-size=\"14.00\" fill=\"#000000\">value = [0.924, 0.076]</text>\n</g>\n<!-- 21&#45;&gt;73 -->\n<g id=\"edge13\" class=\"edge\">\n<title>21&#45;&gt;73</title>\n<path fill=\"none\" stroke=\"#000000\" d=\"M759.704,-175.9465C771.9416,-166.519 785.3436,-156.1946 798.0038,-146.4415\"/>\n<polygon fill=\"#000000\" stroke=\"#000000\" points=\"800.4107,-149.0055 806.1966,-140.13 796.1388,-143.4601 800.4107,-149.0055\"/>\n</g>\n<!-- 23 -->\n<g id=\"node12\" class=\"node\">\n<title>23</title>\n<polygon fill=\"#c0c0c0\" stroke=\"#000000\" points=\"602.5,-36 548.5,-36 548.5,0 602.5,0 602.5,-36\"/>\n<text text-anchor=\"middle\" x=\"575.5\" y=\"-14.3\" font-family=\"Times,serif\" font-size=\"14.00\" fill=\"#000000\">(...)</text>\n</g>\n<!-- 22&#45;&gt;23 -->\n<g id=\"edge11\" class=\"edge\">\n<title>22&#45;&gt;23</title>\n<path fill=\"none\" stroke=\"#000000\" d=\"M597.5815,-71.9769C593.9977,-63.2167 590.1862,-53.8995 586.7564,-45.5157\"/>\n<polygon fill=\"#000000\" stroke=\"#000000\" points=\"589.968,-44.1222 582.9422,-36.192 583.4891,-46.7727 589.968,-44.1222\"/>\n</g>\n<!-- 42 -->\n<g id=\"node13\" class=\"node\">\n<title>42</title>\n<polygon fill=\"#c0c0c0\" stroke=\"#000000\" points=\"674.5,-36 620.5,-36 620.5,0 674.5,0 674.5,-36\"/>\n<text text-anchor=\"middle\" x=\"647.5\" y=\"-14.3\" font-family=\"Times,serif\" font-size=\"14.00\" fill=\"#000000\">(...)</text>\n</g>\n<!-- 22&#45;&gt;42 -->\n<g id=\"edge12\" class=\"edge\">\n<title>22&#45;&gt;42</title>\n<path fill=\"none\" stroke=\"#000000\" d=\"M625.4185,-71.9769C629.0023,-63.2167 632.8138,-53.8995 636.2436,-45.5157\"/>\n<polygon fill=\"#000000\" stroke=\"#000000\" points=\"639.5109,-46.7727 640.0578,-36.192 633.032,-44.1222 639.5109,-46.7727\"/>\n</g>\n<!-- 74 -->\n<g id=\"node15\" class=\"node\">\n<title>74</title>\n<polygon fill=\"#c0c0c0\" stroke=\"#000000\" points=\"825.5,-36 771.5,-36 771.5,0 825.5,0 825.5,-36\"/>\n<text text-anchor=\"middle\" x=\"798.5\" y=\"-14.3\" font-family=\"Times,serif\" font-size=\"14.00\" fill=\"#000000\">(...)</text>\n</g>\n<!-- 73&#45;&gt;74 -->\n<g id=\"edge14\" class=\"edge\">\n<title>73&#45;&gt;74</title>\n<path fill=\"none\" stroke=\"#000000\" d=\"M830.3954,-71.9769C825.1064,-63.0262 819.4738,-53.4941 814.437,-44.9703\"/>\n<polygon fill=\"#000000\" stroke=\"#000000\" points=\"817.3504,-43.0207 809.2498,-36.192 811.3239,-46.5818 817.3504,-43.0207\"/>\n</g>\n<!-- 85 -->\n<g id=\"node16\" class=\"node\">\n<title>85</title>\n<polygon fill=\"#c0c0c0\" stroke=\"#000000\" points=\"897.5,-36 843.5,-36 843.5,0 897.5,0 897.5,-36\"/>\n<text text-anchor=\"middle\" x=\"870.5\" y=\"-14.3\" font-family=\"Times,serif\" font-size=\"14.00\" fill=\"#000000\">(...)</text>\n</g>\n<!-- 73&#45;&gt;85 -->\n<g id=\"edge15\" class=\"edge\">\n<title>73&#45;&gt;85</title>\n<path fill=\"none\" stroke=\"#000000\" d=\"M858.2325,-71.9769C860.1802,-63.4071 862.249,-54.3043 864.1219,-46.0638\"/>\n<polygon fill=\"#000000\" stroke=\"#000000\" points=\"867.5621,-46.719 866.3655,-36.192 860.7362,-45.1676 867.5621,-46.719\"/>\n</g>\n<!-- 113 -->\n<g id=\"node18\" class=\"node\">\n<title>113</title>\n<polygon fill=\"#c5e2f7\" stroke=\"#000000\" points=\"1203.5,-244 1015.5,-244 1015.5,-176 1203.5,-176 1203.5,-244\"/>\n<text text-anchor=\"middle\" x=\"1109.5\" y=\"-228.8\" font-family=\"Times,serif\" font-size=\"14.00\" fill=\"#000000\">work_type_Private &lt;= &#45;1.292</text>\n<text text-anchor=\"middle\" x=\"1109.5\" y=\"-213.8\" font-family=\"Times,serif\" font-size=\"14.00\" fill=\"#000000\">gini = 0.485</text>\n<text text-anchor=\"middle\" x=\"1109.5\" y=\"-198.8\" font-family=\"Times,serif\" font-size=\"14.00\" fill=\"#000000\">samples = 40.7%</text>\n<text text-anchor=\"middle\" x=\"1109.5\" y=\"-183.8\" font-family=\"Times,serif\" font-size=\"14.00\" fill=\"#000000\">value = [0.414, 0.586]</text>\n</g>\n<!-- 112&#45;&gt;113 -->\n<g id=\"edge17\" class=\"edge\">\n<title>112&#45;&gt;113</title>\n<path fill=\"none\" stroke=\"#000000\" d=\"M1109.5,-279.9465C1109.5,-271.776 1109.5,-262.9318 1109.5,-254.3697\"/>\n<polygon fill=\"#000000\" stroke=\"#000000\" points=\"1113.0001,-254.13 1109.5,-244.13 1106.0001,-254.13 1113.0001,-254.13\"/>\n</g>\n<!-- 462 -->\n<g id=\"node25\" class=\"node\">\n<title>462</title>\n<polygon fill=\"#54aae9\" stroke=\"#000000\" points=\"1446,-244 1297,-244 1297,-176 1446,-176 1446,-244\"/>\n<text text-anchor=\"middle\" x=\"1371.5\" y=\"-228.8\" font-family=\"Times,serif\" font-size=\"14.00\" fill=\"#000000\">hypertension &lt;= 2.341</text>\n<text text-anchor=\"middle\" x=\"1371.5\" y=\"-213.8\" font-family=\"Times,serif\" font-size=\"14.00\" fill=\"#000000\">gini = 0.212</text>\n<text text-anchor=\"middle\" x=\"1371.5\" y=\"-198.8\" font-family=\"Times,serif\" font-size=\"14.00\" fill=\"#000000\">samples = 26.7%</text>\n<text text-anchor=\"middle\" x=\"1371.5\" y=\"-183.8\" font-family=\"Times,serif\" font-size=\"14.00\" fill=\"#000000\">value = [0.121, 0.879]</text>\n</g>\n<!-- 112&#45;&gt;462 -->\n<g id=\"edge24\" class=\"edge\">\n<title>112&#45;&gt;462</title>\n<path fill=\"none\" stroke=\"#000000\" d=\"M1186.3384,-283.4993C1218.0841,-270.8979 1254.9804,-256.2521 1287.4441,-243.3657\"/>\n<polygon fill=\"#000000\" stroke=\"#000000\" points=\"1288.9158,-246.5472 1296.919,-239.6047 1286.3332,-240.0411 1288.9158,-246.5472\"/>\n</g>\n<!-- 114 -->\n<g id=\"node19\" class=\"node\">\n<title>114</title>\n<polygon fill=\"#f1bd98\" stroke=\"#000000\" points=\"1108,-140 961,-140 961,-72 1108,-72 1108,-140\"/>\n<text text-anchor=\"middle\" x=\"1034.5\" y=\"-124.8\" font-family=\"Times,serif\" font-size=\"14.00\" fill=\"#000000\">age &lt;= 0.549</text>\n<text text-anchor=\"middle\" x=\"1034.5\" y=\"-109.8\" font-family=\"Times,serif\" font-size=\"14.00\" fill=\"#000000\">gini = 0.438</text>\n<text text-anchor=\"middle\" x=\"1034.5\" y=\"-94.8\" font-family=\"Times,serif\" font-size=\"14.00\" fill=\"#000000\">samples = 10.8%</text>\n<text text-anchor=\"middle\" x=\"1034.5\" y=\"-79.8\" font-family=\"Times,serif\" font-size=\"14.00\" fill=\"#000000\">value = [0.676, 0.324]</text>\n</g>\n<!-- 113&#45;&gt;114 -->\n<g id=\"edge18\" class=\"edge\">\n<title>113&#45;&gt;114</title>\n<path fill=\"none\" stroke=\"#000000\" d=\"M1084.9422,-175.9465C1078.5968,-167.1475 1071.6879,-157.5672 1065.0764,-148.3993\"/>\n<polygon fill=\"#000000\" stroke=\"#000000\" points=\"1067.8011,-146.1937 1059.113,-140.13 1062.1234,-150.2882 1067.8011,-146.1937\"/>\n</g>\n<!-- 241 -->\n<g id=\"node22\" class=\"node\">\n<title>241</title>\n<polygon fill=\"#96cbf1\" stroke=\"#000000\" points=\"1295,-140 1126,-140 1126,-72 1295,-72 1295,-140\"/>\n<text text-anchor=\"middle\" x=\"1210.5\" y=\"-124.8\" font-family=\"Times,serif\" font-size=\"14.00\" fill=\"#000000\">work_type_Private &lt;= 0.9</text>\n<text text-anchor=\"middle\" x=\"1210.5\" y=\"-109.8\" font-family=\"Times,serif\" font-size=\"14.00\" fill=\"#000000\">gini = 0.435</text>\n<text text-anchor=\"middle\" x=\"1210.5\" y=\"-94.8\" font-family=\"Times,serif\" font-size=\"14.00\" fill=\"#000000\">samples = 29.9%</text>\n<text text-anchor=\"middle\" x=\"1210.5\" y=\"-79.8\" font-family=\"Times,serif\" font-size=\"14.00\" fill=\"#000000\">value = [0.319, 0.681]</text>\n</g>\n<!-- 113&#45;&gt;241 -->\n<g id=\"edge21\" class=\"edge\">\n<title>113&#45;&gt;241</title>\n<path fill=\"none\" stroke=\"#000000\" d=\"M1142.5712,-175.9465C1151.3779,-166.8782 1160.9907,-156.9799 1170.1403,-147.5585\"/>\n<polygon fill=\"#000000\" stroke=\"#000000\" points=\"1172.8985,-149.7422 1177.3545,-140.13 1167.8768,-144.8654 1172.8985,-149.7422\"/>\n</g>\n<!-- 115 -->\n<g id=\"node20\" class=\"node\">\n<title>115</title>\n<polygon fill=\"#c0c0c0\" stroke=\"#000000\" points=\"1005.5,-36 951.5,-36 951.5,0 1005.5,0 1005.5,-36\"/>\n<text text-anchor=\"middle\" x=\"978.5\" y=\"-14.3\" font-family=\"Times,serif\" font-size=\"14.00\" fill=\"#000000\">(...)</text>\n</g>\n<!-- 114&#45;&gt;115 -->\n<g id=\"edge19\" class=\"edge\">\n<title>114&#45;&gt;115</title>\n<path fill=\"none\" stroke=\"#000000\" d=\"M1012.8489,-71.9769C1007.0925,-62.931 1000.9581,-53.2913 995.49,-44.6986\"/>\n<polygon fill=\"#000000\" stroke=\"#000000\" points=\"998.3983,-42.7495 990.0767,-36.192 992.4927,-46.5077 998.3983,-42.7495\"/>\n</g>\n<!-- 158 -->\n<g id=\"node21\" class=\"node\">\n<title>158</title>\n<polygon fill=\"#c0c0c0\" stroke=\"#000000\" points=\"1077.5,-36 1023.5,-36 1023.5,0 1077.5,0 1077.5,-36\"/>\n<text text-anchor=\"middle\" x=\"1050.5\" y=\"-14.3\" font-family=\"Times,serif\" font-size=\"14.00\" fill=\"#000000\">(...)</text>\n</g>\n<!-- 114&#45;&gt;158 -->\n<g id=\"edge20\" class=\"edge\">\n<title>114&#45;&gt;158</title>\n<path fill=\"none\" stroke=\"#000000\" d=\"M1040.686,-71.9769C1042.2442,-63.4071 1043.8992,-54.3043 1045.3975,-46.0638\"/>\n<polygon fill=\"#000000\" stroke=\"#000000\" points=\"1048.847,-46.6568 1047.1924,-36.192 1041.9599,-45.4045 1048.847,-46.6568\"/>\n</g>\n<!-- 242 -->\n<g id=\"node23\" class=\"node\">\n<title>242</title>\n<polygon fill=\"#c0c0c0\" stroke=\"#000000\" points=\"1201.5,-36 1147.5,-36 1147.5,0 1201.5,0 1201.5,-36\"/>\n<text text-anchor=\"middle\" x=\"1174.5\" y=\"-14.3\" font-family=\"Times,serif\" font-size=\"14.00\" fill=\"#000000\">(...)</text>\n</g>\n<!-- 241&#45;&gt;242 -->\n<g id=\"edge22\" class=\"edge\">\n<title>241&#45;&gt;242</title>\n<path fill=\"none\" stroke=\"#000000\" d=\"M1196.5815,-71.9769C1192.9977,-63.2167 1189.1862,-53.8995 1185.7564,-45.5157\"/>\n<polygon fill=\"#000000\" stroke=\"#000000\" points=\"1188.968,-44.1222 1181.9422,-36.192 1182.4891,-46.7727 1188.968,-44.1222\"/>\n</g>\n<!-- 243 -->\n<g id=\"node24\" class=\"node\">\n<title>243</title>\n<polygon fill=\"#c0c0c0\" stroke=\"#000000\" points=\"1273.5,-36 1219.5,-36 1219.5,0 1273.5,0 1273.5,-36\"/>\n<text text-anchor=\"middle\" x=\"1246.5\" y=\"-14.3\" font-family=\"Times,serif\" font-size=\"14.00\" fill=\"#000000\">(...)</text>\n</g>\n<!-- 241&#45;&gt;243 -->\n<g id=\"edge23\" class=\"edge\">\n<title>241&#45;&gt;243</title>\n<path fill=\"none\" stroke=\"#000000\" d=\"M1224.4185,-71.9769C1228.0023,-63.2167 1231.8138,-53.8995 1235.2436,-45.5157\"/>\n<polygon fill=\"#000000\" stroke=\"#000000\" points=\"1238.5109,-46.7727 1239.0578,-36.192 1232.032,-44.1222 1238.5109,-46.7727\"/>\n</g>\n<!-- 463 -->\n<g id=\"node26\" class=\"node\">\n<title>463</title>\n<polygon fill=\"#399de5\" stroke=\"#000000\" points=\"1430,-132.5 1313,-132.5 1313,-79.5 1430,-79.5 1430,-132.5\"/>\n<text text-anchor=\"middle\" x=\"1371.5\" y=\"-117.3\" font-family=\"Times,serif\" font-size=\"14.00\" fill=\"#000000\">gini = 0.0</text>\n<text text-anchor=\"middle\" x=\"1371.5\" y=\"-102.3\" font-family=\"Times,serif\" font-size=\"14.00\" fill=\"#000000\">samples = 18.4%</text>\n<text text-anchor=\"middle\" x=\"1371.5\" y=\"-87.3\" font-family=\"Times,serif\" font-size=\"14.00\" fill=\"#000000\">value = [0.0, 1.0]</text>\n</g>\n<!-- 462&#45;&gt;463 -->\n<g id=\"edge25\" class=\"edge\">\n<title>462&#45;&gt;463</title>\n<path fill=\"none\" stroke=\"#000000\" d=\"M1371.5,-175.9465C1371.5,-165.2621 1371.5,-153.4254 1371.5,-142.5742\"/>\n<polygon fill=\"#000000\" stroke=\"#000000\" points=\"1375.0001,-142.5421 1371.5,-132.5422 1368.0001,-142.5422 1375.0001,-142.5421\"/>\n</g>\n<!-- 464 -->\n<g id=\"node27\" class=\"node\">\n<title>464</title>\n<polygon fill=\"#b6dbf5\" stroke=\"#000000\" points=\"1704.5,-140 1448.5,-140 1448.5,-72 1704.5,-72 1704.5,-140\"/>\n<text text-anchor=\"middle\" x=\"1576.5\" y=\"-124.8\" font-family=\"Times,serif\" font-size=\"14.00\" fill=\"#000000\">smoking_status_never smoked &lt;= &#45;0.857</text>\n<text text-anchor=\"middle\" x=\"1576.5\" y=\"-109.8\" font-family=\"Times,serif\" font-size=\"14.00\" fill=\"#000000\">gini = 0.474</text>\n<text text-anchor=\"middle\" x=\"1576.5\" y=\"-94.8\" font-family=\"Times,serif\" font-size=\"14.00\" fill=\"#000000\">samples = 8.3%</text>\n<text text-anchor=\"middle\" x=\"1576.5\" y=\"-79.8\" font-family=\"Times,serif\" font-size=\"14.00\" fill=\"#000000\">value = [0.387, 0.613]</text>\n</g>\n<!-- 462&#45;&gt;464 -->\n<g id=\"edge26\" class=\"edge\">\n<title>462&#45;&gt;464</title>\n<path fill=\"none\" stroke=\"#000000\" d=\"M1438.6247,-175.9465C1458.2695,-165.9803 1479.8904,-155.0117 1500.0677,-144.7754\"/>\n<polygon fill=\"#000000\" stroke=\"#000000\" points=\"1501.89,-147.7756 1509.2245,-140.13 1498.723,-141.533 1501.89,-147.7756\"/>\n</g>\n<!-- 465 -->\n<g id=\"node28\" class=\"node\">\n<title>465</title>\n<polygon fill=\"#c0c0c0\" stroke=\"#000000\" points=\"1567.5,-36 1513.5,-36 1513.5,0 1567.5,0 1567.5,-36\"/>\n<text text-anchor=\"middle\" x=\"1540.5\" y=\"-14.3\" font-family=\"Times,serif\" font-size=\"14.00\" fill=\"#000000\">(...)</text>\n</g>\n<!-- 464&#45;&gt;465 -->\n<g id=\"edge27\" class=\"edge\">\n<title>464&#45;&gt;465</title>\n<path fill=\"none\" stroke=\"#000000\" d=\"M1562.5815,-71.9769C1558.9977,-63.2167 1555.1862,-53.8995 1551.7564,-45.5157\"/>\n<polygon fill=\"#000000\" stroke=\"#000000\" points=\"1554.968,-44.1222 1547.9422,-36.192 1548.4891,-46.7727 1554.968,-44.1222\"/>\n</g>\n<!-- 514 -->\n<g id=\"node29\" class=\"node\">\n<title>514</title>\n<polygon fill=\"#c0c0c0\" stroke=\"#000000\" points=\"1639.5,-36 1585.5,-36 1585.5,0 1639.5,0 1639.5,-36\"/>\n<text text-anchor=\"middle\" x=\"1612.5\" y=\"-14.3\" font-family=\"Times,serif\" font-size=\"14.00\" fill=\"#000000\">(...)</text>\n</g>\n<!-- 464&#45;&gt;514 -->\n<g id=\"edge28\" class=\"edge\">\n<title>464&#45;&gt;514</title>\n<path fill=\"none\" stroke=\"#000000\" d=\"M1590.4185,-71.9769C1594.0023,-63.2167 1597.8138,-53.8995 1601.2436,-45.5157\"/>\n<polygon fill=\"#000000\" stroke=\"#000000\" points=\"1604.5109,-46.7727 1605.0578,-36.192 1598.032,-44.1222 1604.5109,-46.7727\"/>\n</g>\n</g>\n</svg>\n"
          },
          "metadata": {
            "tags": []
          },
          "execution_count": 166
        }
      ]
    },
    {
      "cell_type": "markdown",
      "metadata": {
        "id": "5I8VeragTjuM"
      },
      "source": [
        "##XGBoost"
      ]
    },
    {
      "cell_type": "code",
      "metadata": {
        "colab": {
          "base_uri": "https://localhost:8080/"
        },
        "id": "6birO_a1TiaK",
        "outputId": "cab98f5d-da86-4b95-d884-b0dcf245538c"
      },
      "source": [
        "model = XGBClassifier(nthread=8, objective='binary:logistic')\n",
        "\n",
        "\n",
        "parameters = {\n",
        "    'eta': [0.002, 0.1, 0.5],\n",
        "    'max_depth': [6],\n",
        "    'n_estimators': [150, 300],\n",
        "    'alpha': [0.0001, 0.001]\n",
        "}\n",
        "\n",
        "skf = StratifiedKFold(3, shuffle=True, random_state=42)\n",
        "gs = GridSearchCV(model, parameters, cv=skf)\n",
        "\n",
        "gs.fit(X_train_S, y_train)"
      ],
      "execution_count": 167,
      "outputs": [
        {
          "output_type": "execute_result",
          "data": {
            "text/plain": [
              "GridSearchCV(cv=StratifiedKFold(n_splits=3, random_state=42, shuffle=True),\n",
              "             error_score=nan,\n",
              "             estimator=XGBClassifier(base_score=0.5, booster='gbtree',\n",
              "                                     colsample_bylevel=1, colsample_bynode=1,\n",
              "                                     colsample_bytree=1, gamma=0,\n",
              "                                     learning_rate=0.1, max_delta_step=0,\n",
              "                                     max_depth=3, min_child_weight=1,\n",
              "                                     missing=None, n_estimators=100, n_jobs=1,\n",
              "                                     nthread=8, objective='binary:logistic',\n",
              "                                     random_state=0, reg_alpha=0, reg_lambda=1,\n",
              "                                     scale_pos_weight=1, seed=None, silent=None,\n",
              "                                     subsample=1, verbosity=1),\n",
              "             iid='deprecated', n_jobs=None,\n",
              "             param_grid={'alpha': [0.0001, 0.001], 'eta': [0.002, 0.1, 0.5],\n",
              "                         'max_depth': [6], 'n_estimators': [150, 300]},\n",
              "             pre_dispatch='2*n_jobs', refit=True, return_train_score=False,\n",
              "             scoring=None, verbose=0)"
            ]
          },
          "metadata": {
            "tags": []
          },
          "execution_count": 167
        }
      ]
    },
    {
      "cell_type": "code",
      "metadata": {
        "colab": {
          "base_uri": "https://localhost:8080/"
        },
        "id": "qSlWzn7wUCwC",
        "outputId": "990ea04b-8e37-4d44-be84-3c7140793899"
      },
      "source": [
        "gs.best_score_"
      ],
      "execution_count": 168,
      "outputs": [
        {
          "output_type": "execute_result",
          "data": {
            "text/plain": [
              "0.9720719031208294"
            ]
          },
          "metadata": {
            "tags": []
          },
          "execution_count": 168
        }
      ]
    },
    {
      "cell_type": "code",
      "metadata": {
        "colab": {
          "base_uri": "https://localhost:8080/",
          "height": 111
        },
        "id": "EiAS-agXUEc1",
        "outputId": "1f695ac7-c705-4378-f698-65ff7eb2f143"
      },
      "source": [
        "y_pred = gs.predict(X_val_S)\n",
        "cm = confusion_matrix(y_val, y_pred)\n",
        "pd.DataFrame(cm, index=gs.best_estimator_.classes_, columns=gs.best_estimator_.classes_)"
      ],
      "execution_count": 169,
      "outputs": [
        {
          "output_type": "execute_result",
          "data": {
            "text/html": [
              "<div>\n",
              "<style scoped>\n",
              "    .dataframe tbody tr th:only-of-type {\n",
              "        vertical-align: middle;\n",
              "    }\n",
              "\n",
              "    .dataframe tbody tr th {\n",
              "        vertical-align: top;\n",
              "    }\n",
              "\n",
              "    .dataframe thead th {\n",
              "        text-align: right;\n",
              "    }\n",
              "</style>\n",
              "<table border=\"1\" class=\"dataframe\">\n",
              "  <thead>\n",
              "    <tr style=\"text-align: right;\">\n",
              "      <th></th>\n",
              "      <th>0</th>\n",
              "      <th>1</th>\n",
              "    </tr>\n",
              "  </thead>\n",
              "  <tbody>\n",
              "    <tr>\n",
              "      <th>0</th>\n",
              "      <td>1579</td>\n",
              "      <td>8</td>\n",
              "    </tr>\n",
              "    <tr>\n",
              "      <th>1</th>\n",
              "      <td>78</td>\n",
              "      <td>1469</td>\n",
              "    </tr>\n",
              "  </tbody>\n",
              "</table>\n",
              "</div>"
            ],
            "text/plain": [
              "      0     1\n",
              "0  1579     8\n",
              "1    78  1469"
            ]
          },
          "metadata": {
            "tags": []
          },
          "execution_count": 169
        }
      ]
    },
    {
      "cell_type": "code",
      "metadata": {
        "colab": {
          "base_uri": "https://localhost:8080/"
        },
        "id": "ITw95R8vUIJa",
        "outputId": "56edb654-b2b0-4c69-acb5-c76e193f8145"
      },
      "source": [
        "precision = precision_score(y_val, y_pred, pos_label=0)\n",
        "recall = recall_score(y_val, y_pred, pos_label=0)\n",
        "f1 = f1_score(y_val, y_pred, average=\"macro\")\n",
        "\n",
        "print(f\"precision: {precision}, recall: {recall}, f1-score: {f1}\")"
      ],
      "execution_count": 170,
      "outputs": [
        {
          "output_type": "stream",
          "text": [
            "precision: 0.9529269764634882, recall: 0.9949590422180214, f1-score: 0.9725251828365269\n"
          ],
          "name": "stdout"
        }
      ]
    },
    {
      "cell_type": "code",
      "metadata": {
        "colab": {
          "base_uri": "https://localhost:8080/"
        },
        "id": "ryhbcOEpULrN",
        "outputId": "c34e7f47-fd5d-44ac-d7cb-d442f1420b0c"
      },
      "source": [
        "i = accuracy_interval(f1)\n",
        "accuracy[\"XGBoost\"] = i\n",
        "print(i)"
      ],
      "execution_count": 171,
      "outputs": [
        {
          "output_type": "stream",
          "text": [
            "(0.9662, 0.9777)\n"
          ],
          "name": "stdout"
        }
      ]
    },
    {
      "cell_type": "code",
      "metadata": {
        "colab": {
          "base_uri": "https://localhost:8080/"
        },
        "id": "vBNe-pKkUP5j",
        "outputId": "70baadc4-f8be-4baf-9945-96255873a654"
      },
      "source": [
        "xgboost_mse = mean_squared_error(y_val, y_pred)\n",
        "print('MSE: {}'.format(decisiontree_mse))"
      ],
      "execution_count": 172,
      "outputs": [
        {
          "output_type": "stream",
          "text": [
            "MSE: 0.05264837268666241\n"
          ],
          "name": "stdout"
        }
      ]
    },
    {
      "cell_type": "markdown",
      "metadata": {
        "id": "n9aGBM1ebfyy"
      },
      "source": [
        "##Model comparison"
      ]
    },
    {
      "cell_type": "markdown",
      "metadata": {
        "id": "gOMM8jHbEqPR"
      },
      "source": [
        "Prendiamo una confidenza del 95%, di conseguenza dalla tabella della distribuzione z otteniamo 1.96 come valore per `z` "
      ]
    },
    {
      "cell_type": "markdown",
      "metadata": {
        "id": "y9b8FBVIFVg4"
      },
      "source": [
        "La seguente funzione implementa il confronto fra due modelli dati i rispettivi errori `e1` ed `e2` e la cardinalità del test set `n` secondo le formule :\n",
        "\n",
        "$$ d = |e_1 - e_2| $$\n",
        "\n",
        "$$ \\sigma_t^2 = \\sigma_1^2 + \\sigma_2^2 = \\frac{e_1(1-e_1)}{n}  + \\frac{e_2(1-e_2)}{n}$$\n",
        "\n",
        "$$d_t = d \\pm z_{1-\\alpha} \\cdot \\sigma_t$$"
      ]
    },
    {
      "cell_type": "code",
      "metadata": {
        "id": "cXf-LLmX0veh"
      },
      "source": [
        "def intervallo(mse1, mse2):\n",
        "  d = np.abs(mse1 - mse2)\n",
        "  variance = (mse1 * (1 - mse1)) / len(X_val) + (mse2 * (1 - mse2)) / len(X_val)\n",
        "  d_min = d - 1.96 * np.sqrt(variance)\n",
        "  d_max = d + 1.96 * np.sqrt(variance)\n",
        "  return d_min, d_max"
      ],
      "execution_count": 173,
      "outputs": []
    },
    {
      "cell_type": "markdown",
      "metadata": {
        "id": "kQXPlulfmn20"
      },
      "source": [
        "Andiamo a calcolare l'intervallo fra tutte le coppie di modelli"
      ]
    },
    {
      "cell_type": "code",
      "metadata": {
        "colab": {
          "base_uri": "https://localhost:8080/"
        },
        "id": "_VuoPBEljaWT",
        "outputId": "d69165a2-da2e-4d0d-d9dc-5ec029b019a2"
      },
      "source": [
        "from itertools import combinations\n",
        "mse = [(\"perceptron_mse\", \"Perceptron\"), (\"logisticregression_mse\",\"Logistic Regression\"),\n",
        "       (\"svm_mse\", \"SVM\"), (\"decisiontree_mse\", \"Decision Tree\"), (\"xgboost_mse\", \"XGBoost\")]\n",
        "\n",
        "print (f\"{'Models':<40} {'Interval':<15}\")\n",
        "for m1, m2 in list(combinations(mse, 2)):\n",
        "  mse1, mse2 = eval(m1[0]), eval(m2[0])\n",
        "  name1, name2 = m1[1], m2[1]\n",
        "  comparison = name1 + \" vs \" + name2\n",
        "  print (f\"{comparison:<40} {np.round(intervallo(mse1 , mse2), 4)} \")"
      ],
      "execution_count": 174,
      "outputs": [
        {
          "output_type": "stream",
          "text": [
            "Models                                   Interval       \n",
            "Perceptron vs Logistic Regression        [0.0599 0.1029] \n",
            "Perceptron vs SVM                        [0.2096 0.2461] \n",
            "Perceptron vs Decision Tree              [0.2254 0.2609] \n",
            "Perceptron vs XGBoost                    [0.2514 0.2853] \n",
            "Logistic Regression vs SVM               [0.1296 0.1633] \n",
            "Logistic Regression vs Decision Tree     [0.1454 0.1781] \n",
            "Logistic Regression vs XGBoost           [0.1715 0.2024] \n",
            "SVM vs Decision Tree                     [0.0035 0.0271] \n",
            "SVM vs XGBoost                           [0.03  0.051] \n",
            "Decision Tree vs XGBoost                 [0.0155 0.0349] \n"
          ],
          "name": "stdout"
        }
      ]
    },
    {
      "cell_type": "markdown",
      "metadata": {
        "id": "tafqgBIUwbLg"
      },
      "source": [
        "###Confronto con un modello casuale"
      ]
    },
    {
      "cell_type": "markdown",
      "metadata": {
        "id": "dD0nSQw-oRNM"
      },
      "source": [
        "La seguente funzione calcola, come la precedente, l'intervallo per il confronto fra due modelli ma utilizza una confidenza al 99% invece del 95%"
      ]
    },
    {
      "cell_type": "code",
      "metadata": {
        "id": "fi1LaALw3pF6"
      },
      "source": [
        "def intervallo99(mse1, mse2):\n",
        "  d = np.abs(mse1 - mse2)\n",
        "  variance = (mse1 * (1 - mse1)) / len(X_val) + (mse2 * (1 - mse2)) / len(X_val)\n",
        "  d_min = d - 2.58 * np.sqrt(variance)\n",
        "  d_max = d + 2.58 * np.sqrt(variance)\n",
        "  return d_min, d_max"
      ],
      "execution_count": 175,
      "outputs": []
    },
    {
      "cell_type": "code",
      "metadata": {
        "colab": {
          "base_uri": "https://localhost:8080/"
        },
        "id": "XK5eO8EgwdWy",
        "outputId": "e564d213-aa70-41cb-cdb9-b6285677df86"
      },
      "source": [
        "random = DummyClassifier(strategy=\"uniform\", random_state=42)\n",
        "random.fit(X_train_S, y_train)\n",
        "y_pred = random.predict(X_val_S)\n",
        "print(random.score(X_val_S, y_val))"
      ],
      "execution_count": 176,
      "outputs": [
        {
          "output_type": "stream",
          "text": [
            "0.5028717294192725\n"
          ],
          "name": "stdout"
        }
      ]
    },
    {
      "cell_type": "code",
      "metadata": {
        "colab": {
          "base_uri": "https://localhost:8080/"
        },
        "id": "io16GmDOwv8v",
        "outputId": "1d162873-585e-47fe-af82-695e1b542264"
      },
      "source": [
        "mse_random = mean_squared_error(y_val, y_pred)\n",
        "print(mse_random)"
      ],
      "execution_count": 177,
      "outputs": [
        {
          "output_type": "stream",
          "text": [
            "0.4971282705807275\n"
          ],
          "name": "stdout"
        }
      ]
    },
    {
      "cell_type": "code",
      "metadata": {
        "colab": {
          "base_uri": "https://localhost:8080/"
        },
        "id": "wnWpv2DGnmhC",
        "outputId": "5b517f21-b5a3-4faf-85f5-53473ac05423"
      },
      "source": [
        "print (f\"{'Models':<40} Interval\")\n",
        "for m in mse:\n",
        "  mse_i = eval(m[0])\n",
        "  name_i = m[1]\n",
        "  comparison = name_i + \" vs Random\"\n",
        "  print (f\"{comparison:<40} {np.round(intervallo99(mse_i , mse_random), 4)} \")"
      ],
      "execution_count": 178,
      "outputs": [
        {
          "output_type": "stream",
          "text": [
            "Models                                   Interval\n",
            "Perceptron vs Random                     [0.1701 0.2325] \n",
            "Logistic Regression vs Random            [0.2529 0.3125] \n",
            "SVM vs Random                            [0.4034 0.455 ] \n",
            "Decision Tree vs Random                  [0.4192 0.4697] \n",
            "XGBoost vs Random                        [0.4454 0.4939] \n"
          ],
          "name": "stdout"
        }
      ]
    },
    {
      "cell_type": "markdown",
      "metadata": {
        "id": "WkN9YQ-c3giu"
      },
      "source": [
        "Possiamo vedere come la differenza fra tutti i modelli e uno random sia sempre statisticamente significativa quindi i modelli implementati sono tutti accettabili "
      ]
    },
    {
      "cell_type": "markdown",
      "metadata": {
        "id": "O3WPwUOmIejk"
      },
      "source": [
        "##Conclusioni"
      ]
    },
    {
      "cell_type": "markdown",
      "metadata": {
        "id": "5c03LctwIrGh"
      },
      "source": [
        "Dalla precedente sezione *Model Comparison* possiamo vedere che fra tutti i modelli la differenza è stasticamente significativa."
      ]
    },
    {
      "cell_type": "markdown",
      "metadata": {
        "id": "fyrF9rCQIsVr"
      },
      "source": [
        "Riassunto dei vari f1-score:"
      ]
    },
    {
      "cell_type": "code",
      "metadata": {
        "colab": {
          "base_uri": "https://localhost:8080/"
        },
        "id": "Jtil616UKPFu",
        "outputId": "43d662aa-a309-455a-cdce-d206a73424f7"
      },
      "source": [
        "print (f\"{'Model':<40} f-1 score\")\n",
        "for k in accuracy.keys():\n",
        "    print(f\"{k:<40} {accuracy[k]}\")"
      ],
      "execution_count": 179,
      "outputs": [
        {
          "output_type": "stream",
          "text": [
            "Model                                    f-1 score\n",
            "Perceptron                               (0.7272, 0.7578)\n",
            "Perceptron with gs                       (0.6824, 0.7145)\n",
            "Logistic Regression                      (0.7708, 0.7996)\n",
            "Logistic regression with gs              (0.7708, 0.7996)\n",
            "Support Vector Machines                  (0.9225, 0.9402)\n",
            "Decision tree                            (0.9389, 0.9546)\n",
            "XGBoost                                  (0.9662, 0.9777)\n"
          ],
          "name": "stdout"
        }
      ]
    },
    {
      "cell_type": "markdown",
      "metadata": {
        "id": "Ukfx4T0eqEsU"
      },
      "source": [
        "Visti i risultati ottenuti per l'indice *f1-score* per i vari modelli si può dire che i migliori sono:\n",
        "- SVM con kernel RBF non lineare\n",
        "- Decision tree\n",
        "- XGBoost\n",
        "\n",
        "Questo probabilmente è dovuto al fatto che inizialmente la correlazione fra le 11 feature di input è abbastanza bassa quindi usando modelli non lineari andiamo a separare meglio i dati.\n",
        "\n",
        "Questo lo si può notare anche dal fatto che se implementiamo un modello SVM con kernel lineare otteniamo un f-1 score molto più basso (come si vede nell'esempio di seguito) "
      ]
    },
    {
      "cell_type": "code",
      "metadata": {
        "colab": {
          "base_uri": "https://localhost:8080/"
        },
        "id": "PlbsOITDHPcJ",
        "outputId": "ec0a6f5c-8765-4b8b-8eee-1c0fe74d6bf8"
      },
      "source": [
        "model = SVC()\n",
        "parameters = {\n",
        "    \"kernel\": [\"linear\"],\n",
        "    \"C\": np.logspace(-2, 0, 3)\n",
        "}\n",
        "\n",
        "skf = StratifiedKFold(3, shuffle=True, random_state=42)\n",
        "gs = GridSearchCV(model, parameters, cv=skf)\n",
        "\n",
        "gs.fit(X_train_S, y_train)"
      ],
      "execution_count": 180,
      "outputs": [
        {
          "output_type": "execute_result",
          "data": {
            "text/plain": [
              "GridSearchCV(cv=StratifiedKFold(n_splits=3, random_state=42, shuffle=True),\n",
              "             error_score=nan,\n",
              "             estimator=SVC(C=1.0, break_ties=False, cache_size=200,\n",
              "                           class_weight=None, coef0=0.0,\n",
              "                           decision_function_shape='ovr', degree=3,\n",
              "                           gamma='scale', kernel='rbf', max_iter=-1,\n",
              "                           probability=False, random_state=None, shrinking=True,\n",
              "                           tol=0.001, verbose=False),\n",
              "             iid='deprecated', n_jobs=None,\n",
              "             param_grid={'C': array([0.01, 0.1 , 1.  ]), 'kernel': ['linear']},\n",
              "             pre_dispatch='2*n_jobs', refit=True, return_train_score=False,\n",
              "             scoring=None, verbose=0)"
            ]
          },
          "metadata": {
            "tags": []
          },
          "execution_count": 180
        }
      ]
    },
    {
      "cell_type": "code",
      "metadata": {
        "colab": {
          "base_uri": "https://localhost:8080/",
          "height": 111
        },
        "id": "cH9ohIAvHXTh",
        "outputId": "6772ac83-afd8-4ae7-fe44-b0545d1cec31"
      },
      "source": [
        "y_pred = gs.predict(X_val_S)\n",
        "cm = confusion_matrix(y_val, y_pred)\n",
        "pd.DataFrame(cm, index=gs.best_estimator_.classes_, columns=gs.best_estimator_.classes_)"
      ],
      "execution_count": 181,
      "outputs": [
        {
          "output_type": "execute_result",
          "data": {
            "text/html": [
              "<div>\n",
              "<style scoped>\n",
              "    .dataframe tbody tr th:only-of-type {\n",
              "        vertical-align: middle;\n",
              "    }\n",
              "\n",
              "    .dataframe tbody tr th {\n",
              "        vertical-align: top;\n",
              "    }\n",
              "\n",
              "    .dataframe thead th {\n",
              "        text-align: right;\n",
              "    }\n",
              "</style>\n",
              "<table border=\"1\" class=\"dataframe\">\n",
              "  <thead>\n",
              "    <tr style=\"text-align: right;\">\n",
              "      <th></th>\n",
              "      <th>0</th>\n",
              "      <th>1</th>\n",
              "    </tr>\n",
              "  </thead>\n",
              "  <tbody>\n",
              "    <tr>\n",
              "      <th>0</th>\n",
              "      <td>1183</td>\n",
              "      <td>404</td>\n",
              "    </tr>\n",
              "    <tr>\n",
              "      <th>1</th>\n",
              "      <td>272</td>\n",
              "      <td>1275</td>\n",
              "    </tr>\n",
              "  </tbody>\n",
              "</table>\n",
              "</div>"
            ],
            "text/plain": [
              "      0     1\n",
              "0  1183   404\n",
              "1   272  1275"
            ]
          },
          "metadata": {
            "tags": []
          },
          "execution_count": 181
        }
      ]
    },
    {
      "cell_type": "code",
      "metadata": {
        "colab": {
          "base_uri": "https://localhost:8080/"
        },
        "id": "_a0IB1c-VvMA",
        "outputId": "cbeaf6bb-71a6-40f6-f80a-f00e3397a7cd"
      },
      "source": [
        "X_val.shape"
      ],
      "execution_count": 182,
      "outputs": [
        {
          "output_type": "execute_result",
          "data": {
            "text/plain": [
              "(3134, 20)"
            ]
          },
          "metadata": {
            "tags": []
          },
          "execution_count": 182
        }
      ]
    },
    {
      "cell_type": "code",
      "metadata": {
        "colab": {
          "base_uri": "https://localhost:8080/"
        },
        "id": "gSpvmKnRHYzz",
        "outputId": "6af573df-f34c-4717-d29b-2b09a73cc0af"
      },
      "source": [
        "precision = precision_score(y_val, y_pred, pos_label=0)\n",
        "recall = recall_score(y_val, y_pred, pos_label=0)\n",
        "f1 = f1_score(y_val, y_pred, average=\"macro\")\n",
        "print(f\"precision: {precision}, recall: {recall}, f1-score: {f1}\")"
      ],
      "execution_count": 183,
      "outputs": [
        {
          "output_type": "stream",
          "text": [
            "precision: 0.8130584192439863, recall: 0.7454316320100819, f1-score: 0.7841151753117035\n"
          ],
          "name": "stdout"
        }
      ]
    }
  ]
}